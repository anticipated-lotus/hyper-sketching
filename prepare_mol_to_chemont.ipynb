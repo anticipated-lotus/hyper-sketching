{
 "cells": [
  {
   "cell_type": "markdown",
   "id": "fc63f557-9f20-42c3-8300-24ce3604e444",
   "metadata": {},
   "source": [
    "# Prepare the molecules"
   ]
  },
  {
   "cell_type": "markdown",
   "id": "37ab87a1-42ff-4d38-b9e2-804c08fff199",
   "metadata": {},
   "source": [
    "## Prepare chemical ontologies"
   ]
  },
  {
   "cell_type": "markdown",
   "id": "b94b082f-79db-43c6-8346-a4b3a15aaa0f",
   "metadata": {},
   "source": [
    "Let's prepare the edges of Chemont"
   ]
  },
  {
   "cell_type": "code",
   "execution_count": 1,
   "id": "9ca0d200-c321-474f-985f-3a399fb38ecf",
   "metadata": {},
   "outputs": [],
   "source": [
    "import obonet\n",
    "import networkx as nx\n",
    "import pandas as pd"
   ]
  },
  {
   "cell_type": "code",
   "execution_count": 3,
   "id": "ecbf06b9-bcd0-491e-a97c-228f3078e709",
   "metadata": {},
   "outputs": [],
   "source": [
    "#first read the Classyfire ontology\n",
    "chemont = obonet.read_obo('./data/molecules/ChemOnt_2_1.obo')\n",
    "\n",
    "#then write it as an edge list\n",
    "nx.write_edgelist(chemont, \"./data/molecules/chemont_edges.csv\",\n",
    "                  data=False,\n",
    "                 delimiter=\"\\t\")\n",
    "\n",
    "\n",
    "x = pd.read_csv(\"./data/molecules/chemont_edges.csv\", sep=\"\\t\", header=None)\n",
    "x[2] = 'biolink:subclass_of'\n",
    "x.rename(columns={0: 'child', 1: 'parent', 2: 'type'}, inplace=True)\n",
    "x.to_csv(\"./data/molecules/chemont_edges.csv\")\n",
    "del x"
   ]
  },
  {
   "cell_type": "markdown",
   "id": "cc5382c8-5441-4019-bb97-6e01133c575b",
   "metadata": {},
   "source": [
    "Now the nodes"
   ]
  },
  {
   "cell_type": "code",
   "execution_count": 4,
   "id": "858da8bb-e678-484b-9c7f-5b8e08a834c5",
   "metadata": {},
   "outputs": [],
   "source": [
    "def parse_file(file_path):\n",
    "    id_list = []\n",
    "    name_list = []\n",
    "\n",
    "    with open(file_path, 'r') as file:\n",
    "        for line in file:\n",
    "            if line.startswith('id: '):\n",
    "                id_list.append(line.strip().split(': ')[1])\n",
    "            elif line.startswith('name: '):\n",
    "                name_list.append(line.strip().split(': ')[1])\n",
    "                \n",
    "    df = pd.DataFrame({\n",
    "        'id': id_list,\n",
    "        'name': name_list,\n",
    "    })\n",
    "\n",
    "    return df"
   ]
  },
  {
   "cell_type": "code",
   "execution_count": 5,
   "id": "046cf316-1a7b-4c37-bcbb-594d03b04e31",
   "metadata": {},
   "outputs": [],
   "source": [
    "chemontid_to_name = parse_file(\"./data/molecules/ChemOnt_2_1.obo\")\n",
    "chemontid_to_name['type'] = 'biolink:ChemicalEntity'\n",
    "chemontid_to_name.to_csv(\"./data/molecules/chemont_nodes.csv\", sep=\"\\t\")"
   ]
  },
  {
   "cell_type": "markdown",
   "id": "6acb35ec-abb0-4b00-bdcb-1df9aeb76857",
   "metadata": {},
   "source": [
    "## Now we should link the molecules to the chemical ontologies"
   ]
  },
  {
   "cell_type": "code",
   "execution_count": 6,
   "id": "e1b55032-388b-4336-b2a8-aec08ed2928d",
   "metadata": {},
   "outputs": [],
   "source": [
    "lotus = pd.read_csv(\"./data/molecules/230106_frozen_metadata.csv.gz\", low_memory=False)"
   ]
  },
  {
   "cell_type": "code",
   "execution_count": 7,
   "id": "51d1c335-8227-41c5-88ac-e5a18d8c6805",
   "metadata": {},
   "outputs": [],
   "source": [
    "lotus['wd_structure'] = lotus['structure_wikidata'].str.extract(r\"(Q\\d+)\")\n",
    "lotus['wd_structure'] = 'wd:' + lotus['wd_structure']"
   ]
  },
  {
   "cell_type": "code",
   "execution_count": 17,
   "id": "d3fd082f-fa08-4aca-b01f-2eadd67f0783",
   "metadata": {},
   "outputs": [],
   "source": [
    "edges = pd.DataFrame({\n",
    "    'child': lotus.wd_structure,\n",
    "    'parent_name': lotus.structure_taxonomy_classyfire_04directparent\n",
    "}).drop_duplicates().dropna().reset_index(drop=True)"
   ]
  },
  {
   "cell_type": "code",
   "execution_count": 14,
   "id": "13f583f7-67dc-463b-9b3d-7543e9bd1769",
   "metadata": {},
   "outputs": [],
   "source": [
    "chemont_nodes = pd.read_csv(\"./data/molecules/chemont_nodes.csv\", sep=\"\\t\", index_col=0)"
   ]
  },
  {
   "cell_type": "code",
   "execution_count": 16,
   "id": "b5dc0e40-279a-4cbc-9d44-e8170b3f9211",
   "metadata": {},
   "outputs": [],
   "source": [
    "mapping = {i:j for i,j in zip(chemont_nodes['name'], chemont_nodes['id'])}"
   ]
  },
  {
   "cell_type": "code",
   "execution_count": 19,
   "id": "c46e8525-bf24-43e9-a23e-1d4e87aeffe8",
   "metadata": {},
   "outputs": [],
   "source": [
    "edges['parent'] = edges['parent_name'].map(mapping)"
   ]
  },
  {
   "cell_type": "code",
   "execution_count": 21,
   "id": "e8f453a0-91d0-402b-961d-662c05cde393",
   "metadata": {},
   "outputs": [],
   "source": [
    "edges.drop(columns=['parent_name'], inplace=True)"
   ]
  },
  {
   "cell_type": "code",
   "execution_count": 43,
   "id": "17d6ec98-1032-4536-a490-0632bb18dbe1",
   "metadata": {},
   "outputs": [],
   "source": [
    "edges['type'] = \"biolink:subclass_of\""
   ]
  },
  {
   "cell_type": "code",
   "execution_count": 44,
   "id": "aefca0ce-8c8f-4353-89f9-284b81c3478f",
   "metadata": {},
   "outputs": [],
   "source": [
    "nodes = pd.DataFrame({'node': pd.concat([edges.child, edges.parent]),\n",
    "                     'type': 'biolink:ChemicalEntity'}).drop_duplicates().reset_index(drop=True)"
   ]
  },
  {
   "cell_type": "code",
   "execution_count": 45,
   "id": "d22a52c5-30cf-47d4-86a3-955acc4b358e",
   "metadata": {},
   "outputs": [],
   "source": [
    "edges.to_csv(\"./data/molecules/mol_to_chemont_edges.csv\")\n",
    "nodes.to_csv(\"./data/molecules/mol_to_chemont_nodes.csv\")"
   ]
  }
 ],
 "metadata": {
  "kernelspec": {
   "display_name": "Python 3 (ipykernel)",
   "language": "python",
   "name": "python3"
  },
  "language_info": {
   "codemirror_mode": {
    "name": "ipython",
    "version": 3
   },
   "file_extension": ".py",
   "mimetype": "text/x-python",
   "name": "python",
   "nbconvert_exporter": "python",
   "pygments_lexer": "ipython3",
   "version": "3.11.4"
  }
 },
 "nbformat": 4,
 "nbformat_minor": 5
}
