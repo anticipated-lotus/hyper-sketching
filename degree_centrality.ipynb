{
 "cells": [
  {
   "cell_type": "code",
   "execution_count": 1,
   "id": "9baf6cef-9921-4ef3-8a39-50d930af7228",
   "metadata": {},
   "outputs": [
    {
     "name": "stderr",
     "output_type": "stream",
     "text": [
      "2024-01-17 13:29:31.510399: I tensorflow/core/platform/cpu_feature_guard.cc:182] This TensorFlow binary is optimized to use available CPU instructions in performance-critical operations.\n",
      "To enable the following instructions: AVX2 FMA, in other operations, rebuild TensorFlow with the appropriate compiler flags.\n",
      "INFO:pykeen.utils:Using opt_einsum\n"
     ]
    }
   ],
   "source": [
    "import grape\n",
    "from grape import Graph"
   ]
  },
  {
   "cell_type": "code",
   "execution_count": 2,
   "id": "da14f2ed-7021-49bb-a88c-baa5d2976b35",
   "metadata": {},
   "outputs": [],
   "source": [
    "import networkx as nx\n",
    "import pandas as pd\n",
    "import numpy as np"
   ]
  },
  {
   "cell_type": "code",
   "execution_count": 37,
   "id": "204128a4-6103-47a3-8cfd-6e668af4c75e",
   "metadata": {},
   "outputs": [],
   "source": [
    "molecules_to_chemont = Graph.from_csv(\n",
    "    node_path=\"./data/molecules/mol_to_chemont_nodes.csv\",\n",
    "    node_list_separator=\",\",\n",
    "    node_list_header=True,\n",
    "    nodes_column_number=1,\n",
    "    node_list_node_types_column_number=2,\n",
    "    edge_path=\"./data/molecules/mol_to_chemont_edges.csv\",\n",
    "    edge_list_separator=\",\",\n",
    "    edge_list_header=True,\n",
    "    sources_column_number=1,\n",
    "    destinations_column_number=2,\n",
    "    edge_list_edge_types_column_number=3,\n",
    "    weights_column_number=4,\n",
    "    directed=True\n",
    ")"
   ]
  },
  {
   "cell_type": "code",
   "execution_count": 38,
   "id": "7ec5a689-ebdd-4bc1-9370-275b9404675c",
   "metadata": {},
   "outputs": [],
   "source": [
    "chemont = Graph.from_csv(\n",
    "    node_path=\"./data/molecules/chemont_nodes.csv\",\n",
    "    node_list_separator=\"\\t\",\n",
    "    node_list_header=True,\n",
    "    nodes_column_number=1,\n",
    "    node_list_node_types_column_number=3,\n",
    "    edge_path=\"./data/molecules/chemont_edges.csv\",\n",
    "    edge_list_separator=\",\",\n",
    "    edge_list_header=True,\n",
    "    sources_column_number=1,\n",
    "    destinations_column_number=2,\n",
    "    edge_list_edge_types_column_number=3,\n",
    "    weights_column_number=4,\n",
    "    directed=True\n",
    ")"
   ]
  },
  {
   "cell_type": "code",
   "execution_count": 39,
   "id": "ffaeba69-4027-4b3b-b7d4-c57fb1fd8021",
   "metadata": {},
   "outputs": [],
   "source": [
    "chemicals = chemont|molecules_to_chemont"
   ]
  },
  {
   "cell_type": "code",
   "execution_count": 40,
   "id": "0e0b9946-6e99-4b7f-8579-15af1724637d",
   "metadata": {},
   "outputs": [
    {
     "data": {
      "text/html": [
       "<div class=\"graph-report\"><style>.graph-report li {margin: 0.5em 0 0.5em 0;}.graph-report .paragraph {text-align: justify;word-break: break-all;}.graph-report .small-columns {column-count: 4;column-gap: 2em;}.graph-report .medium-columns {column-count: 3;column-gap: 2em;}.graph-report .large-columns {column-count: 2;column-gap: 2em;}.graph-report .single-column {}@media only screen and (max-width: 600px) {.graph-report .small-columns {column-count: 1;}.graph-report .medium-columns {column-count: 1;}.graph-report .large-columns {column-count: 1;}}@media only screen and (min-width: 600px) and (max-width: 800px) {.graph-report .small-columns {column-count: 2;}.graph-report .medium-columns {column-count: 1;}.graph-report .large-columns {column-count: 1;}}@media only screen and (min-width: 800px) and (max-width: 1024px) {.graph-report .small-columns {column-count: 3;}.graph-report .medium-columns {column-count: 2;}.graph-report .large-columns {column-count: 1;}}</style><h2>(Graph | Graph)</h2><p class=\"paragraph\">The undirected graph (Graph | Graph) has 223.59K homogeneous nodes and 223.60K homogeneous edges. The graph is connected, that is, it is composed of a single connected component that includes all nodes and edges. The RAM requirements for the nodes and edges data structures are 21.94MB and 3.58MB respectively.</p><h3 style=\"margin: 1em 0 0 0;\">Degree centrality</h3><p class=\"paragraph\">The minimum node degree is 1, the maximum node degree is 9.94K, the mode degree is 1, the mean degree is 2.00 and the node degree median is 1.</p><p class=\"paragraph\">The nodes with the highest degree centrality are CHEMONTID:0001553 (degree 9.94K and node type <a href='https://biolink.github.io/biolink-model/docs/ChemicalEntity.html' target='_blank' title='Go to BioLink to get more informations about biolink:ChemicalEntity'>biolink:ChemicalEntity</a>), CHEMONTID:0001550 (degree 6.59K and node type <a href='https://biolink.github.io/biolink-model/docs/ChemicalEntity.html' target='_blank' title='Go to BioLink to get more informations about biolink:ChemicalEntity'>biolink:ChemicalEntity</a>), CHEMONTID:0001551 (degree 5.73K and node type <a href='https://biolink.github.io/biolink-model/docs/ChemicalEntity.html' target='_blank' title='Go to BioLink to get more informations about biolink:ChemicalEntity'>biolink:ChemicalEntity</a>), CHEMONTID:0002358 (degree 5.16K and node type <a href='https://biolink.github.io/biolink-model/docs/ChemicalEntity.html' target='_blank' title='Go to BioLink to get more informations about biolink:ChemicalEntity'>biolink:ChemicalEntity</a>) and CHEMONTID:0001283 (degree 3.05K and node type <a href='https://biolink.github.io/biolink-model/docs/ChemicalEntity.html' target='_blank' title='Go to BioLink to get more informations about biolink:ChemicalEntity'>biolink:ChemicalEntity</a>).</p><h3 style=\"margin: 1em 0 0 0;\">Weights</h3><p class=\"paragraph\">The minimum edge weight is 1, the maximum edge weight is 1 and the total edge weight is 447194. The RAM requirement for the edge weights data structure is 1.79MB.</p><h3 style=\"margin: 1em 0 0 0;\">Node types</h3><p class=\"paragraph\">The graph has a single node type, which is <a href='https://biolink.github.io/biolink-model/docs/ChemicalEntity.html' target='_blank' title='Go to BioLink to get more informations about biolink:ChemicalEntity'>biolink:ChemicalEntity</a>. The RAM requirement for the node types data structure is 11.63MB.</p><h4 style=\"margin: 1em 0 0 0;\">Homogeneous node types</h4><p class=\"paragraph\">Homogeneous node types are node types that are assigned to all the nodes in the graph, making the node type relatively meaningless, as it adds no more information than the fact that the node is in the graph. The graph contains a homogeneous node type, which is <a href='https://biolink.github.io/biolink-model/docs/ChemicalEntity.html' target='_blank' title='Go to BioLink to get more informations about biolink:ChemicalEntity'>biolink:ChemicalEntity</a>.</p><h3 style=\"margin: 1em 0 0 0;\">Edge types</h3><p class=\"paragraph\">The graph has a single edge type, which is <a href='https://biolink.github.io/biolink-model/docs/subclass_of.html' target='_blank' title='Go to BioLink to get more informations about biolink:subclass_of'>biolink:subclass_of</a>. The RAM requirement for the edge types data structure is 1.79MB.</p><h3 style=\"margin: 1em 0 0 0;\">Topological Oddities</h3><p class=\"paragraph\">A topological oddity is a set of nodes in the graph that <i>may be derived</i> by an error during the generation of the edge list of the graph and, depending on the task, could bias the results of topology-based models. In the following paragraph, we will describe the detected topological oddities.</p><h4 style=\"margin: 1em 0 0 0;\">Dendritic trees</h4><p class=\"paragraph\">A dendritic tree is a tree-like structure starting from a root node that is part of another strongly connected component. We have detected 22 dendritic trees in the graph, involving a total of 219.32K nodes (98.09%) and 438.65K edges (98.09%), with the largest one involving 63.62K nodes and 127.24K edges. The detected dendritic trees, sorted by decreasing size, are:</p><ol class=\"large-columns\"><li><p class=\"paragraph\">Dendritic tree starting from the root node CHEMONTID:0000259 (degree 17), and containing 63.62K nodes, with a maximal depth of 5, which are CHEMONTID:0000357 (degree 134), CHEMONTID:0001283 (degree 3.05K), CHEMONTID:0001311 (degree 10), CHEMONTID:0001535 (degree 59) and CHEMONTID:0001549 (degree 243). Its nodes have a single node type, which is <a href='https://biolink.github.io/biolink-model/docs/ChemicalEntity.html' target='_blank' title='Go to BioLink to get more informations about biolink:ChemicalEntity'>biolink:ChemicalEntity</a>. Its edges have a single edge type, which is <a href='https://biolink.github.io/biolink-model/docs/subclass_of.html' target='_blank' title='Go to BioLink to get more informations about biolink:subclass_of'>biolink:subclass_of</a>.</p></li>\n",
       "<li><p class=\"paragraph\">Dendritic tree starting from the root node CHEMONTID:0000000 (degree 27), and containing 43.07K nodes, with a maximal depth of 9, which are CHEMONTID:0000002 (degree 262), CHEMONTID:0000004 (degree 53), CHEMONTID:0000016 (degree 3), CHEMONTID:0000267 (degree 17) and CHEMONTID:0000289 (degree 41). Its nodes have a single node type, which is <a href='https://biolink.github.io/biolink-model/docs/ChemicalEntity.html' target='_blank' title='Go to BioLink to get more informations about biolink:ChemicalEntity'>biolink:ChemicalEntity</a>. Its edges have a single edge type, which is <a href='https://biolink.github.io/biolink-model/docs/subclass_of.html' target='_blank' title='Go to BioLink to get more informations about biolink:subclass_of'>biolink:subclass_of</a>.</p></li>\n",
       "<li><p class=\"paragraph\">Dendritic tree starting from the root node CHEMONTID:0000261 (degree 35), and containing 31.37K nodes, with a maximal depth of 7, which are CHEMONTID:0000029 (degree 70), CHEMONTID:0000064 (degree 558), CHEMONTID:0000147 (degree 2.65K), CHEMONTID:0000181 (degree 51) and CHEMONTID:0000238 (degree 281). Its nodes have a single node type, which is <a href='https://biolink.github.io/biolink-model/docs/ChemicalEntity.html' target='_blank' title='Go to BioLink to get more informations about biolink:ChemicalEntity'>biolink:ChemicalEntity</a>. Its edges have a single edge type, which is <a href='https://biolink.github.io/biolink-model/docs/subclass_of.html' target='_blank' title='Go to BioLink to get more informations about biolink:subclass_of'>biolink:subclass_of</a>.</p></li>\n",
       "<li><p class=\"paragraph\">Dendritic tree starting from the root node CHEMONTID:0000012 (degree 14), and containing 26.80K nodes, with a maximal depth of 7, which are CHEMONTID:0000175 (degree 10), CHEMONTID:0000256 (degree 19), CHEMONTID:0000257 (degree 6), CHEMONTID:0000258 (degree 244) and CHEMONTID:0001103 (degree 26). Its nodes have a single node type, which is <a href='https://biolink.github.io/biolink-model/docs/ChemicalEntity.html' target='_blank' title='Go to BioLink to get more informations about biolink:ChemicalEntity'>biolink:ChemicalEntity</a>. Its edges have a single edge type, which is <a href='https://biolink.github.io/biolink-model/docs/subclass_of.html' target='_blank' title='Go to BioLink to get more informations about biolink:subclass_of'>biolink:subclass_of</a>.</p></li>\n",
       "<li><p class=\"paragraph\">Dendritic tree starting from the root node CHEMONTID:0002448 (degree 52), and containing 14.29K nodes, with a maximal depth of 7, which are CHEMONTID:0000018 (degree 482), CHEMONTID:0000019 (degree 50), CHEMONTID:0000020 (degree 121), CHEMONTID:0000021 (degree 18) and CHEMONTID:0000022 (degree 35). Its nodes have a single node type, which is <a href='https://biolink.github.io/biolink-model/docs/ChemicalEntity.html' target='_blank' title='Go to BioLink to get more informations about biolink:ChemicalEntity'>biolink:ChemicalEntity</a>. Its edges have a single edge type, which is <a href='https://biolink.github.io/biolink-model/docs/subclass_of.html' target='_blank' title='Go to BioLink to get more informations about biolink:subclass_of'>biolink:subclass_of</a>.</p></li>\n",
       "<li><p class=\"paragraph\">Dendritic tree starting from the root node CHEMONTID:0000264 (degree 86), and containing 13.04K nodes, with a maximal depth of 8, which are CHEMONTID:0000039, CHEMONTID:0000265 (degree 23), CHEMONTID:0000268 (degree 5), CHEMONTID:0000269 (degree 6) and CHEMONTID:0000364 (degree 13). Its nodes have a single node type, which is <a href='https://biolink.github.io/biolink-model/docs/ChemicalEntity.html' target='_blank' title='Go to BioLink to get more informations about biolink:ChemicalEntity'>biolink:ChemicalEntity</a>. Its edges have a single edge type, which is <a href='https://biolink.github.io/biolink-model/docs/subclass_of.html' target='_blank' title='Go to BioLink to get more informations about biolink:subclass_of'>biolink:subclass_of</a>.</p></li></ol><p class=\"paragraph\">And other 16 dendritic trees.</p><h4 style=\"margin: 1em 0 0 0;\">Dendritic stars</h4><p class=\"paragraph\">A dendritic star is a dendritic tree with a maximal depth of one, where nodes with maximal unique degree one are connected to a central root node with high degree and inside a strongly connected component. We have detected 10 dendritic stars in the graph, involving a total of 4.23K nodes (1.89%) and 8.45K edges (1.89%), with the largest one involving 2.23K nodes and 4.47K edges. The detected dendritic stars, sorted by decreasing size, are:</p><ol class=\"large-columns\"><li><p class=\"paragraph\">Dendritic star starting from the root node CHEMONTID:0004165 (degree 2.24K), and containing 2.23K nodes, with a maximal depth of 1, which are <a href='https://www.wikidata.org/wiki/Q102165855' target='_blank' title='Go to WikiData to get more informations about wd:Q102165855'>wd:Q102165855</a>, <a href='https://www.wikidata.org/wiki/Q103813492' target='_blank' title='Go to WikiData to get more informations about wd:Q103813492'>wd:Q103813492</a>, <a href='https://www.wikidata.org/wiki/Q103815876' target='_blank' title='Go to WikiData to get more informations about wd:Q103815876'>wd:Q103815876</a>, <a href='https://www.wikidata.org/wiki/Q103815891' target='_blank' title='Go to WikiData to get more informations about wd:Q103815891'>wd:Q103815891</a> and <a href='https://www.wikidata.org/wiki/Q103815892' target='_blank' title='Go to WikiData to get more informations about wd:Q103815892'>wd:Q103815892</a>. Its nodes have a single node type, which is <a href='https://biolink.github.io/biolink-model/docs/ChemicalEntity.html' target='_blank' title='Go to BioLink to get more informations about biolink:ChemicalEntity'>biolink:ChemicalEntity</a>. Its edges have a single edge type, which is <a href='https://biolink.github.io/biolink-model/docs/subclass_of.html' target='_blank' title='Go to BioLink to get more informations about biolink:subclass_of'>biolink:subclass_of</a>.</p></li>\n",
       "<li><p class=\"paragraph\">Dendritic star starting from the root node CHEMONTID:0000153 (degree 600), and containing 598 nodes, with a maximal depth of 1, which are <a href='https://www.wikidata.org/wiki/Q103795839' target='_blank' title='Go to WikiData to get more informations about wd:Q103795839'>wd:Q103795839</a>, <a href='https://www.wikidata.org/wiki/Q103815981' target='_blank' title='Go to WikiData to get more informations about wd:Q103815981'>wd:Q103815981</a>, <a href='https://www.wikidata.org/wiki/Q103816976' target='_blank' title='Go to WikiData to get more informations about wd:Q103816976'>wd:Q103816976</a>, <a href='https://www.wikidata.org/wiki/Q103817107' target='_blank' title='Go to WikiData to get more informations about wd:Q103817107'>wd:Q103817107</a> and <a href='https://www.wikidata.org/wiki/Q104085275' target='_blank' title='Go to WikiData to get more informations about wd:Q104085275'>wd:Q104085275</a>. Its nodes have a single node type, which is <a href='https://biolink.github.io/biolink-model/docs/ChemicalEntity.html' target='_blank' title='Go to BioLink to get more informations about biolink:ChemicalEntity'>biolink:ChemicalEntity</a>. Its edges have a single edge type, which is <a href='https://biolink.github.io/biolink-model/docs/subclass_of.html' target='_blank' title='Go to BioLink to get more informations about biolink:subclass_of'>biolink:subclass_of</a>.</p></li>\n",
       "<li><p class=\"paragraph\">Dendritic star starting from the root node CHEMONTID:0003298 (degree 448), and containing 446 nodes, with a maximal depth of 1, which are <a href='https://www.wikidata.org/wiki/Q103816104' target='_blank' title='Go to WikiData to get more informations about wd:Q103816104'>wd:Q103816104</a>, <a href='https://www.wikidata.org/wiki/Q103816603' target='_blank' title='Go to WikiData to get more informations about wd:Q103816603'>wd:Q103816603</a>, <a href='https://www.wikidata.org/wiki/Q103818141' target='_blank' title='Go to WikiData to get more informations about wd:Q103818141'>wd:Q103818141</a>, <a href='https://www.wikidata.org/wiki/Q104166870' target='_blank' title='Go to WikiData to get more informations about wd:Q104166870'>wd:Q104166870</a> and <a href='https://www.wikidata.org/wiki/Q104167482' target='_blank' title='Go to WikiData to get more informations about wd:Q104167482'>wd:Q104167482</a>. Its nodes have a single node type, which is <a href='https://biolink.github.io/biolink-model/docs/ChemicalEntity.html' target='_blank' title='Go to BioLink to get more informations about biolink:ChemicalEntity'>biolink:ChemicalEntity</a>. Its edges have a single edge type, which is <a href='https://biolink.github.io/biolink-model/docs/subclass_of.html' target='_blank' title='Go to BioLink to get more informations about biolink:subclass_of'>biolink:subclass_of</a>.</p></li>\n",
       "<li><p class=\"paragraph\">Dendritic star starting from the root node CHEMONTID:0000282 (degree 438), and containing 435 nodes, with a maximal depth of 1, which are <a href='https://www.wikidata.org/wiki/Q103788512' target='_blank' title='Go to WikiData to get more informations about wd:Q103788512'>wd:Q103788512</a>, <a href='https://www.wikidata.org/wiki/Q103816171' target='_blank' title='Go to WikiData to get more informations about wd:Q103816171'>wd:Q103816171</a>, <a href='https://www.wikidata.org/wiki/Q103816695' target='_blank' title='Go to WikiData to get more informations about wd:Q103816695'>wd:Q103816695</a>, <a href='https://www.wikidata.org/wiki/Q103817098' target='_blank' title='Go to WikiData to get more informations about wd:Q103817098'>wd:Q103817098</a> and <a href='https://www.wikidata.org/wiki/Q103818400' target='_blank' title='Go to WikiData to get more informations about wd:Q103818400'>wd:Q103818400</a>. Its nodes have a single node type, which is <a href='https://biolink.github.io/biolink-model/docs/ChemicalEntity.html' target='_blank' title='Go to BioLink to get more informations about biolink:ChemicalEntity'>biolink:ChemicalEntity</a>. Its edges have a single edge type, which is <a href='https://biolink.github.io/biolink-model/docs/subclass_of.html' target='_blank' title='Go to BioLink to get more informations about biolink:subclass_of'>biolink:subclass_of</a>.</p></li>\n",
       "<li><p class=\"paragraph\">Dendritic star starting from the root node CHEMONTID:0001743 (degree 228), and containing 226 nodes, with a maximal depth of 1, which are <a href='https://www.wikidata.org/wiki/Q103815868' target='_blank' title='Go to WikiData to get more informations about wd:Q103815868'>wd:Q103815868</a>, <a href='https://www.wikidata.org/wiki/Q103815888' target='_blank' title='Go to WikiData to get more informations about wd:Q103815888'>wd:Q103815888</a>, <a href='https://www.wikidata.org/wiki/Q103815889' target='_blank' title='Go to WikiData to get more informations about wd:Q103815889'>wd:Q103815889</a>, <a href='https://www.wikidata.org/wiki/Q103815890' target='_blank' title='Go to WikiData to get more informations about wd:Q103815890'>wd:Q103815890</a> and <a href='https://www.wikidata.org/wiki/Q103819049' target='_blank' title='Go to WikiData to get more informations about wd:Q103819049'>wd:Q103819049</a>. Its nodes have a single node type, which is <a href='https://biolink.github.io/biolink-model/docs/ChemicalEntity.html' target='_blank' title='Go to BioLink to get more informations about biolink:ChemicalEntity'>biolink:ChemicalEntity</a>. Its edges have a single edge type, which is <a href='https://biolink.github.io/biolink-model/docs/subclass_of.html' target='_blank' title='Go to BioLink to get more informations about biolink:subclass_of'>biolink:subclass_of</a>.</p></li>\n",
       "<li><p class=\"paragraph\">Dendritic star starting from the root node CHEMONTID:0001675 (degree 140), and containing 138 nodes, with a maximal depth of 1, which are CHEMONTID:0003576, <a href='https://www.wikidata.org/wiki/Q103816400' target='_blank' title='Go to WikiData to get more informations about wd:Q103816400'>wd:Q103816400</a>, <a href='https://www.wikidata.org/wiki/Q103816401' target='_blank' title='Go to WikiData to get more informations about wd:Q103816401'>wd:Q103816401</a>, <a href='https://www.wikidata.org/wiki/Q103816966' target='_blank' title='Go to WikiData to get more informations about wd:Q103816966'>wd:Q103816966</a> and <a href='https://www.wikidata.org/wiki/Q103818345' target='_blank' title='Go to WikiData to get more informations about wd:Q103818345'>wd:Q103818345</a>. Its nodes have a single node type, which is <a href='https://biolink.github.io/biolink-model/docs/ChemicalEntity.html' target='_blank' title='Go to BioLink to get more informations about biolink:ChemicalEntity'>biolink:ChemicalEntity</a>. Its edges have a single edge type, which is <a href='https://biolink.github.io/biolink-model/docs/subclass_of.html' target='_blank' title='Go to BioLink to get more informations about biolink:subclass_of'>biolink:subclass_of</a>.</p></li></ol><p class=\"paragraph\">And other 4 dendritic stars.</p><h4 style=\"margin: 1em 0 0 0;\">Tendrils</h4><p class=\"paragraph\">A tendril is a path starting from a node of degree one, connected to a strongly connected component. We have detected  a single tendril in the graph.</p><ul class=\"large-columns\"><li><p class=\"paragraph\">Tendril starting from the root node CHEMONTID:0001435 (degree 3), and containing a single other node, CHEMONTID:0000322. Its nodes have a single node type, which is <a href='https://biolink.github.io/biolink-model/docs/ChemicalEntity.html' target='_blank' title='Go to BioLink to get more informations about biolink:ChemicalEntity'>biolink:ChemicalEntity</a>. Its edges have a single edge type, which is <a href='https://biolink.github.io/biolink-model/docs/subclass_of.html' target='_blank' title='Go to BioLink to get more informations about biolink:subclass_of'>biolink:subclass_of</a>.</p></li></ul></div>"
      ],
      "text/plain": [
       "<div class=\"graph-report\"><style>.graph-report li {margin: 0.5em 0 0.5em 0;}.graph-report .paragraph {text-align: justify;word-break: break-all;}.graph-report .small-columns {column-count: 4;column-gap: 2em;}.graph-report .medium-columns {column-count: 3;column-gap: 2em;}.graph-report .large-columns {column-count: 2;column-gap: 2em;}.graph-report .single-column {}@media only screen and (max-width: 600px) {.graph-report .small-columns {column-count: 1;}.graph-report .medium-columns {column-count: 1;}.graph-report .large-columns {column-count: 1;}}@media only screen and (min-width: 600px) and (max-width: 800px) {.graph-report .small-columns {column-count: 2;}.graph-report .medium-columns {column-count: 1;}.graph-report .large-columns {column-count: 1;}}@media only screen and (min-width: 800px) and (max-width: 1024px) {.graph-report .small-columns {column-count: 3;}.graph-report .medium-columns {column-count: 2;}.graph-report .large-columns {column-count: 1;}}</style><h2>(Graph | Graph)</h2><p class=\"paragraph\">The undirected graph (Graph | Graph) has 223.59K homogeneous nodes and 223.60K homogeneous edges. The graph is connected, that is, it is composed of a single connected component that includes all nodes and edges. The RAM requirements for the nodes and edges data structures are 21.94MB and 3.58MB respectively.</p><h3 style=\"margin: 1em 0 0 0;\">Degree centrality</h3><p class=\"paragraph\">The minimum node degree is 1, the maximum node degree is 9.94K, the mode degree is 1, the mean degree is 2.00 and the node degree median is 1.</p><p class=\"paragraph\">The nodes with the highest degree centrality are CHEMONTID:0001553 (degree 9.94K and node type <a href='https://biolink.github.io/biolink-model/docs/ChemicalEntity.html' target='_blank' title='Go to BioLink to get more informations about biolink:ChemicalEntity'>biolink:ChemicalEntity</a>), CHEMONTID:0001550 (degree 6.59K and node type <a href='https://biolink.github.io/biolink-model/docs/ChemicalEntity.html' target='_blank' title='Go to BioLink to get more informations about biolink:ChemicalEntity'>biolink:ChemicalEntity</a>), CHEMONTID:0001551 (degree 5.73K and node type <a href='https://biolink.github.io/biolink-model/docs/ChemicalEntity.html' target='_blank' title='Go to BioLink to get more informations about biolink:ChemicalEntity'>biolink:ChemicalEntity</a>), CHEMONTID:0002358 (degree 5.16K and node type <a href='https://biolink.github.io/biolink-model/docs/ChemicalEntity.html' target='_blank' title='Go to BioLink to get more informations about biolink:ChemicalEntity'>biolink:ChemicalEntity</a>) and CHEMONTID:0001283 (degree 3.05K and node type <a href='https://biolink.github.io/biolink-model/docs/ChemicalEntity.html' target='_blank' title='Go to BioLink to get more informations about biolink:ChemicalEntity'>biolink:ChemicalEntity</a>).</p><h3 style=\"margin: 1em 0 0 0;\">Weights</h3><p class=\"paragraph\">The minimum edge weight is 1, the maximum edge weight is 1 and the total edge weight is 447194. The RAM requirement for the edge weights data structure is 1.79MB.</p><h3 style=\"margin: 1em 0 0 0;\">Node types</h3><p class=\"paragraph\">The graph has a single node type, which is <a href='https://biolink.github.io/biolink-model/docs/ChemicalEntity.html' target='_blank' title='Go to BioLink to get more informations about biolink:ChemicalEntity'>biolink:ChemicalEntity</a>. The RAM requirement for the node types data structure is 11.63MB.</p><h4 style=\"margin: 1em 0 0 0;\">Homogeneous node types</h4><p class=\"paragraph\">Homogeneous node types are node types that are assigned to all the nodes in the graph, making the node type relatively meaningless, as it adds no more information than the fact that the node is in the graph. The graph contains a homogeneous node type, which is <a href='https://biolink.github.io/biolink-model/docs/ChemicalEntity.html' target='_blank' title='Go to BioLink to get more informations about biolink:ChemicalEntity'>biolink:ChemicalEntity</a>.</p><h3 style=\"margin: 1em 0 0 0;\">Edge types</h3><p class=\"paragraph\">The graph has a single edge type, which is <a href='https://biolink.github.io/biolink-model/docs/subclass_of.html' target='_blank' title='Go to BioLink to get more informations about biolink:subclass_of'>biolink:subclass_of</a>. The RAM requirement for the edge types data structure is 1.79MB.</p><h3 style=\"margin: 1em 0 0 0;\">Topological Oddities</h3><p class=\"paragraph\">A topological oddity is a set of nodes in the graph that <i>may be derived</i> by an error during the generation of the edge list of the graph and, depending on the task, could bias the results of topology-based models. In the following paragraph, we will describe the detected topological oddities.</p><h4 style=\"margin: 1em 0 0 0;\">Dendritic trees</h4><p class=\"paragraph\">A dendritic tree is a tree-like structure starting from a root node that is part of another strongly connected component. We have detected 22 dendritic trees in the graph, involving a total of 219.32K nodes (98.09%) and 438.65K edges (98.09%), with the largest one involving 63.62K nodes and 127.24K edges. The detected dendritic trees, sorted by decreasing size, are:</p><ol class=\"large-columns\"><li><p class=\"paragraph\">Dendritic tree starting from the root node CHEMONTID:0000259 (degree 17), and containing 63.62K nodes, with a maximal depth of 5, which are CHEMONTID:0000357 (degree 134), CHEMONTID:0001283 (degree 3.05K), CHEMONTID:0001311 (degree 10), CHEMONTID:0001535 (degree 59) and CHEMONTID:0001549 (degree 243). Its nodes have a single node type, which is <a href='https://biolink.github.io/biolink-model/docs/ChemicalEntity.html' target='_blank' title='Go to BioLink to get more informations about biolink:ChemicalEntity'>biolink:ChemicalEntity</a>. Its edges have a single edge type, which is <a href='https://biolink.github.io/biolink-model/docs/subclass_of.html' target='_blank' title='Go to BioLink to get more informations about biolink:subclass_of'>biolink:subclass_of</a>.</p></li>\n",
       "<li><p class=\"paragraph\">Dendritic tree starting from the root node CHEMONTID:0000000 (degree 27), and containing 43.07K nodes, with a maximal depth of 9, which are CHEMONTID:0000002 (degree 262), CHEMONTID:0000004 (degree 53), CHEMONTID:0000016 (degree 3), CHEMONTID:0000267 (degree 17) and CHEMONTID:0000289 (degree 41). Its nodes have a single node type, which is <a href='https://biolink.github.io/biolink-model/docs/ChemicalEntity.html' target='_blank' title='Go to BioLink to get more informations about biolink:ChemicalEntity'>biolink:ChemicalEntity</a>. Its edges have a single edge type, which is <a href='https://biolink.github.io/biolink-model/docs/subclass_of.html' target='_blank' title='Go to BioLink to get more informations about biolink:subclass_of'>biolink:subclass_of</a>.</p></li>\n",
       "<li><p class=\"paragraph\">Dendritic tree starting from the root node CHEMONTID:0000261 (degree 35), and containing 31.37K nodes, with a maximal depth of 7, which are CHEMONTID:0000029 (degree 70), CHEMONTID:0000064 (degree 558), CHEMONTID:0000147 (degree 2.65K), CHEMONTID:0000181 (degree 51) and CHEMONTID:0000238 (degree 281). Its nodes have a single node type, which is <a href='https://biolink.github.io/biolink-model/docs/ChemicalEntity.html' target='_blank' title='Go to BioLink to get more informations about biolink:ChemicalEntity'>biolink:ChemicalEntity</a>. Its edges have a single edge type, which is <a href='https://biolink.github.io/biolink-model/docs/subclass_of.html' target='_blank' title='Go to BioLink to get more informations about biolink:subclass_of'>biolink:subclass_of</a>.</p></li>\n",
       "<li><p class=\"paragraph\">Dendritic tree starting from the root node CHEMONTID:0000012 (degree 14), and containing 26.80K nodes, with a maximal depth of 7, which are CHEMONTID:0000175 (degree 10), CHEMONTID:0000256 (degree 19), CHEMONTID:0000257 (degree 6), CHEMONTID:0000258 (degree 244) and CHEMONTID:0001103 (degree 26). Its nodes have a single node type, which is <a href='https://biolink.github.io/biolink-model/docs/ChemicalEntity.html' target='_blank' title='Go to BioLink to get more informations about biolink:ChemicalEntity'>biolink:ChemicalEntity</a>. Its edges have a single edge type, which is <a href='https://biolink.github.io/biolink-model/docs/subclass_of.html' target='_blank' title='Go to BioLink to get more informations about biolink:subclass_of'>biolink:subclass_of</a>.</p></li>\n",
       "<li><p class=\"paragraph\">Dendritic tree starting from the root node CHEMONTID:0002448 (degree 52), and containing 14.29K nodes, with a maximal depth of 7, which are CHEMONTID:0000018 (degree 482), CHEMONTID:0000019 (degree 50), CHEMONTID:0000020 (degree 121), CHEMONTID:0000021 (degree 18) and CHEMONTID:0000022 (degree 35). Its nodes have a single node type, which is <a href='https://biolink.github.io/biolink-model/docs/ChemicalEntity.html' target='_blank' title='Go to BioLink to get more informations about biolink:ChemicalEntity'>biolink:ChemicalEntity</a>. Its edges have a single edge type, which is <a href='https://biolink.github.io/biolink-model/docs/subclass_of.html' target='_blank' title='Go to BioLink to get more informations about biolink:subclass_of'>biolink:subclass_of</a>.</p></li>\n",
       "<li><p class=\"paragraph\">Dendritic tree starting from the root node CHEMONTID:0000264 (degree 86), and containing 13.04K nodes, with a maximal depth of 8, which are CHEMONTID:0000039, CHEMONTID:0000265 (degree 23), CHEMONTID:0000268 (degree 5), CHEMONTID:0000269 (degree 6) and CHEMONTID:0000364 (degree 13). Its nodes have a single node type, which is <a href='https://biolink.github.io/biolink-model/docs/ChemicalEntity.html' target='_blank' title='Go to BioLink to get more informations about biolink:ChemicalEntity'>biolink:ChemicalEntity</a>. Its edges have a single edge type, which is <a href='https://biolink.github.io/biolink-model/docs/subclass_of.html' target='_blank' title='Go to BioLink to get more informations about biolink:subclass_of'>biolink:subclass_of</a>.</p></li></ol><p class=\"paragraph\">And other 16 dendritic trees.</p><h4 style=\"margin: 1em 0 0 0;\">Dendritic stars</h4><p class=\"paragraph\">A dendritic star is a dendritic tree with a maximal depth of one, where nodes with maximal unique degree one are connected to a central root node with high degree and inside a strongly connected component. We have detected 10 dendritic stars in the graph, involving a total of 4.23K nodes (1.89%) and 8.45K edges (1.89%), with the largest one involving 2.23K nodes and 4.47K edges. The detected dendritic stars, sorted by decreasing size, are:</p><ol class=\"large-columns\"><li><p class=\"paragraph\">Dendritic star starting from the root node CHEMONTID:0004165 (degree 2.24K), and containing 2.23K nodes, with a maximal depth of 1, which are <a href='https://www.wikidata.org/wiki/Q102165855' target='_blank' title='Go to WikiData to get more informations about wd:Q102165855'>wd:Q102165855</a>, <a href='https://www.wikidata.org/wiki/Q103813492' target='_blank' title='Go to WikiData to get more informations about wd:Q103813492'>wd:Q103813492</a>, <a href='https://www.wikidata.org/wiki/Q103815876' target='_blank' title='Go to WikiData to get more informations about wd:Q103815876'>wd:Q103815876</a>, <a href='https://www.wikidata.org/wiki/Q103815891' target='_blank' title='Go to WikiData to get more informations about wd:Q103815891'>wd:Q103815891</a> and <a href='https://www.wikidata.org/wiki/Q103815892' target='_blank' title='Go to WikiData to get more informations about wd:Q103815892'>wd:Q103815892</a>. Its nodes have a single node type, which is <a href='https://biolink.github.io/biolink-model/docs/ChemicalEntity.html' target='_blank' title='Go to BioLink to get more informations about biolink:ChemicalEntity'>biolink:ChemicalEntity</a>. Its edges have a single edge type, which is <a href='https://biolink.github.io/biolink-model/docs/subclass_of.html' target='_blank' title='Go to BioLink to get more informations about biolink:subclass_of'>biolink:subclass_of</a>.</p></li>\n",
       "<li><p class=\"paragraph\">Dendritic star starting from the root node CHEMONTID:0000153 (degree 600), and containing 598 nodes, with a maximal depth of 1, which are <a href='https://www.wikidata.org/wiki/Q103795839' target='_blank' title='Go to WikiData to get more informations about wd:Q103795839'>wd:Q103795839</a>, <a href='https://www.wikidata.org/wiki/Q103815981' target='_blank' title='Go to WikiData to get more informations about wd:Q103815981'>wd:Q103815981</a>, <a href='https://www.wikidata.org/wiki/Q103816976' target='_blank' title='Go to WikiData to get more informations about wd:Q103816976'>wd:Q103816976</a>, <a href='https://www.wikidata.org/wiki/Q103817107' target='_blank' title='Go to WikiData to get more informations about wd:Q103817107'>wd:Q103817107</a> and <a href='https://www.wikidata.org/wiki/Q104085275' target='_blank' title='Go to WikiData to get more informations about wd:Q104085275'>wd:Q104085275</a>. Its nodes have a single node type, which is <a href='https://biolink.github.io/biolink-model/docs/ChemicalEntity.html' target='_blank' title='Go to BioLink to get more informations about biolink:ChemicalEntity'>biolink:ChemicalEntity</a>. Its edges have a single edge type, which is <a href='https://biolink.github.io/biolink-model/docs/subclass_of.html' target='_blank' title='Go to BioLink to get more informations about biolink:subclass_of'>biolink:subclass_of</a>.</p></li>\n",
       "<li><p class=\"paragraph\">Dendritic star starting from the root node CHEMONTID:0003298 (degree 448), and containing 446 nodes, with a maximal depth of 1, which are <a href='https://www.wikidata.org/wiki/Q103816104' target='_blank' title='Go to WikiData to get more informations about wd:Q103816104'>wd:Q103816104</a>, <a href='https://www.wikidata.org/wiki/Q103816603' target='_blank' title='Go to WikiData to get more informations about wd:Q103816603'>wd:Q103816603</a>, <a href='https://www.wikidata.org/wiki/Q103818141' target='_blank' title='Go to WikiData to get more informations about wd:Q103818141'>wd:Q103818141</a>, <a href='https://www.wikidata.org/wiki/Q104166870' target='_blank' title='Go to WikiData to get more informations about wd:Q104166870'>wd:Q104166870</a> and <a href='https://www.wikidata.org/wiki/Q104167482' target='_blank' title='Go to WikiData to get more informations about wd:Q104167482'>wd:Q104167482</a>. Its nodes have a single node type, which is <a href='https://biolink.github.io/biolink-model/docs/ChemicalEntity.html' target='_blank' title='Go to BioLink to get more informations about biolink:ChemicalEntity'>biolink:ChemicalEntity</a>. Its edges have a single edge type, which is <a href='https://biolink.github.io/biolink-model/docs/subclass_of.html' target='_blank' title='Go to BioLink to get more informations about biolink:subclass_of'>biolink:subclass_of</a>.</p></li>\n",
       "<li><p class=\"paragraph\">Dendritic star starting from the root node CHEMONTID:0000282 (degree 438), and containing 435 nodes, with a maximal depth of 1, which are <a href='https://www.wikidata.org/wiki/Q103788512' target='_blank' title='Go to WikiData to get more informations about wd:Q103788512'>wd:Q103788512</a>, <a href='https://www.wikidata.org/wiki/Q103816171' target='_blank' title='Go to WikiData to get more informations about wd:Q103816171'>wd:Q103816171</a>, <a href='https://www.wikidata.org/wiki/Q103816695' target='_blank' title='Go to WikiData to get more informations about wd:Q103816695'>wd:Q103816695</a>, <a href='https://www.wikidata.org/wiki/Q103817098' target='_blank' title='Go to WikiData to get more informations about wd:Q103817098'>wd:Q103817098</a> and <a href='https://www.wikidata.org/wiki/Q103818400' target='_blank' title='Go to WikiData to get more informations about wd:Q103818400'>wd:Q103818400</a>. Its nodes have a single node type, which is <a href='https://biolink.github.io/biolink-model/docs/ChemicalEntity.html' target='_blank' title='Go to BioLink to get more informations about biolink:ChemicalEntity'>biolink:ChemicalEntity</a>. Its edges have a single edge type, which is <a href='https://biolink.github.io/biolink-model/docs/subclass_of.html' target='_blank' title='Go to BioLink to get more informations about biolink:subclass_of'>biolink:subclass_of</a>.</p></li>\n",
       "<li><p class=\"paragraph\">Dendritic star starting from the root node CHEMONTID:0001743 (degree 228), and containing 226 nodes, with a maximal depth of 1, which are <a href='https://www.wikidata.org/wiki/Q103815868' target='_blank' title='Go to WikiData to get more informations about wd:Q103815868'>wd:Q103815868</a>, <a href='https://www.wikidata.org/wiki/Q103815888' target='_blank' title='Go to WikiData to get more informations about wd:Q103815888'>wd:Q103815888</a>, <a href='https://www.wikidata.org/wiki/Q103815889' target='_blank' title='Go to WikiData to get more informations about wd:Q103815889'>wd:Q103815889</a>, <a href='https://www.wikidata.org/wiki/Q103815890' target='_blank' title='Go to WikiData to get more informations about wd:Q103815890'>wd:Q103815890</a> and <a href='https://www.wikidata.org/wiki/Q103819049' target='_blank' title='Go to WikiData to get more informations about wd:Q103819049'>wd:Q103819049</a>. Its nodes have a single node type, which is <a href='https://biolink.github.io/biolink-model/docs/ChemicalEntity.html' target='_blank' title='Go to BioLink to get more informations about biolink:ChemicalEntity'>biolink:ChemicalEntity</a>. Its edges have a single edge type, which is <a href='https://biolink.github.io/biolink-model/docs/subclass_of.html' target='_blank' title='Go to BioLink to get more informations about biolink:subclass_of'>biolink:subclass_of</a>.</p></li>\n",
       "<li><p class=\"paragraph\">Dendritic star starting from the root node CHEMONTID:0001675 (degree 140), and containing 138 nodes, with a maximal depth of 1, which are CHEMONTID:0003576, <a href='https://www.wikidata.org/wiki/Q103816400' target='_blank' title='Go to WikiData to get more informations about wd:Q103816400'>wd:Q103816400</a>, <a href='https://www.wikidata.org/wiki/Q103816401' target='_blank' title='Go to WikiData to get more informations about wd:Q103816401'>wd:Q103816401</a>, <a href='https://www.wikidata.org/wiki/Q103816966' target='_blank' title='Go to WikiData to get more informations about wd:Q103816966'>wd:Q103816966</a> and <a href='https://www.wikidata.org/wiki/Q103818345' target='_blank' title='Go to WikiData to get more informations about wd:Q103818345'>wd:Q103818345</a>. Its nodes have a single node type, which is <a href='https://biolink.github.io/biolink-model/docs/ChemicalEntity.html' target='_blank' title='Go to BioLink to get more informations about biolink:ChemicalEntity'>biolink:ChemicalEntity</a>. Its edges have a single edge type, which is <a href='https://biolink.github.io/biolink-model/docs/subclass_of.html' target='_blank' title='Go to BioLink to get more informations about biolink:subclass_of'>biolink:subclass_of</a>.</p></li></ol><p class=\"paragraph\">And other 4 dendritic stars.</p><h4 style=\"margin: 1em 0 0 0;\">Tendrils</h4><p class=\"paragraph\">A tendril is a path starting from a node of degree one, connected to a strongly connected component. We have detected  a single tendril in the graph.</p><ul class=\"large-columns\"><li><p class=\"paragraph\">Tendril starting from the root node CHEMONTID:0001435 (degree 3), and containing a single other node, CHEMONTID:0000322. Its nodes have a single node type, which is <a href='https://biolink.github.io/biolink-model/docs/ChemicalEntity.html' target='_blank' title='Go to BioLink to get more informations about biolink:ChemicalEntity'>biolink:ChemicalEntity</a>. Its edges have a single edge type, which is <a href='https://biolink.github.io/biolink-model/docs/subclass_of.html' target='_blank' title='Go to BioLink to get more informations about biolink:subclass_of'>biolink:subclass_of</a>.</p></li></ul></div>"
      ]
     },
     "execution_count": 40,
     "metadata": {},
     "output_type": "execute_result"
    }
   ],
   "source": [
    "chemicals.to_undirected()"
   ]
  },
  {
   "cell_type": "code",
   "execution_count": 3,
   "id": "4d7b6988-e88d-4b34-a792-ffef3edc8125",
   "metadata": {},
   "outputs": [],
   "source": [
    "df = pd.concat(\n",
    "    [\n",
    "        pd.read_csv(\"./data/molecules/mol_to_chemont_edges.csv\", index_col=0),\n",
    "        pd.read_csv(\"./data/molecules/chemont_edges.csv\", index_col=0)\n",
    "    ]\n",
    ")"
   ]
  },
  {
   "cell_type": "code",
   "execution_count": 4,
   "id": "251bc5cb-3983-41ef-8045-cf0eea7ed27a",
   "metadata": {},
   "outputs": [],
   "source": [
    "df.drop_duplicates(inplace=True)"
   ]
  },
  {
   "cell_type": "code",
   "execution_count": 5,
   "id": "a397256f-1570-47df-b84e-14b5d6f6428a",
   "metadata": {},
   "outputs": [],
   "source": [
    "g = nx.from_pandas_edgelist(df, source='child', target='parent')"
   ]
  },
  {
   "cell_type": "code",
   "execution_count": 6,
   "id": "7a961448-ff57-4214-a5c3-43be0e08dd57",
   "metadata": {},
   "outputs": [],
   "source": [
    "shortest_paths = nx.single_source_shortest_path(g, 'CHEMONTID:9999999')"
   ]
  },
  {
   "cell_type": "code",
   "execution_count": 7,
   "id": "1d564b48-901c-48ff-bb08-17e01f31eae6",
   "metadata": {},
   "outputs": [],
   "source": [
    "centrality = nx.degree(g)"
   ]
  },
  {
   "cell_type": "code",
   "execution_count": 8,
   "id": "c5892c41-9b76-4a5b-9016-f6b73045d1d8",
   "metadata": {},
   "outputs": [],
   "source": [
    "centrality_per_layer = {i: [] for i in range(14)}"
   ]
  },
  {
   "cell_type": "code",
   "execution_count": 9,
   "id": "5ef48e92-f7d2-4ddb-8a91-7353c914d69e",
   "metadata": {},
   "outputs": [],
   "source": [
    "for node, length in shortest_paths.items():\n",
    "    # Calculate the degree centrality for the node\n",
    "    node_centrality = centrality[node]\n",
    "    \n",
    "    for i in range(14):\n",
    "        if i == len(length):\n",
    "            centrality_per_layer[i].append(node_centrality)"
   ]
  },
  {
   "cell_type": "code",
   "execution_count": 10,
   "id": "69b786d3-9e08-47f1-9a5e-4751187eb7b6",
   "metadata": {
    "scrolled": true
   },
   "outputs": [
    {
     "data": {
      "text/plain": [
       "[]"
      ]
     },
     "execution_count": 10,
     "metadata": {},
     "output_type": "execute_result"
    }
   ],
   "source": [
    "centrality_per_layer.pop(0)"
   ]
  },
  {
   "cell_type": "code",
   "execution_count": 11,
   "id": "dbe5a533-c86a-4456-9a77-1a460b812deb",
   "metadata": {},
   "outputs": [],
   "source": [
    "mean_centrality_by_layer = {}\n",
    "median_centrality_by_layer = {}\n",
    "max_centrality_by_layer = {}\n",
    "min_centrality_by_layer = {}"
   ]
  },
  {
   "cell_type": "code",
   "execution_count": 12,
   "id": "62352cee-6c00-4a7c-a119-fab17dc41314",
   "metadata": {},
   "outputs": [],
   "source": [
    "# Calculate mean, median, max, and min for each layer\n",
    "for layer in centrality_per_layer.keys():\n",
    "    mean_centrality_by_layer[layer] = np.mean(centrality_per_layer[layer])\n",
    "    median_centrality_by_layer[layer] = np.median(centrality_per_layer[layer])\n",
    "    max_centrality_by_layer[layer] = np.max(centrality_per_layer[layer])\n",
    "    min_centrality_by_layer[layer] = np.min(centrality_per_layer[layer])"
   ]
  },
  {
   "cell_type": "code",
   "execution_count": 13,
   "id": "e9fae4ae-f543-4b70-b250-67313a8d5b15",
   "metadata": {},
   "outputs": [],
   "source": [
    "numer_of_nodes_in_layer = {}\n",
    "for layer in centrality_per_layer.keys():\n",
    "    numer_of_nodes_in_layer[layer] = len(centrality_per_layer[layer])"
   ]
  },
  {
   "cell_type": "code",
   "execution_count": 14,
   "id": "c9798d09-5bb9-467d-a681-5b21177f826b",
   "metadata": {},
   "outputs": [
    {
     "data": {
      "text/plain": [
       "{1: 1,\n",
       " 2: 2,\n",
       " 3: 31,\n",
       " 4: 2305,\n",
       " 5: 34867,\n",
       " 6: 72511,\n",
       " 7: 64403,\n",
       " 8: 38193,\n",
       " 9: 7623,\n",
       " 10: 3268,\n",
       " 11: 379,\n",
       " 12: 8,\n",
       " 13: 1}"
      ]
     },
     "execution_count": 14,
     "metadata": {},
     "output_type": "execute_result"
    }
   ],
   "source": [
    "numer_of_nodes_in_layer"
   ]
  },
  {
   "cell_type": "code",
   "execution_count": 15,
   "id": "fe82e8be-17fb-471b-a8f9-21a0c83d2abd",
   "metadata": {},
   "outputs": [],
   "source": [
    "out = pd.concat(\n",
    "    [\n",
    "        pd.DataFrame(mean_centrality_by_layer, index=['mean']),\n",
    "        pd.DataFrame(median_centrality_by_layer, index=['median']).astype(int),\n",
    "        pd.DataFrame(max_centrality_by_layer, index=['max']).astype(int),\n",
    "        pd.DataFrame(min_centrality_by_layer, index=['min']).astype(int),\n",
    "        pd.DataFrame(numer_of_nodes_in_layer, index=['n_nodes']).astype(int),\n",
    "    ]\n",
    ")"
   ]
  },
  {
   "cell_type": "code",
   "execution_count": 16,
   "id": "5105c768-f843-4fa6-8391-ed1df7d748ba",
   "metadata": {},
   "outputs": [],
   "source": [
    "out = out.T"
   ]
  },
  {
   "cell_type": "code",
   "execution_count": 17,
   "id": "b7b63529-6578-46b0-a6ba-713ed2b7512a",
   "metadata": {},
   "outputs": [],
   "source": [
    "out['median'] = out['median'].astype('int64')\n",
    "out['max'] = out['max'].astype(int)\n",
    "out['min'] = out['min'].astype(int)\n",
    "out['n_nodes'] = out['n_nodes'].astype(int)"
   ]
  },
  {
   "cell_type": "code",
   "execution_count": 18,
   "id": "2539ab1b-aece-48d3-ae78-52808d5c75dc",
   "metadata": {},
   "outputs": [
    {
     "data": {
      "text/html": [
       "<div>\n",
       "<style scoped>\n",
       "    .dataframe tbody tr th:only-of-type {\n",
       "        vertical-align: middle;\n",
       "    }\n",
       "\n",
       "    .dataframe tbody tr th {\n",
       "        vertical-align: top;\n",
       "    }\n",
       "\n",
       "    .dataframe thead th {\n",
       "        text-align: right;\n",
       "    }\n",
       "</style>\n",
       "<table border=\"1\" class=\"dataframe\">\n",
       "  <thead>\n",
       "    <tr style=\"text-align: right;\">\n",
       "      <th></th>\n",
       "      <th>mean</th>\n",
       "      <th>median</th>\n",
       "      <th>max</th>\n",
       "      <th>min</th>\n",
       "      <th>n_nodes</th>\n",
       "    </tr>\n",
       "  </thead>\n",
       "  <tbody>\n",
       "    <tr>\n",
       "      <th>1</th>\n",
       "      <td>2.000000</td>\n",
       "      <td>2</td>\n",
       "      <td>2</td>\n",
       "      <td>2</td>\n",
       "      <td>1</td>\n",
       "    </tr>\n",
       "    <tr>\n",
       "      <th>2</th>\n",
       "      <td>16.500000</td>\n",
       "      <td>16</td>\n",
       "      <td>27</td>\n",
       "      <td>6</td>\n",
       "      <td>2</td>\n",
       "    </tr>\n",
       "    <tr>\n",
       "      <th>3</th>\n",
       "      <td>75.354839</td>\n",
       "      <td>13</td>\n",
       "      <td>884</td>\n",
       "      <td>1</td>\n",
       "      <td>31</td>\n",
       "    </tr>\n",
       "    <tr>\n",
       "      <th>4</th>\n",
       "      <td>16.126681</td>\n",
       "      <td>1</td>\n",
       "      <td>2646</td>\n",
       "      <td>1</td>\n",
       "      <td>2305</td>\n",
       "    </tr>\n",
       "    <tr>\n",
       "      <th>5</th>\n",
       "      <td>3.079703</td>\n",
       "      <td>1</td>\n",
       "      <td>9937</td>\n",
       "      <td>1</td>\n",
       "      <td>34867</td>\n",
       "    </tr>\n",
       "    <tr>\n",
       "      <th>6</th>\n",
       "      <td>1.888238</td>\n",
       "      <td>1</td>\n",
       "      <td>2801</td>\n",
       "      <td>1</td>\n",
       "      <td>72511</td>\n",
       "    </tr>\n",
       "    <tr>\n",
       "      <th>7</th>\n",
       "      <td>1.593062</td>\n",
       "      <td>1</td>\n",
       "      <td>5160</td>\n",
       "      <td>1</td>\n",
       "      <td>64403</td>\n",
       "    </tr>\n",
       "    <tr>\n",
       "      <th>8</th>\n",
       "      <td>1.199644</td>\n",
       "      <td>1</td>\n",
       "      <td>1269</td>\n",
       "      <td>1</td>\n",
       "      <td>38193</td>\n",
       "    </tr>\n",
       "    <tr>\n",
       "      <th>9</th>\n",
       "      <td>1.428965</td>\n",
       "      <td>1</td>\n",
       "      <td>1166</td>\n",
       "      <td>1</td>\n",
       "      <td>7623</td>\n",
       "    </tr>\n",
       "    <tr>\n",
       "      <th>10</th>\n",
       "      <td>1.115973</td>\n",
       "      <td>1</td>\n",
       "      <td>206</td>\n",
       "      <td>1</td>\n",
       "      <td>3268</td>\n",
       "    </tr>\n",
       "    <tr>\n",
       "      <th>11</th>\n",
       "      <td>1.021108</td>\n",
       "      <td>1</td>\n",
       "      <td>9</td>\n",
       "      <td>1</td>\n",
       "      <td>379</td>\n",
       "    </tr>\n",
       "    <tr>\n",
       "      <th>12</th>\n",
       "      <td>1.125000</td>\n",
       "      <td>1</td>\n",
       "      <td>2</td>\n",
       "      <td>1</td>\n",
       "      <td>8</td>\n",
       "    </tr>\n",
       "    <tr>\n",
       "      <th>13</th>\n",
       "      <td>1.000000</td>\n",
       "      <td>1</td>\n",
       "      <td>1</td>\n",
       "      <td>1</td>\n",
       "      <td>1</td>\n",
       "    </tr>\n",
       "  </tbody>\n",
       "</table>\n",
       "</div>"
      ],
      "text/plain": [
       "         mean  median   max  min  n_nodes\n",
       "1    2.000000       2     2    2        1\n",
       "2   16.500000      16    27    6        2\n",
       "3   75.354839      13   884    1       31\n",
       "4   16.126681       1  2646    1     2305\n",
       "5    3.079703       1  9937    1    34867\n",
       "6    1.888238       1  2801    1    72511\n",
       "7    1.593062       1  5160    1    64403\n",
       "8    1.199644       1  1269    1    38193\n",
       "9    1.428965       1  1166    1     7623\n",
       "10   1.115973       1   206    1     3268\n",
       "11   1.021108       1     9    1      379\n",
       "12   1.125000       1     2    1        8\n",
       "13   1.000000       1     1    1        1"
      ]
     },
     "execution_count": 18,
     "metadata": {},
     "output_type": "execute_result"
    }
   ],
   "source": [
    "out"
   ]
  },
  {
   "cell_type": "markdown",
   "id": "158e8d7c-b160-44db-96dc-d534b899f461",
   "metadata": {},
   "source": [
    "# Now for the species"
   ]
  },
  {
   "cell_type": "code",
   "execution_count": 19,
   "id": "927327f6-8724-464b-b138-5f063846fc30",
   "metadata": {},
   "outputs": [],
   "source": [
    "df = pd.read_csv(\"./data/species/species_edges.csv\", index_col=0)"
   ]
  },
  {
   "cell_type": "code",
   "execution_count": 20,
   "id": "da7bbcfc-87c8-4b0f-a3a4-313d07b167ef",
   "metadata": {},
   "outputs": [],
   "source": [
    "g = nx.from_pandas_edgelist(df, source='child', target='parent')"
   ]
  },
  {
   "cell_type": "code",
   "execution_count": 21,
   "id": "898479f2-bbab-4bd5-8d82-9cb6c0c68d53",
   "metadata": {},
   "outputs": [],
   "source": [
    "shortest_path = nx.single_source_shortest_path(g, 'wd:Q2382443')"
   ]
  },
  {
   "cell_type": "code",
   "execution_count": 22,
   "id": "410c75af-b3ff-4304-8853-a499e21389db",
   "metadata": {},
   "outputs": [
    {
     "name": "stdout",
     "output_type": "stream",
     "text": [
      "64\n"
     ]
    }
   ],
   "source": [
    "for node, length in shortest_path.items():\n",
    "    i = 0\n",
    "    if len(length) > i:\n",
    "        i = len(length)\n",
    "\n",
    "print(i)"
   ]
  },
  {
   "cell_type": "code",
   "execution_count": 23,
   "id": "aa523f2a-e74f-48d9-9a5d-f78435ff1a3d",
   "metadata": {},
   "outputs": [],
   "source": [
    "centrality = nx.degree(g)"
   ]
  },
  {
   "cell_type": "code",
   "execution_count": 24,
   "id": "a7927af9-a9a9-481d-b0da-b737f6914d0d",
   "metadata": {},
   "outputs": [],
   "source": [
    "centrality_per_layer = {i: [] for i in range(65)}"
   ]
  },
  {
   "cell_type": "code",
   "execution_count": 25,
   "id": "ba8a97bf-e226-4d19-a063-cc1ad0c2042c",
   "metadata": {},
   "outputs": [],
   "source": [
    "for node, length in shortest_path.items():\n",
    "    # Calculate the degree centrality for the node\n",
    "    node_centrality = centrality[node]\n",
    "    \n",
    "    for i in range(65):\n",
    "        if i == len(length):\n",
    "            centrality_per_layer[i].append(node_centrality)"
   ]
  },
  {
   "cell_type": "code",
   "execution_count": 26,
   "id": "595a5626-fb99-4e52-bc04-7e50ffc7dd44",
   "metadata": {},
   "outputs": [
    {
     "data": {
      "text/plain": [
       "[]"
      ]
     },
     "execution_count": 26,
     "metadata": {},
     "output_type": "execute_result"
    }
   ],
   "source": [
    "centrality_per_layer.pop(0)"
   ]
  },
  {
   "cell_type": "code",
   "execution_count": 27,
   "id": "26863f70-3325-4bcf-862b-3921cd02f096",
   "metadata": {},
   "outputs": [],
   "source": [
    "mean_centrality_by_layer = {}\n",
    "median_centrality_by_layer = {}\n",
    "max_centrality_by_layer = {}\n",
    "min_centrality_by_layer = {}"
   ]
  },
  {
   "cell_type": "code",
   "execution_count": 28,
   "id": "b58db76d-6550-474e-b09d-dfc199dfc3ab",
   "metadata": {},
   "outputs": [],
   "source": [
    "# Calculate mean, median, max, and min for each layer\n",
    "for layer in centrality_per_layer.keys():\n",
    "    mean_centrality_by_layer[layer] = np.mean(centrality_per_layer[layer])\n",
    "    median_centrality_by_layer[layer] = np.median(centrality_per_layer[layer])\n",
    "    max_centrality_by_layer[layer] = np.max(centrality_per_layer[layer])\n",
    "    min_centrality_by_layer[layer] = np.min(centrality_per_layer[layer])"
   ]
  },
  {
   "cell_type": "code",
   "execution_count": 29,
   "id": "19d90643-bfbf-4c77-b47d-1b289419cd19",
   "metadata": {},
   "outputs": [],
   "source": [
    "numer_of_nodes_in_layer = {}\n",
    "for layer in centrality_per_layer.keys():\n",
    "    numer_of_nodes_in_layer[layer] = len(centrality_per_layer[layer])"
   ]
  },
  {
   "cell_type": "code",
   "execution_count": 30,
   "id": "52d049f6-64f3-495b-b2cf-b5254d786049",
   "metadata": {},
   "outputs": [],
   "source": [
    "out = pd.concat(\n",
    "    [\n",
    "        pd.DataFrame(mean_centrality_by_layer, index=['mean']),\n",
    "        pd.DataFrame(median_centrality_by_layer, index=['median']).astype(int),\n",
    "        pd.DataFrame(max_centrality_by_layer, index=['max']).astype(int),\n",
    "        pd.DataFrame(min_centrality_by_layer, index=['min']).astype(int),\n",
    "        pd.DataFrame(numer_of_nodes_in_layer, index=['n_nodes']).astype(int),\n",
    "    ]\n",
    ")"
   ]
  },
  {
   "cell_type": "code",
   "execution_count": 31,
   "id": "55c99ce1-a683-4ccf-85a2-526e456150d4",
   "metadata": {},
   "outputs": [],
   "source": [
    "out = out.T"
   ]
  },
  {
   "cell_type": "code",
   "execution_count": 32,
   "id": "5911b670-256c-4123-9dcd-1c052c0ac462",
   "metadata": {},
   "outputs": [],
   "source": [
    "out['median'] = out['median'].astype('int64')\n",
    "out['max'] = out['max'].astype(int)\n",
    "out['min'] = out['min'].astype(int)\n",
    "out['n_nodes'] = out['n_nodes'].astype(int)"
   ]
  },
  {
   "cell_type": "code",
   "execution_count": 36,
   "id": "b2dd510a-5ae9-4e5b-9ba8-be6b83955b8d",
   "metadata": {},
   "outputs": [
    {
     "data": {
      "text/html": [
       "<div>\n",
       "<style scoped>\n",
       "    .dataframe tbody tr th:only-of-type {\n",
       "        vertical-align: middle;\n",
       "    }\n",
       "\n",
       "    .dataframe tbody tr th {\n",
       "        vertical-align: top;\n",
       "    }\n",
       "\n",
       "    .dataframe thead th {\n",
       "        text-align: right;\n",
       "    }\n",
       "</style>\n",
       "<table border=\"1\" class=\"dataframe\">\n",
       "  <thead>\n",
       "    <tr style=\"text-align: right;\">\n",
       "      <th></th>\n",
       "      <th>mean</th>\n",
       "      <th>median</th>\n",
       "      <th>max</th>\n",
       "      <th>min</th>\n",
       "      <th>n_nodes</th>\n",
       "    </tr>\n",
       "  </thead>\n",
       "  <tbody>\n",
       "    <tr>\n",
       "      <th>1</th>\n",
       "      <td>3.000000</td>\n",
       "      <td>3</td>\n",
       "      <td>3</td>\n",
       "      <td>3</td>\n",
       "      <td>1</td>\n",
       "    </tr>\n",
       "    <tr>\n",
       "      <th>2</th>\n",
       "      <td>4.333333</td>\n",
       "      <td>4</td>\n",
       "      <td>6</td>\n",
       "      <td>3</td>\n",
       "      <td>3</td>\n",
       "    </tr>\n",
       "    <tr>\n",
       "      <th>3</th>\n",
       "      <td>6.000000</td>\n",
       "      <td>5</td>\n",
       "      <td>12</td>\n",
       "      <td>2</td>\n",
       "      <td>10</td>\n",
       "    </tr>\n",
       "    <tr>\n",
       "      <th>4</th>\n",
       "      <td>3.390244</td>\n",
       "      <td>3</td>\n",
       "      <td>11</td>\n",
       "      <td>2</td>\n",
       "      <td>41</td>\n",
       "    </tr>\n",
       "    <tr>\n",
       "      <th>5</th>\n",
       "      <td>3.907895</td>\n",
       "      <td>3</td>\n",
       "      <td>16</td>\n",
       "      <td>2</td>\n",
       "      <td>76</td>\n",
       "    </tr>\n",
       "    <tr>\n",
       "      <th>...</th>\n",
       "      <td>...</td>\n",
       "      <td>...</td>\n",
       "      <td>...</td>\n",
       "      <td>...</td>\n",
       "      <td>...</td>\n",
       "    </tr>\n",
       "    <tr>\n",
       "      <th>60</th>\n",
       "      <td>1.500000</td>\n",
       "      <td>1</td>\n",
       "      <td>2</td>\n",
       "      <td>1</td>\n",
       "      <td>14</td>\n",
       "    </tr>\n",
       "    <tr>\n",
       "      <th>61</th>\n",
       "      <td>2.000000</td>\n",
       "      <td>2</td>\n",
       "      <td>3</td>\n",
       "      <td>1</td>\n",
       "      <td>7</td>\n",
       "    </tr>\n",
       "    <tr>\n",
       "      <th>62</th>\n",
       "      <td>1.428571</td>\n",
       "      <td>1</td>\n",
       "      <td>2</td>\n",
       "      <td>1</td>\n",
       "      <td>7</td>\n",
       "    </tr>\n",
       "    <tr>\n",
       "      <th>63</th>\n",
       "      <td>1.333333</td>\n",
       "      <td>1</td>\n",
       "      <td>2</td>\n",
       "      <td>1</td>\n",
       "      <td>3</td>\n",
       "    </tr>\n",
       "    <tr>\n",
       "      <th>64</th>\n",
       "      <td>1.000000</td>\n",
       "      <td>1</td>\n",
       "      <td>1</td>\n",
       "      <td>1</td>\n",
       "      <td>1</td>\n",
       "    </tr>\n",
       "  </tbody>\n",
       "</table>\n",
       "<p>64 rows × 5 columns</p>\n",
       "</div>"
      ],
      "text/plain": [
       "        mean  median  max  min  n_nodes\n",
       "1   3.000000       3    3    3        1\n",
       "2   4.333333       4    6    3        3\n",
       "3   6.000000       5   12    2       10\n",
       "4   3.390244       3   11    2       41\n",
       "5   3.907895       3   16    2       76\n",
       "..       ...     ...  ...  ...      ...\n",
       "60  1.500000       1    2    1       14\n",
       "61  2.000000       2    3    1        7\n",
       "62  1.428571       1    2    1        7\n",
       "63  1.333333       1    2    1        3\n",
       "64  1.000000       1    1    1        1\n",
       "\n",
       "[64 rows x 5 columns]"
      ]
     },
     "execution_count": 36,
     "metadata": {},
     "output_type": "execute_result"
    }
   ],
   "source": [
    "out"
   ]
  },
  {
   "cell_type": "code",
   "execution_count": 33,
   "id": "44c8dc8a-ea3b-45c9-8531-037a25464350",
   "metadata": {},
   "outputs": [
    {
     "name": "stdout",
     "output_type": "stream",
     "text": [
      "|    |    mean |   median |   max |   min |   n_nodes |\n",
      "|---:|--------:|---------:|------:|------:|----------:|\n",
      "|  1 | 3       |        3 |     3 |     3 |         1 |\n",
      "|  2 | 4.33333 |        4 |     6 |     3 |         3 |\n",
      "|  3 | 6       |        5 |    12 |     2 |        10 |\n",
      "|  4 | 3.39024 |        3 |    11 |     2 |        41 |\n",
      "|  5 | 3.90789 |        3 |    16 |     2 |        76 |\n",
      "|  6 | 3.27778 |        2 |    13 |     2 |       180 |\n",
      "|  7 | 3.31044 |        2 |    22 |     1 |       364 |\n",
      "|  8 | 3.25473 |        2 |   466 |     1 |       793 |\n",
      "|  9 | 1.72021 |        1 |    42 |     1 |      1712 |\n",
      "| 10 | 2.89411 |        2 |    37 |     1 |      1086 |\n",
      "| 11 | 2.38532 |        2 |    39 |     1 |      1853 |\n",
      "| 12 | 2.72807 |        2 |    83 |     1 |      2405 |\n",
      "| 13 | 3.2666  |        2 |   421 |     1 |      4036 |\n",
      "| 14 | 2.14478 |        1 |   289 |     1 |      9083 |\n",
      "| 15 | 1.76473 |        1 |   156 |     1 |     10337 |\n",
      "| 16 | 1.65566 |        1 |   238 |     1 |      7844 |\n",
      "| 17 | 1.46304 |        1 |   200 |     1 |      5140 |\n",
      "| 18 | 1.17967 |        1 |    22 |     1 |      2371 |\n",
      "| 19 | 1.67606 |        1 |    33 |     1 |       426 |\n",
      "| 20 | 1.45263 |        1 |    22 |     1 |       285 |\n",
      "| 21 | 1.59375 |        1 |     7 |     1 |       128 |\n",
      "| 22 | 2.12162 |        2 |     9 |     1 |        74 |\n",
      "| 23 | 2.13253 |        2 |    10 |     1 |        83 |\n",
      "| 24 | 2.17647 |        2 |    11 |     1 |        85 |\n",
      "| 25 | 2.02083 |        2 |     6 |     1 |        96 |\n",
      "| 26 | 1.78495 |        2 |     4 |     1 |        93 |\n",
      "| 27 | 1.64384 |        2 |     4 |     1 |        73 |\n",
      "| 28 | 1.87234 |        2 |    10 |     1 |        47 |\n",
      "| 29 | 1.36585 |        1 |     2 |     1 |        41 |\n",
      "| 30 | 1.6     |        2 |     3 |     1 |        15 |\n",
      "| 31 | 1.77778 |        2 |     3 |     1 |         9 |\n",
      "| 32 | 2       |        2 |     4 |     1 |         7 |\n",
      "| 33 | 2.42857 |        2 |     4 |     2 |         7 |\n",
      "| 34 | 2.8     |        2 |     9 |     2 |        10 |\n",
      "| 35 | 1.88889 |        2 |     3 |     1 |        18 |\n",
      "| 36 | 1.1875  |        1 |     2 |     1 |        16 |\n",
      "| 37 | 2.33333 |        2 |     3 |     2 |         3 |\n",
      "| 38 | 2       |        2 |     2 |     2 |         4 |\n",
      "| 39 | 2.25    |        2 |     3 |     2 |         4 |\n",
      "| 40 | 2.2     |        2 |     3 |     2 |         5 |\n",
      "| 41 | 2.16667 |        2 |     3 |     2 |         6 |\n",
      "| 42 | 2.28571 |        2 |     3 |     2 |         7 |\n",
      "| 43 | 2.33333 |        2 |     4 |     2 |         9 |\n",
      "| 44 | 2.2     |        2 |     4 |     1 |        10 |\n",
      "| 45 | 2.66667 |        2 |     5 |     2 |        12 |\n",
      "| 46 | 1.70588 |        2 |     3 |     1 |        17 |\n",
      "| 47 | 2.18182 |        2 |     4 |     2 |        11 |\n",
      "| 48 | 2.38462 |        2 |     4 |     2 |        13 |\n",
      "| 49 | 2.33333 |        2 |     5 |     1 |        18 |\n",
      "| 50 | 2.20833 |        2 |     3 |     1 |        24 |\n",
      "| 51 | 1.89655 |        2 |     4 |     1 |        29 |\n",
      "| 52 | 1.73077 |        2 |     3 |     1 |        26 |\n",
      "| 53 | 1.63158 |        2 |     3 |     1 |        19 |\n",
      "| 54 | 1.83333 |        2 |     3 |     1 |        12 |\n",
      "| 55 | 1.8     |        2 |     2 |     1 |        10 |\n",
      "| 56 | 2.125   |        2 |     3 |     1 |         8 |\n",
      "| 57 | 2       |        2 |     4 |     1 |         9 |\n",
      "| 58 | 2       |        2 |     3 |     1 |         9 |\n",
      "| 59 | 2.55556 |        3 |     4 |     1 |         9 |\n",
      "| 60 | 1.5     |        1 |     2 |     1 |        14 |\n",
      "| 61 | 2       |        2 |     3 |     1 |         7 |\n",
      "| 62 | 1.42857 |        1 |     2 |     1 |         7 |\n",
      "| 63 | 1.33333 |        1 |     2 |     1 |         3 |\n",
      "| 64 | 1       |        1 |     1 |     1 |         1 |\n"
     ]
    }
   ],
   "source": [
    "print(out.to_markdown())"
   ]
  }
 ],
 "metadata": {
  "kernelspec": {
   "display_name": "Python 3 (ipykernel)",
   "language": "python",
   "name": "python3"
  },
  "language_info": {
   "codemirror_mode": {
    "name": "ipython",
    "version": 3
   },
   "file_extension": ".py",
   "mimetype": "text/x-python",
   "name": "python",
   "nbconvert_exporter": "python",
   "pygments_lexer": "ipython3",
   "version": "3.11.4"
  }
 },
 "nbformat": 4,
 "nbformat_minor": 5
}
