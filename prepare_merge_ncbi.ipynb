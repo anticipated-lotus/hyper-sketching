{
 "cells": [
  {
   "cell_type": "code",
   "execution_count": 1,
   "id": "f493d581-5fe1-4e55-b392-91bf4d993891",
   "metadata": {},
   "outputs": [
    {
     "name": "stderr",
     "output_type": "stream",
     "text": [
      "2024-01-27 14:12:31.900236: I tensorflow/core/platform/cpu_feature_guard.cc:182] This TensorFlow binary is optimized to use available CPU instructions in performance-critical operations.\n",
      "To enable the following instructions: AVX2 FMA, in other operations, rebuild TensorFlow with the appropriate compiler flags.\n",
      "INFO:pykeen.utils:Using opt_einsum\n"
     ]
    }
   ],
   "source": [
    "import grape\n",
    "import pandas as pd"
   ]
  },
  {
   "cell_type": "code",
   "execution_count": 2,
   "id": "2b0db5b4-85d4-4f9b-99c8-19201c5c2a84",
   "metadata": {},
   "outputs": [],
   "source": [
    "from grape.datasets.kgobo import NCBITAXON"
   ]
  },
  {
   "cell_type": "code",
   "execution_count": 3,
   "id": "b7f288ca-1dd8-4118-b144-eecfaac7f22d",
   "metadata": {},
   "outputs": [],
   "source": [
    "_ = NCBITAXON()"
   ]
  },
  {
   "cell_type": "code",
   "execution_count": 4,
   "id": "8738e7b8-5e8d-4d55-a7b9-a5ba5d2d381b",
   "metadata": {},
   "outputs": [],
   "source": [
    "ncbi = pd.read_csv(\"./graphs/kgobo/NCBITAXON/2023-09-14/ncbitaxon_kgx_tsv/ncbitaxon_kgx_tsv_nodes.tsv\", sep=\"\\t\", low_memory=False)"
   ]
  },
  {
   "cell_type": "code",
   "execution_count": 5,
   "id": "bf43b122-e8d8-4b76-bc26-ff4b9222d9c0",
   "metadata": {},
   "outputs": [],
   "source": [
    "species = pd.read_csv(\"./data/molecules/230106_frozen_metadata.csv.gz\", low_memory=False)"
   ]
  },
  {
   "cell_type": "code",
   "execution_count": 6,
   "id": "f58ddfaf-5e91-487f-bdbb-460a6af455eb",
   "metadata": {},
   "outputs": [],
   "source": [
    "species['wd_taxon'] = 'wd:' + species['organism_wikidata'].str.extract(r\"(Q\\d+)\")"
   ]
  },
  {
   "cell_type": "code",
   "execution_count": 7,
   "id": "ecdf36cd-f672-4371-a001-a9b807cff4ac",
   "metadata": {},
   "outputs": [],
   "source": [
    "species = species.dropna(subset='organism_taxonomy_ncbiid').drop_duplicates(subset='organism_taxonomy_ncbiid')"
   ]
  },
  {
   "cell_type": "code",
   "execution_count": 8,
   "id": "f25ba6b5-e80d-446c-9a20-1e370fe87f43",
   "metadata": {},
   "outputs": [],
   "source": [
    "wd_to_ncbi_edges=pd.DataFrame({\n",
    "    'wikidata': species['wd_taxon'],\n",
    "    'ncbi': [f\"NCBITaxon:{i}\" for i in species['organism_taxonomy_ncbiid'].astype(int).values],\n",
    "    'type': 'biolink:same_as',\n",
    "})"
   ]
  },
  {
   "cell_type": "code",
   "execution_count": 9,
   "id": "b65b1d9b-9715-4f5b-8026-3c381697f931",
   "metadata": {},
   "outputs": [],
   "source": [
    "ncbi_node = pd.concat(\n",
    "    [\n",
    "        pd.DataFrame({\n",
    "            'node': wd_to_ncbi_edges.wikidata,\n",
    "            'type': 'biolink:OrganismTaxon',\n",
    "        }),\n",
    "        pd.DataFrame({\n",
    "            'node': wd_to_ncbi_edges.ncbi,\n",
    "            'type': 'biolink:OrganismalEntity'\n",
    "        })\n",
    "    ]\n",
    ").drop_duplicates()"
   ]
  },
  {
   "cell_type": "code",
   "execution_count": 10,
   "id": "3bc00abe-c551-4640-bbd7-78cc248f2ae5",
   "metadata": {},
   "outputs": [],
   "source": [
    "from grape import Graph"
   ]
  },
  {
   "cell_type": "code",
   "execution_count": 11,
   "id": "c7698326-a656-4a40-843a-e54966e5fe48",
   "metadata": {},
   "outputs": [],
   "source": [
    "wd_to_ncbi_graph = Graph.from_pd(\n",
    "    directed=True,\n",
    "    edges_df=wd_to_ncbi_edges,\n",
    "    edge_src_column='wikidata',\n",
    "    edge_dst_column='ncbi',\n",
    "    edge_type_column='type',\n",
    "    nodes_df=ncbi_node,\n",
    "    node_name_column='node',\n",
    "    node_type_column='type'\n",
    ")"
   ]
  },
  {
   "cell_type": "code",
   "execution_count": 12,
   "id": "d331073d-faaf-4234-bbb8-68d5b84cea4c",
   "metadata": {},
   "outputs": [],
   "source": [
    "lotus = Graph.from_csv(\n",
    "    name=\"LOTUS\",\n",
    "    node_path=\"./data/full_lotus_nodes.csv\",\n",
    "    node_list_separator=\"\\t\",\n",
    "    node_list_header=True,\n",
    "    nodes_column_number=0,\n",
    "    node_list_node_types_column_number=1,\n",
    "    edge_path=\"./data/full_lotus_edges.csv\",\n",
    "    edge_list_separator=\"\\t\",\n",
    "    edge_list_header=True,\n",
    "    sources_column_number=0,\n",
    "    destinations_column_number=1,\n",
    "    edge_list_edge_types_column_number=2,\n",
    "    #weights_column_number=3,\n",
    "    directed=True,\n",
    ")"
   ]
  },
  {
   "cell_type": "code",
   "execution_count": 13,
   "id": "2ac96a11-d72c-4a3d-8fe4-069196a7f35f",
   "metadata": {},
   "outputs": [],
   "source": [
    "ncbi_graph = NCBITAXON()"
   ]
  },
  {
   "cell_type": "code",
   "execution_count": 14,
   "id": "277bc8fc-9fd5-452d-b4dd-135fbcaebbff",
   "metadata": {},
   "outputs": [],
   "source": [
    "lotus_with_ncbi = lotus|wd_to_ncbi_graph|ncbi_graph.to_directed()"
   ]
  },
  {
   "cell_type": "code",
   "execution_count": 15,
   "id": "74913258-e595-45eb-9066-ceab56752e5a",
   "metadata": {},
   "outputs": [],
   "source": [
    "lotus_with_ncbi.dump_nodes(\n",
    "    path=\"./data/lotus_with_ncbi_nodes.csv\",\n",
    "    header=True,\n",
    "    nodes_column_number=0,\n",
    "    nodes_column=\"nodes\",\n",
    "    node_types_column_number=1,\n",
    "    node_type_column=\"type\"\n",
    ")"
   ]
  },
  {
   "cell_type": "code",
   "execution_count": 16,
   "id": "d889d7b1-6c64-4d07-b9bd-16aa9579cca0",
   "metadata": {},
   "outputs": [],
   "source": [
    "lotus_with_ncbi.dump_edges(\n",
    "    path=\"./data/lotus_with_ncbi_edges.csv\",\n",
    "    header=True,\n",
    "    directed=True,\n",
    "    edge_types_column_number=2,\n",
    "    edge_type_column='edge_type',\n",
    ")"
   ]
  },
  {
   "cell_type": "code",
   "execution_count": 17,
   "id": "e8587c3c-91fa-4662-8567-37e5519c8f2d",
   "metadata": {},
   "outputs": [],
   "source": [
    "lotus_with_ncbi_cleaned = lotus_with_ncbi.remove_singleton_nodes()\n",
    "lotus_with_ncbi_cleaned = lotus_with_ncbi_cleaned.remove_components(top_k_components=1)"
   ]
  },
  {
   "cell_type": "code",
   "execution_count": 18,
   "id": "541ce751-96e5-42d4-98c5-279e3609ef69",
   "metadata": {},
   "outputs": [],
   "source": [
    "lotus_with_ncbi_cleaned.dump_nodes(\n",
    "    path=\"./data/lotus_with_ncbi_clean_nodes.csv\",\n",
    "    header=True,\n",
    "    nodes_column_number=0,\n",
    "    nodes_column=\"nodes\",\n",
    "    node_types_column_number=1,\n",
    "    node_type_column=\"type\"\n",
    ")\n",
    "lotus_with_ncbi_cleaned.dump_edges(\n",
    "    path=\"./data/lotus_with_ncbi_clean_edges.csv\",\n",
    "    header=True,\n",
    "    directed=True,\n",
    "    edge_types_column_number=2,\n",
    "    edge_type_column='edge_type',\n",
    ")"
   ]
  }
 ],
 "metadata": {
  "kernelspec": {
   "display_name": "Python 3 (ipykernel)",
   "language": "python",
   "name": "python3"
  },
  "language_info": {
   "codemirror_mode": {
    "name": "ipython",
    "version": 3
   },
   "file_extension": ".py",
   "mimetype": "text/x-python",
   "name": "python",
   "nbconvert_exporter": "python",
   "pygments_lexer": "ipython3",
   "version": "3.11.4"
  }
 },
 "nbformat": 4,
 "nbformat_minor": 5
}
