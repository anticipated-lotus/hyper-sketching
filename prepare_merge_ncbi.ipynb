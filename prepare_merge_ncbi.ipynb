{
 "cells": [
  {
   "cell_type": "code",
   "execution_count": 1,
   "id": "f493d581-5fe1-4e55-b392-91bf4d993891",
   "metadata": {},
   "outputs": [
    {
     "name": "stderr",
     "output_type": "stream",
     "text": [
      "2024-01-22 13:31:10.404754: I tensorflow/core/platform/cpu_feature_guard.cc:182] This TensorFlow binary is optimized to use available CPU instructions in performance-critical operations.\n",
      "To enable the following instructions: AVX2 FMA, in other operations, rebuild TensorFlow with the appropriate compiler flags.\n",
      "INFO:pykeen.utils:Using opt_einsum\n"
     ]
    }
   ],
   "source": [
    "import grape\n",
    "import pandas as pd"
   ]
  },
  {
   "cell_type": "code",
   "execution_count": 2,
   "id": "2b0db5b4-85d4-4f9b-99c8-19201c5c2a84",
   "metadata": {},
   "outputs": [],
   "source": [
    "from grape.datasets.kgobo import NCBITAXON"
   ]
  },
  {
   "cell_type": "code",
   "execution_count": 3,
   "id": "b7f288ca-1dd8-4118-b144-eecfaac7f22d",
   "metadata": {},
   "outputs": [],
   "source": [
    "_ = NCBITAXON()"
   ]
  },
  {
   "cell_type": "code",
   "execution_count": 4,
   "id": "8738e7b8-5e8d-4d55-a7b9-a5ba5d2d381b",
   "metadata": {},
   "outputs": [],
   "source": [
    "ncbi = pd.read_csv(\"./graphs/kgobo/NCBITAXON/2023-06-16/ncbitaxon_kgx_tsv/ncbitaxon_kgx_tsv_nodes.tsv\", sep=\"\\t\", low_memory=False)"
   ]
  },
  {
   "cell_type": "code",
   "execution_count": 5,
   "id": "bf43b122-e8d8-4b76-bc26-ff4b9222d9c0",
   "metadata": {},
   "outputs": [],
   "source": [
    "species = pd.read_csv(\"./data/molecules/230106_frozen_metadata.csv.gz\", low_memory=False)"
   ]
  },
  {
   "cell_type": "code",
   "execution_count": 6,
   "id": "f58ddfaf-5e91-487f-bdbb-460a6af455eb",
   "metadata": {},
   "outputs": [],
   "source": [
    "species['wd_taxon'] = 'wd:' + species['organism_wikidata'].str.extract(r\"(Q\\d+)\")"
   ]
  },
  {
   "cell_type": "code",
   "execution_count": 7,
   "id": "ecdf36cd-f672-4371-a001-a9b807cff4ac",
   "metadata": {},
   "outputs": [],
   "source": [
    "species = species.dropna(subset='organism_taxonomy_ncbiid').drop_duplicates(subset='organism_taxonomy_ncbiid')"
   ]
  },
  {
   "cell_type": "code",
   "execution_count": 8,
   "id": "f25ba6b5-e80d-446c-9a20-1e370fe87f43",
   "metadata": {},
   "outputs": [],
   "source": [
    "wd_to_ncbi_edges=pd.DataFrame({\n",
    "    'wikidata': species['wd_taxon'],\n",
    "    'ncbi': [f\"NCBITaxon:{i}\" for i in species['organism_taxonomy_ncbiid'].astype(int).values],\n",
    "    'type': 'biolink:same_as',\n",
    "})"
   ]
  },
  {
   "cell_type": "code",
   "execution_count": 9,
   "id": "b65b1d9b-9715-4f5b-8026-3c381697f931",
   "metadata": {},
   "outputs": [],
   "source": [
    "ncbi_node = pd.concat(\n",
    "    [\n",
    "        pd.DataFrame({\n",
    "            'node': wd_to_ncbi_edges.wikidata,\n",
    "            'type': 'biolink:OrganismTaxon',\n",
    "        }),\n",
    "        pd.DataFrame({\n",
    "            'node': wd_to_ncbi_edges.ncbi,\n",
    "            'type': 'biolink:OrganismalEntity'\n",
    "        })\n",
    "    ]\n",
    ").drop_duplicates()"
   ]
  },
  {
   "cell_type": "code",
   "execution_count": 10,
   "id": "3bc00abe-c551-4640-bbd7-78cc248f2ae5",
   "metadata": {},
   "outputs": [],
   "source": [
    "from grape import Graph"
   ]
  },
  {
   "cell_type": "code",
   "execution_count": 11,
   "id": "c7698326-a656-4a40-843a-e54966e5fe48",
   "metadata": {},
   "outputs": [],
   "source": [
    "wd_to_ncbi_graph = Graph.from_pd(\n",
    "    directed=True,\n",
    "    edges_df=wd_to_ncbi_edges,\n",
    "    edge_src_column='wikidata',\n",
    "    edge_dst_column='ncbi',\n",
    "    edge_type_column='type',\n",
    "    nodes_df=ncbi_node,\n",
    "    node_name_column='node',\n",
    "    node_type_column='type'\n",
    ")"
   ]
  },
  {
   "cell_type": "code",
   "execution_count": 12,
   "id": "d331073d-faaf-4234-bbb8-68d5b84cea4c",
   "metadata": {},
   "outputs": [],
   "source": [
    "lotus = Graph.from_csv(\n",
    "    name=\"LOTUS\",\n",
    "    node_path=\"./data/full_lotus_nodes.csv\",\n",
    "    node_list_separator=\"\\t\",\n",
    "    node_list_header=True,\n",
    "    nodes_column_number=0,\n",
    "    node_list_node_types_column_number=1,\n",
    "    edge_path=\"./data/full_lotus_edges.csv\",\n",
    "    edge_list_separator=\"\\t\",\n",
    "    edge_list_header=True,\n",
    "    sources_column_number=0,\n",
    "    destinations_column_number=1,\n",
    "    edge_list_edge_types_column_number=2,\n",
    "    #weights_column_number=3,\n",
    "    directed=True,\n",
    ")"
   ]
  },
  {
   "cell_type": "code",
   "execution_count": 13,
   "id": "2ac96a11-d72c-4a3d-8fe4-069196a7f35f",
   "metadata": {},
   "outputs": [],
   "source": [
    "ncbi_graph = NCBITAXON()"
   ]
  },
  {
   "cell_type": "code",
   "execution_count": 14,
   "id": "277bc8fc-9fd5-452d-b4dd-135fbcaebbff",
   "metadata": {},
   "outputs": [],
   "source": [
    "lotus_with_ncbi = lotus|wd_to_ncbi_graph|ncbi_graph.to_directed()"
   ]
  },
  {
   "cell_type": "code",
   "execution_count": 15,
   "id": "74913258-e595-45eb-9066-ceab56752e5a",
   "metadata": {},
   "outputs": [],
   "source": [
    "lotus_with_ncbi.dump_nodes(\n",
    "    path=\"./data/lotus_with_ncbi_nodes.csv\",\n",
    "    header=True,\n",
    "    nodes_column_number=0,\n",
    "    nodes_column=\"nodes\",\n",
    "    node_types_column_number=1,\n",
    "    node_type_column=\"type\"\n",
    ")"
   ]
  },
  {
   "cell_type": "code",
   "execution_count": 16,
   "id": "d889d7b1-6c64-4d07-b9bd-16aa9579cca0",
   "metadata": {},
   "outputs": [],
   "source": [
    "lotus_with_ncbi.dump_edges(\n",
    "    path=\"./data/lotus_with_ncbi_edges.csv\",\n",
    "    header=True,\n",
    "    directed=True,\n",
    "    edge_types_column_number=2,\n",
    "    edge_type_column='edge_type',\n",
    ")"
   ]
  },
  {
   "cell_type": "code",
   "execution_count": 17,
   "id": "09346243-fc01-4db1-b5bc-24d6acb4342b",
   "metadata": {},
   "outputs": [
    {
     "data": {
      "text/html": [
       "<div class=\"graph-report\"><style>.graph-report li {margin: 0.5em 0 0.5em 0;}.graph-report .paragraph {text-align: justify;word-break: break-all;}.graph-report .small-columns {column-count: 4;column-gap: 2em;}.graph-report .medium-columns {column-count: 3;column-gap: 2em;}.graph-report .large-columns {column-count: 2;column-gap: 2em;}.graph-report .single-column {}@media only screen and (max-width: 600px) {.graph-report .small-columns {column-count: 1;}.graph-report .medium-columns {column-count: 1;}.graph-report .large-columns {column-count: 1;}}@media only screen and (min-width: 600px) and (max-width: 800px) {.graph-report .small-columns {column-count: 2;}.graph-report .medium-columns {column-count: 1;}.graph-report .large-columns {column-count: 1;}}@media only screen and (min-width: 800px) and (max-width: 1024px) {.graph-report .small-columns {column-count: 3;}.graph-report .medium-columns {column-count: 2;}.graph-report .large-columns {column-count: 1;}}</style><h2>LOTUS_with_NCBITaxon</h2><p class=\"paragraph\">The directed graph LOTUS_with_NCBITaxon has 2.79M heterogeneous nodes and 6.07M heterogeneous edges. The RAM requirements for the nodes and edges data structures are 328.83MB and 46.56MB respectively.</p><h3 style=\"margin: 1em 0 0 0;\">Degree centrality</h3><p class=\"paragraph\">The minimum node degree is 0, the maximum node degree is 43.71K, the mode degree is 1, the mean degree is 2.18 and the node degree median is 1.</p><p class=\"paragraph\">The nodes with the highest degree centrality are <a href='https://www.ncbi.nlm.nih.gov/taxonomy/?term=500585' target='_blank' title='Go to NCBI Taxonomy to get more informations about NCBITaxon:500585'>NCBITaxon:500585</a> (degree 43.71K and node type <a href='https://biolink.github.io/biolink-model/docs/OrganismalEntity.html' target='_blank' title='Go to BioLink to get more informations about biolink:OrganismalEntity'>biolink:OrganismalEntity</a>), <a href='https://www.ncbi.nlm.nih.gov/taxonomy/?term=329961' target='_blank' title='Go to NCBI Taxonomy to get more informations about NCBITaxon:329961'>NCBITaxon:329961</a> (degree 43.41K and node type <a href='https://biolink.github.io/biolink-model/docs/OrganismalEntity.html' target='_blank' title='Go to BioLink to get more informations about biolink:OrganismalEntity'>biolink:OrganismalEntity</a>), <a href='https://www.ncbi.nlm.nih.gov/taxonomy/?term=114727' target='_blank' title='Go to NCBI Taxonomy to get more informations about NCBITaxon:114727'>NCBITaxon:114727</a> (degree 36.13K and node type <a href='https://biolink.github.io/biolink-model/docs/OrganismalEntity.html' target='_blank' title='Go to BioLink to get more informations about biolink:OrganismalEntity'>biolink:OrganismalEntity</a>), <a href='https://www.ncbi.nlm.nih.gov/taxonomy/?term=119210' target='_blank' title='Go to NCBI Taxonomy to get more informations about NCBITaxon:119210'>NCBITaxon:119210</a> (degree 35.31K and node type <a href='https://biolink.github.io/biolink-model/docs/OrganismalEntity.html' target='_blank' title='Go to BioLink to get more informations about biolink:OrganismalEntity'>biolink:OrganismalEntity</a>) and <a href='https://www.ncbi.nlm.nih.gov/taxonomy/?term=49928' target='_blank' title='Go to NCBI Taxonomy to get more informations about NCBITaxon:49928'>NCBITaxon:49928</a> (degree 33.68K and node type <a href='https://biolink.github.io/biolink-model/docs/OrganismalEntity.html' target='_blank' title='Go to BioLink to get more informations about biolink:OrganismalEntity'>biolink:OrganismalEntity</a>).</p><h3 style=\"margin: 1em 0 0 0;\">Node types</h3><p class=\"paragraph\">The graph has 4 node types, which are <a href='https://biolink.github.io/biolink-model/docs/OrganismalEntity.html' target='_blank' title='Go to BioLink to get more informations about biolink:OrganismalEntity'>biolink:OrganismalEntity</a> (2.51M nodes, 90.09%), <a href='https://biolink.github.io/biolink-model/docs/ChemicalEntity.html' target='_blank' title='Go to BioLink to get more informations about biolink:ChemicalEntity'>biolink:ChemicalEntity</a> (226.38K nodes, 8.13%), <a href='https://biolink.github.io/biolink-model/docs/OrganismTaxon.html' target='_blank' title='Go to BioLink to get more informations about biolink:OrganismTaxon'>biolink:OrganismTaxon</a> (49.70K nodes, 1.78%) and <a href='https://biolink.github.io/biolink-model/docs/NamedThing.html' target='_blank' title='Go to BioLink to get more informations about biolink:NamedThing'>biolink:NamedThing</a> (30 nodes). The RAM requirement for the node types data structure is 178.30MB.</p><h3 style=\"margin: 1em 0 0 0;\">Edge types</h3><p class=\"paragraph\">The graph has 3 edge types, which are <a href='https://biolink.github.io/biolink-model/docs/subclass_of.html' target='_blank' title='Go to BioLink to get more informations about biolink:subclass_of'>biolink:subclass_of</a> (5.51M edges, 90.75%), <a href='https://biolink.github.io/biolink-model/docs/in_taxon.html' target='_blank' title='Go to BioLink to get more informations about biolink:in_taxon'>biolink:in_taxon</a> (533.35K edges, 8.79%) and <a href='https://biolink.github.io/biolink-model/docs/same_as.html' target='_blank' title='Go to BioLink to get more informations about biolink:same_as'>biolink:same_as</a> (27.99K edges, 0.46%). The RAM requirement for the edge types data structure is 24.27MB.</p><h3 style=\"margin: 1em 0 0 0;\">Topological Oddities</h3><p class=\"paragraph\">A topological oddity is a set of nodes in the graph that <i>may be derived</i> by an error during the generation of the edge list of the graph and, depending on the task, could bias the results of topology-based models. Note that in a directed graph we only support the detection of isomorphic nodes and edges. In the following paragraph, we will describe the detected topological oddities.</p><h4 style=\"margin: 1em 0 0 0;\">Singleton nodes</h4><p class=\"paragraph\">A singleton node is a node disconnected from all other nodes. We have detected 27 singleton nodes in the graph, involving a total of 27 nodes. The detected singleton nodes are:</p><ul class=\"small-columns\"><li><p class=\"paragraph\"><a href='http://purl.obolibrary.org/obo/IAO_0000115' target='_blank' title='Go to Information Artifact Ontology to get more informations about IAO:0000115'>IAO:0000115</a> (node type <a href='https://biolink.github.io/biolink-model/docs/NamedThing.html' target='_blank' title='Go to BioLink to get more informations about biolink:NamedThing'>biolink:NamedThing</a>)</p></li>\n",
       "<li><p class=\"paragraph\"><a href='http://purl.obolibrary.org/obo/ncbitaxon#acronym' target='_blank' title='Go to Open Biomedical Ontology to get more informations about OBO:ncbitaxon#acronym'>OBO:ncbitaxon#acronym</a> (node type <a href='https://biolink.github.io/biolink-model/docs/NamedThing.html' target='_blank' title='Go to BioLink to get more informations about biolink:NamedThing'>biolink:NamedThing</a>)</p></li>\n",
       "<li><p class=\"paragraph\"><a href='http://purl.obolibrary.org/obo/ncbitaxon#blast_name' target='_blank' title='Go to Open Biomedical Ontology to get more informations about OBO:ncbitaxon#blast_name'>OBO:ncbitaxon#blast_name</a> (node type <a href='https://biolink.github.io/biolink-model/docs/NamedThing.html' target='_blank' title='Go to BioLink to get more informations about biolink:NamedThing'>biolink:NamedThing</a>)</p></li>\n",
       "<li><p class=\"paragraph\"><a href='http://purl.obolibrary.org/obo/ncbitaxon#equivalent_name' target='_blank' title='Go to Open Biomedical Ontology to get more informations about OBO:ncbitaxon#equivalent_name'>OBO:ncbitaxon#equivalent_name</a> (node type <a href='https://biolink.github.io/biolink-model/docs/NamedThing.html' target='_blank' title='Go to BioLink to get more informations about biolink:NamedThing'>biolink:NamedThing</a>)</p></li>\n",
       "<li><p class=\"paragraph\"><a href='http://purl.obolibrary.org/obo/ncbitaxon#genbank_anamorph' target='_blank' title='Go to Open Biomedical Ontology to get more informations about OBO:ncbitaxon#genbank_anamorph'>OBO:ncbitaxon#genbank_anamorph</a> (node type <a href='https://biolink.github.io/biolink-model/docs/NamedThing.html' target='_blank' title='Go to BioLink to get more informations about biolink:NamedThing'>biolink:NamedThing</a>)</p></li>\n",
       "<li><p class=\"paragraph\"><a href='http://purl.obolibrary.org/obo/ncbitaxon#genbank_synonym' target='_blank' title='Go to Open Biomedical Ontology to get more informations about OBO:ncbitaxon#genbank_synonym'>OBO:ncbitaxon#genbank_synonym</a> (node type <a href='https://biolink.github.io/biolink-model/docs/NamedThing.html' target='_blank' title='Go to BioLink to get more informations about biolink:NamedThing'>biolink:NamedThing</a>)</p></li>\n",
       "<li><p class=\"paragraph\"><a href='http://purl.obolibrary.org/obo/ncbitaxon#in_part' target='_blank' title='Go to Open Biomedical Ontology to get more informations about OBO:ncbitaxon#in_part'>OBO:ncbitaxon#in_part</a> (node type <a href='https://biolink.github.io/biolink-model/docs/NamedThing.html' target='_blank' title='Go to BioLink to get more informations about biolink:NamedThing'>biolink:NamedThing</a>)</p></li>\n",
       "<li><p class=\"paragraph\"><a href='http://purl.obolibrary.org/obo/ncbitaxon#misspelling' target='_blank' title='Go to Open Biomedical Ontology to get more informations about OBO:ncbitaxon#misspelling'>OBO:ncbitaxon#misspelling</a> (node type <a href='https://biolink.github.io/biolink-model/docs/NamedThing.html' target='_blank' title='Go to BioLink to get more informations about biolink:NamedThing'>biolink:NamedThing</a>)</p></li>\n",
       "<li><p class=\"paragraph\"><a href='http://purl.obolibrary.org/obo/ncbitaxon#synonym' target='_blank' title='Go to Open Biomedical Ontology to get more informations about OBO:ncbitaxon#synonym'>OBO:ncbitaxon#synonym</a> (node type <a href='https://biolink.github.io/biolink-model/docs/NamedThing.html' target='_blank' title='Go to BioLink to get more informations about biolink:NamedThing'>biolink:NamedThing</a>)</p></li>\n",
       "<li><p class=\"paragraph\"><a href='http://www.geneontology.org/formats/oboInOwl#SynonymTypeProperty' target='_blank' title='Go to Gene Ontology OBO in OWL to get more informations about OIO:SynonymTypeProperty'>OIO:SynonymTypeProperty</a> (node type <a href='https://biolink.github.io/biolink-model/docs/NamedThing.html' target='_blank' title='Go to BioLink to get more informations about biolink:NamedThing'>biolink:NamedThing</a>)</p></li>\n",
       "<li><p class=\"paragraph\"><a href='http://www.geneontology.org/formats/oboInOwl#hasBroadSynonym' target='_blank' title='Go to Gene Ontology OBO in OWL to get more informations about OIO:hasBroadSynonym'>OIO:hasBroadSynonym</a> (node type <a href='https://biolink.github.io/biolink-model/docs/NamedThing.html' target='_blank' title='Go to BioLink to get more informations about biolink:NamedThing'>biolink:NamedThing</a>)</p></li>\n",
       "<li><p class=\"paragraph\"><a href='http://www.geneontology.org/formats/oboInOwl#hasExactSynonym' target='_blank' title='Go to Gene Ontology OBO in OWL to get more informations about OIO:hasExactSynonym'>OIO:hasExactSynonym</a> (node type <a href='https://biolink.github.io/biolink-model/docs/NamedThing.html' target='_blank' title='Go to BioLink to get more informations about biolink:NamedThing'>biolink:NamedThing</a>)</p></li>\n",
       "<li><p class=\"paragraph\"><a href='http://www.geneontology.org/formats/oboInOwl#hasOBONamespace' target='_blank' title='Go to Gene Ontology OBO in OWL to get more informations about OIO:hasOBONamespace'>OIO:hasOBONamespace</a> (node type <a href='https://biolink.github.io/biolink-model/docs/NamedThing.html' target='_blank' title='Go to BioLink to get more informations about biolink:NamedThing'>biolink:NamedThing</a>)</p></li>\n",
       "<li><p class=\"paragraph\"><a href='http://www.geneontology.org/formats/oboInOwl#hasScope' target='_blank' title='Go to Gene Ontology OBO in OWL to get more informations about OIO:hasScope'>OIO:hasScope</a> (node type <a href='https://biolink.github.io/biolink-model/docs/NamedThing.html' target='_blank' title='Go to BioLink to get more informations about biolink:NamedThing'>biolink:NamedThing</a>)</p></li>\n",
       "<li><p class=\"paragraph\"><a href='http://purl.obolibrary.org/obo/ncbitaxon#anamorph' target='_blank' title='Go to Open Biomedical Ontology to get more informations about OBO:ncbitaxon#anamorph'>OBO:ncbitaxon#anamorph</a> (node type <a href='https://biolink.github.io/biolink-model/docs/NamedThing.html' target='_blank' title='Go to BioLink to get more informations about biolink:NamedThing'>biolink:NamedThing</a>)</p></li></ul><p class=\"paragraph\">And other 12 singleton nodes.</p><h4 style=\"margin: 1em 0 0 0;\">Isomorphic node groups</h4><p class=\"paragraph\">Isomorphic node groups are nodes with exactly the same neighbours, node types, edge types and weights (if present in the graph). Nodes in such groups are topologically indistinguishable, that is swapping their ID would not change the graph topology. We have detected 42 isomorphic node groups in the graph, involving a total of 94 nodes and 1.51K edges (0.02%), with the largest one involving 4 nodes and 392 edges. The detected isomorphic node groups, sorted by decreasing size, are:</p><ol class=\"medium-columns\"><li><p class=\"paragraph\">Group with 2 nodes (degree 196 and node type <a href='https://biolink.github.io/biolink-model/docs/ChemicalEntity.html' target='_blank' title='Go to BioLink to get more informations about biolink:ChemicalEntity'>biolink:ChemicalEntity</a>): <a href='https://www.wikidata.org/wiki/Q56071533' target='_blank' title='Go to WikiData to get more informations about wd:Q56071533'>wd:Q56071533</a> and <a href='https://www.wikidata.org/wiki/Q21036645' target='_blank' title='Go to WikiData to get more informations about wd:Q21036645'>wd:Q21036645</a>.</p></li>\n",
       "<li><p class=\"paragraph\">Group with 2 nodes (degree 31 and node type <a href='https://biolink.github.io/biolink-model/docs/ChemicalEntity.html' target='_blank' title='Go to BioLink to get more informations about biolink:ChemicalEntity'>biolink:ChemicalEntity</a>): <a href='https://www.wikidata.org/wiki/Q104251872' target='_blank' title='Go to WikiData to get more informations about wd:Q104251872'>wd:Q104251872</a> and <a href='https://www.wikidata.org/wiki/Q110079913' target='_blank' title='Go to WikiData to get more informations about wd:Q110079913'>wd:Q110079913</a>.</p></li>\n",
       "<li><p class=\"paragraph\">Group with 4 nodes (degree 14 and node type <a href='https://biolink.github.io/biolink-model/docs/ChemicalEntity.html' target='_blank' title='Go to BioLink to get more informations about biolink:ChemicalEntity'>biolink:ChemicalEntity</a>): <a href='https://www.wikidata.org/wiki/Q105139889' target='_blank' title='Go to WikiData to get more informations about wd:Q105139889'>wd:Q105139889</a>, <a href='https://www.wikidata.org/wiki/Q105302721' target='_blank' title='Go to WikiData to get more informations about wd:Q105302721'>wd:Q105302721</a>, <a href='https://www.wikidata.org/wiki/Q105193903' target='_blank' title='Go to WikiData to get more informations about wd:Q105193903'>wd:Q105193903</a> and <a href='https://www.wikidata.org/wiki/Q105225037' target='_blank' title='Go to WikiData to get more informations about wd:Q105225037'>wd:Q105225037</a>.</p></li>\n",
       "<li><p class=\"paragraph\">Group with 2 nodes (degree 25 and node type <a href='https://biolink.github.io/biolink-model/docs/ChemicalEntity.html' target='_blank' title='Go to BioLink to get more informations about biolink:ChemicalEntity'>biolink:ChemicalEntity</a>): <a href='https://www.wikidata.org/wiki/Q72437451' target='_blank' title='Go to WikiData to get more informations about wd:Q72437451'>wd:Q72437451</a> and <a href='https://www.wikidata.org/wiki/Q104666246' target='_blank' title='Go to WikiData to get more informations about wd:Q104666246'>wd:Q104666246</a>.</p></li>\n",
       "<li><p class=\"paragraph\">Group with 2 nodes (degree 22 and node type <a href='https://biolink.github.io/biolink-model/docs/ChemicalEntity.html' target='_blank' title='Go to BioLink to get more informations about biolink:ChemicalEntity'>biolink:ChemicalEntity</a>): <a href='https://www.wikidata.org/wiki/Q412223' target='_blank' title='Go to WikiData to get more informations about wd:Q412223'>wd:Q412223</a> and <a href='https://www.wikidata.org/wiki/Q111226215' target='_blank' title='Go to WikiData to get more informations about wd:Q111226215'>wd:Q111226215</a>.</p></li>\n",
       "<li><p class=\"paragraph\">Group with 2 nodes (degree 22 and node type <a href='https://biolink.github.io/biolink-model/docs/ChemicalEntity.html' target='_blank' title='Go to BioLink to get more informations about biolink:ChemicalEntity'>biolink:ChemicalEntity</a>): <a href='https://www.wikidata.org/wiki/Q27166443' target='_blank' title='Go to WikiData to get more informations about wd:Q27166443'>wd:Q27166443</a> and <a href='https://www.wikidata.org/wiki/Q104392734' target='_blank' title='Go to WikiData to get more informations about wd:Q104392734'>wd:Q104392734</a>.</p></li>\n",
       "<li><p class=\"paragraph\">Group with 3 nodes (degree 14 and node type <a href='https://biolink.github.io/biolink-model/docs/ChemicalEntity.html' target='_blank' title='Go to BioLink to get more informations about biolink:ChemicalEntity'>biolink:ChemicalEntity</a>): <a href='https://www.wikidata.org/wiki/Q105196517' target='_blank' title='Go to WikiData to get more informations about wd:Q105196517'>wd:Q105196517</a>, <a href='https://www.wikidata.org/wiki/Q105136788' target='_blank' title='Go to WikiData to get more informations about wd:Q105136788'>wd:Q105136788</a> and <a href='https://www.wikidata.org/wiki/Q105132682' target='_blank' title='Go to WikiData to get more informations about wd:Q105132682'>wd:Q105132682</a>.</p></li>\n",
       "<li><p class=\"paragraph\">Group with 4 nodes (degree 10 and node type <a href='https://biolink.github.io/biolink-model/docs/ChemicalEntity.html' target='_blank' title='Go to BioLink to get more informations about biolink:ChemicalEntity'>biolink:ChemicalEntity</a>): <a href='https://www.wikidata.org/wiki/Q104919581' target='_blank' title='Go to WikiData to get more informations about wd:Q104919581'>wd:Q104919581</a>, <a href='https://www.wikidata.org/wiki/Q105228959' target='_blank' title='Go to WikiData to get more informations about wd:Q105228959'>wd:Q105228959</a>, <a href='https://www.wikidata.org/wiki/Q104919580' target='_blank' title='Go to WikiData to get more informations about wd:Q104919580'>wd:Q104919580</a> and <a href='https://www.wikidata.org/wiki/Q104919583' target='_blank' title='Go to WikiData to get more informations about wd:Q104919583'>wd:Q104919583</a>.</p></li>\n",
       "<li><p class=\"paragraph\">Group with 3 nodes (degree 11 and node type <a href='https://biolink.github.io/biolink-model/docs/ChemicalEntity.html' target='_blank' title='Go to BioLink to get more informations about biolink:ChemicalEntity'>biolink:ChemicalEntity</a>): <a href='https://www.wikidata.org/wiki/Q104667383' target='_blank' title='Go to WikiData to get more informations about wd:Q104667383'>wd:Q104667383</a>, <a href='https://www.wikidata.org/wiki/Q104667387' target='_blank' title='Go to WikiData to get more informations about wd:Q104667387'>wd:Q104667387</a> and <a href='https://www.wikidata.org/wiki/Q104667384' target='_blank' title='Go to WikiData to get more informations about wd:Q104667384'>wd:Q104667384</a>.</p></li>\n",
       "<li><p class=\"paragraph\">Group with 3 nodes (degree 11 and node type <a href='https://biolink.github.io/biolink-model/docs/ChemicalEntity.html' target='_blank' title='Go to BioLink to get more informations about biolink:ChemicalEntity'>biolink:ChemicalEntity</a>): <a href='https://www.wikidata.org/wiki/Q27105891' target='_blank' title='Go to WikiData to get more informations about wd:Q27105891'>wd:Q27105891</a>, <a href='https://www.wikidata.org/wiki/Q104395963' target='_blank' title='Go to WikiData to get more informations about wd:Q104395963'>wd:Q104395963</a> and <a href='https://www.wikidata.org/wiki/Q104395964' target='_blank' title='Go to WikiData to get more informations about wd:Q104395964'>wd:Q104395964</a>.</p></li>\n",
       "<li><p class=\"paragraph\">Group with 3 nodes (degree 10 and node type <a href='https://biolink.github.io/biolink-model/docs/ChemicalEntity.html' target='_blank' title='Go to BioLink to get more informations about biolink:ChemicalEntity'>biolink:ChemicalEntity</a>): <a href='https://www.wikidata.org/wiki/Q105027054' target='_blank' title='Go to WikiData to get more informations about wd:Q105027054'>wd:Q105027054</a>, <a href='https://www.wikidata.org/wiki/Q105123190' target='_blank' title='Go to WikiData to get more informations about wd:Q105123190'>wd:Q105123190</a> and <a href='https://www.wikidata.org/wiki/Q27279099' target='_blank' title='Go to WikiData to get more informations about wd:Q27279099'>wd:Q27279099</a>.</p></li>\n",
       "<li><p class=\"paragraph\">Group with 3 nodes (degree 10 and node type <a href='https://biolink.github.io/biolink-model/docs/ChemicalEntity.html' target='_blank' title='Go to BioLink to get more informations about biolink:ChemicalEntity'>biolink:ChemicalEntity</a>): <a href='https://www.wikidata.org/wiki/Q104995039' target='_blank' title='Go to WikiData to get more informations about wd:Q104995039'>wd:Q104995039</a>, <a href='https://www.wikidata.org/wiki/Q104995037' target='_blank' title='Go to WikiData to get more informations about wd:Q104995037'>wd:Q104995037</a> and <a href='https://www.wikidata.org/wiki/Q104995032' target='_blank' title='Go to WikiData to get more informations about wd:Q104995032'>wd:Q104995032</a>.</p></li>\n",
       "<li><p class=\"paragraph\">Group with 3 nodes (degree 10 and node type <a href='https://biolink.github.io/biolink-model/docs/ChemicalEntity.html' target='_blank' title='Go to BioLink to get more informations about biolink:ChemicalEntity'>biolink:ChemicalEntity</a>): <a href='https://www.wikidata.org/wiki/Q105238368' target='_blank' title='Go to WikiData to get more informations about wd:Q105238368'>wd:Q105238368</a>, <a href='https://www.wikidata.org/wiki/Q105145014' target='_blank' title='Go to WikiData to get more informations about wd:Q105145014'>wd:Q105145014</a> and <a href='https://www.wikidata.org/wiki/Q105145015' target='_blank' title='Go to WikiData to get more informations about wd:Q105145015'>wd:Q105145015</a>.</p></li>\n",
       "<li><p class=\"paragraph\">Group with 2 nodes (degree 14 and node type <a href='https://biolink.github.io/biolink-model/docs/ChemicalEntity.html' target='_blank' title='Go to BioLink to get more informations about biolink:ChemicalEntity'>biolink:ChemicalEntity</a>): <a href='https://www.wikidata.org/wiki/Q15634172' target='_blank' title='Go to WikiData to get more informations about wd:Q15634172'>wd:Q15634172</a> and <a href='https://www.wikidata.org/wiki/Q82114008' target='_blank' title='Go to WikiData to get more informations about wd:Q82114008'>wd:Q82114008</a>.</p></li>\n",
       "<li><p class=\"paragraph\">Group with 2 nodes (degree 13 and node type <a href='https://biolink.github.io/biolink-model/docs/ChemicalEntity.html' target='_blank' title='Go to BioLink to get more informations about biolink:ChemicalEntity'>biolink:ChemicalEntity</a>): <a href='https://www.wikidata.org/wiki/Q4369' target='_blank' title='Go to WikiData to get more informations about wd:Q4369'>wd:Q4369</a> and <a href='https://www.wikidata.org/wiki/Q106345659' target='_blank' title='Go to WikiData to get more informations about wd:Q106345659'>wd:Q106345659</a>.</p></li></ol><p class=\"paragraph\">And other 27 isomorphic node groups.</p></div>"
      ],
      "text/plain": [
       "<div class=\"graph-report\"><style>.graph-report li {margin: 0.5em 0 0.5em 0;}.graph-report .paragraph {text-align: justify;word-break: break-all;}.graph-report .small-columns {column-count: 4;column-gap: 2em;}.graph-report .medium-columns {column-count: 3;column-gap: 2em;}.graph-report .large-columns {column-count: 2;column-gap: 2em;}.graph-report .single-column {}@media only screen and (max-width: 600px) {.graph-report .small-columns {column-count: 1;}.graph-report .medium-columns {column-count: 1;}.graph-report .large-columns {column-count: 1;}}@media only screen and (min-width: 600px) and (max-width: 800px) {.graph-report .small-columns {column-count: 2;}.graph-report .medium-columns {column-count: 1;}.graph-report .large-columns {column-count: 1;}}@media only screen and (min-width: 800px) and (max-width: 1024px) {.graph-report .small-columns {column-count: 3;}.graph-report .medium-columns {column-count: 2;}.graph-report .large-columns {column-count: 1;}}</style><h2>LOTUS_with_NCBITaxon</h2><p class=\"paragraph\">The directed graph LOTUS_with_NCBITaxon has 2.79M heterogeneous nodes and 6.07M heterogeneous edges. The RAM requirements for the nodes and edges data structures are 328.83MB and 46.56MB respectively.</p><h3 style=\"margin: 1em 0 0 0;\">Degree centrality</h3><p class=\"paragraph\">The minimum node degree is 0, the maximum node degree is 43.71K, the mode degree is 1, the mean degree is 2.18 and the node degree median is 1.</p><p class=\"paragraph\">The nodes with the highest degree centrality are <a href='https://www.ncbi.nlm.nih.gov/taxonomy/?term=500585' target='_blank' title='Go to NCBI Taxonomy to get more informations about NCBITaxon:500585'>NCBITaxon:500585</a> (degree 43.71K and node type <a href='https://biolink.github.io/biolink-model/docs/OrganismalEntity.html' target='_blank' title='Go to BioLink to get more informations about biolink:OrganismalEntity'>biolink:OrganismalEntity</a>), <a href='https://www.ncbi.nlm.nih.gov/taxonomy/?term=329961' target='_blank' title='Go to NCBI Taxonomy to get more informations about NCBITaxon:329961'>NCBITaxon:329961</a> (degree 43.41K and node type <a href='https://biolink.github.io/biolink-model/docs/OrganismalEntity.html' target='_blank' title='Go to BioLink to get more informations about biolink:OrganismalEntity'>biolink:OrganismalEntity</a>), <a href='https://www.ncbi.nlm.nih.gov/taxonomy/?term=114727' target='_blank' title='Go to NCBI Taxonomy to get more informations about NCBITaxon:114727'>NCBITaxon:114727</a> (degree 36.13K and node type <a href='https://biolink.github.io/biolink-model/docs/OrganismalEntity.html' target='_blank' title='Go to BioLink to get more informations about biolink:OrganismalEntity'>biolink:OrganismalEntity</a>), <a href='https://www.ncbi.nlm.nih.gov/taxonomy/?term=119210' target='_blank' title='Go to NCBI Taxonomy to get more informations about NCBITaxon:119210'>NCBITaxon:119210</a> (degree 35.31K and node type <a href='https://biolink.github.io/biolink-model/docs/OrganismalEntity.html' target='_blank' title='Go to BioLink to get more informations about biolink:OrganismalEntity'>biolink:OrganismalEntity</a>) and <a href='https://www.ncbi.nlm.nih.gov/taxonomy/?term=49928' target='_blank' title='Go to NCBI Taxonomy to get more informations about NCBITaxon:49928'>NCBITaxon:49928</a> (degree 33.68K and node type <a href='https://biolink.github.io/biolink-model/docs/OrganismalEntity.html' target='_blank' title='Go to BioLink to get more informations about biolink:OrganismalEntity'>biolink:OrganismalEntity</a>).</p><h3 style=\"margin: 1em 0 0 0;\">Node types</h3><p class=\"paragraph\">The graph has 4 node types, which are <a href='https://biolink.github.io/biolink-model/docs/OrganismalEntity.html' target='_blank' title='Go to BioLink to get more informations about biolink:OrganismalEntity'>biolink:OrganismalEntity</a> (2.51M nodes, 90.09%), <a href='https://biolink.github.io/biolink-model/docs/ChemicalEntity.html' target='_blank' title='Go to BioLink to get more informations about biolink:ChemicalEntity'>biolink:ChemicalEntity</a> (226.38K nodes, 8.13%), <a href='https://biolink.github.io/biolink-model/docs/OrganismTaxon.html' target='_blank' title='Go to BioLink to get more informations about biolink:OrganismTaxon'>biolink:OrganismTaxon</a> (49.70K nodes, 1.78%) and <a href='https://biolink.github.io/biolink-model/docs/NamedThing.html' target='_blank' title='Go to BioLink to get more informations about biolink:NamedThing'>biolink:NamedThing</a> (30 nodes). The RAM requirement for the node types data structure is 178.30MB.</p><h3 style=\"margin: 1em 0 0 0;\">Edge types</h3><p class=\"paragraph\">The graph has 3 edge types, which are <a href='https://biolink.github.io/biolink-model/docs/subclass_of.html' target='_blank' title='Go to BioLink to get more informations about biolink:subclass_of'>biolink:subclass_of</a> (5.51M edges, 90.75%), <a href='https://biolink.github.io/biolink-model/docs/in_taxon.html' target='_blank' title='Go to BioLink to get more informations about biolink:in_taxon'>biolink:in_taxon</a> (533.35K edges, 8.79%) and <a href='https://biolink.github.io/biolink-model/docs/same_as.html' target='_blank' title='Go to BioLink to get more informations about biolink:same_as'>biolink:same_as</a> (27.99K edges, 0.46%). The RAM requirement for the edge types data structure is 24.27MB.</p><h3 style=\"margin: 1em 0 0 0;\">Topological Oddities</h3><p class=\"paragraph\">A topological oddity is a set of nodes in the graph that <i>may be derived</i> by an error during the generation of the edge list of the graph and, depending on the task, could bias the results of topology-based models. Note that in a directed graph we only support the detection of isomorphic nodes and edges. In the following paragraph, we will describe the detected topological oddities.</p><h4 style=\"margin: 1em 0 0 0;\">Singleton nodes</h4><p class=\"paragraph\">A singleton node is a node disconnected from all other nodes. We have detected 27 singleton nodes in the graph, involving a total of 27 nodes. The detected singleton nodes are:</p><ul class=\"small-columns\"><li><p class=\"paragraph\"><a href='http://purl.obolibrary.org/obo/IAO_0000115' target='_blank' title='Go to Information Artifact Ontology to get more informations about IAO:0000115'>IAO:0000115</a> (node type <a href='https://biolink.github.io/biolink-model/docs/NamedThing.html' target='_blank' title='Go to BioLink to get more informations about biolink:NamedThing'>biolink:NamedThing</a>)</p></li>\n",
       "<li><p class=\"paragraph\"><a href='http://purl.obolibrary.org/obo/ncbitaxon#acronym' target='_blank' title='Go to Open Biomedical Ontology to get more informations about OBO:ncbitaxon#acronym'>OBO:ncbitaxon#acronym</a> (node type <a href='https://biolink.github.io/biolink-model/docs/NamedThing.html' target='_blank' title='Go to BioLink to get more informations about biolink:NamedThing'>biolink:NamedThing</a>)</p></li>\n",
       "<li><p class=\"paragraph\"><a href='http://purl.obolibrary.org/obo/ncbitaxon#blast_name' target='_blank' title='Go to Open Biomedical Ontology to get more informations about OBO:ncbitaxon#blast_name'>OBO:ncbitaxon#blast_name</a> (node type <a href='https://biolink.github.io/biolink-model/docs/NamedThing.html' target='_blank' title='Go to BioLink to get more informations about biolink:NamedThing'>biolink:NamedThing</a>)</p></li>\n",
       "<li><p class=\"paragraph\"><a href='http://purl.obolibrary.org/obo/ncbitaxon#equivalent_name' target='_blank' title='Go to Open Biomedical Ontology to get more informations about OBO:ncbitaxon#equivalent_name'>OBO:ncbitaxon#equivalent_name</a> (node type <a href='https://biolink.github.io/biolink-model/docs/NamedThing.html' target='_blank' title='Go to BioLink to get more informations about biolink:NamedThing'>biolink:NamedThing</a>)</p></li>\n",
       "<li><p class=\"paragraph\"><a href='http://purl.obolibrary.org/obo/ncbitaxon#genbank_anamorph' target='_blank' title='Go to Open Biomedical Ontology to get more informations about OBO:ncbitaxon#genbank_anamorph'>OBO:ncbitaxon#genbank_anamorph</a> (node type <a href='https://biolink.github.io/biolink-model/docs/NamedThing.html' target='_blank' title='Go to BioLink to get more informations about biolink:NamedThing'>biolink:NamedThing</a>)</p></li>\n",
       "<li><p class=\"paragraph\"><a href='http://purl.obolibrary.org/obo/ncbitaxon#genbank_synonym' target='_blank' title='Go to Open Biomedical Ontology to get more informations about OBO:ncbitaxon#genbank_synonym'>OBO:ncbitaxon#genbank_synonym</a> (node type <a href='https://biolink.github.io/biolink-model/docs/NamedThing.html' target='_blank' title='Go to BioLink to get more informations about biolink:NamedThing'>biolink:NamedThing</a>)</p></li>\n",
       "<li><p class=\"paragraph\"><a href='http://purl.obolibrary.org/obo/ncbitaxon#in_part' target='_blank' title='Go to Open Biomedical Ontology to get more informations about OBO:ncbitaxon#in_part'>OBO:ncbitaxon#in_part</a> (node type <a href='https://biolink.github.io/biolink-model/docs/NamedThing.html' target='_blank' title='Go to BioLink to get more informations about biolink:NamedThing'>biolink:NamedThing</a>)</p></li>\n",
       "<li><p class=\"paragraph\"><a href='http://purl.obolibrary.org/obo/ncbitaxon#misspelling' target='_blank' title='Go to Open Biomedical Ontology to get more informations about OBO:ncbitaxon#misspelling'>OBO:ncbitaxon#misspelling</a> (node type <a href='https://biolink.github.io/biolink-model/docs/NamedThing.html' target='_blank' title='Go to BioLink to get more informations about biolink:NamedThing'>biolink:NamedThing</a>)</p></li>\n",
       "<li><p class=\"paragraph\"><a href='http://purl.obolibrary.org/obo/ncbitaxon#synonym' target='_blank' title='Go to Open Biomedical Ontology to get more informations about OBO:ncbitaxon#synonym'>OBO:ncbitaxon#synonym</a> (node type <a href='https://biolink.github.io/biolink-model/docs/NamedThing.html' target='_blank' title='Go to BioLink to get more informations about biolink:NamedThing'>biolink:NamedThing</a>)</p></li>\n",
       "<li><p class=\"paragraph\"><a href='http://www.geneontology.org/formats/oboInOwl#SynonymTypeProperty' target='_blank' title='Go to Gene Ontology OBO in OWL to get more informations about OIO:SynonymTypeProperty'>OIO:SynonymTypeProperty</a> (node type <a href='https://biolink.github.io/biolink-model/docs/NamedThing.html' target='_blank' title='Go to BioLink to get more informations about biolink:NamedThing'>biolink:NamedThing</a>)</p></li>\n",
       "<li><p class=\"paragraph\"><a href='http://www.geneontology.org/formats/oboInOwl#hasBroadSynonym' target='_blank' title='Go to Gene Ontology OBO in OWL to get more informations about OIO:hasBroadSynonym'>OIO:hasBroadSynonym</a> (node type <a href='https://biolink.github.io/biolink-model/docs/NamedThing.html' target='_blank' title='Go to BioLink to get more informations about biolink:NamedThing'>biolink:NamedThing</a>)</p></li>\n",
       "<li><p class=\"paragraph\"><a href='http://www.geneontology.org/formats/oboInOwl#hasExactSynonym' target='_blank' title='Go to Gene Ontology OBO in OWL to get more informations about OIO:hasExactSynonym'>OIO:hasExactSynonym</a> (node type <a href='https://biolink.github.io/biolink-model/docs/NamedThing.html' target='_blank' title='Go to BioLink to get more informations about biolink:NamedThing'>biolink:NamedThing</a>)</p></li>\n",
       "<li><p class=\"paragraph\"><a href='http://www.geneontology.org/formats/oboInOwl#hasOBONamespace' target='_blank' title='Go to Gene Ontology OBO in OWL to get more informations about OIO:hasOBONamespace'>OIO:hasOBONamespace</a> (node type <a href='https://biolink.github.io/biolink-model/docs/NamedThing.html' target='_blank' title='Go to BioLink to get more informations about biolink:NamedThing'>biolink:NamedThing</a>)</p></li>\n",
       "<li><p class=\"paragraph\"><a href='http://www.geneontology.org/formats/oboInOwl#hasScope' target='_blank' title='Go to Gene Ontology OBO in OWL to get more informations about OIO:hasScope'>OIO:hasScope</a> (node type <a href='https://biolink.github.io/biolink-model/docs/NamedThing.html' target='_blank' title='Go to BioLink to get more informations about biolink:NamedThing'>biolink:NamedThing</a>)</p></li>\n",
       "<li><p class=\"paragraph\"><a href='http://purl.obolibrary.org/obo/ncbitaxon#anamorph' target='_blank' title='Go to Open Biomedical Ontology to get more informations about OBO:ncbitaxon#anamorph'>OBO:ncbitaxon#anamorph</a> (node type <a href='https://biolink.github.io/biolink-model/docs/NamedThing.html' target='_blank' title='Go to BioLink to get more informations about biolink:NamedThing'>biolink:NamedThing</a>)</p></li></ul><p class=\"paragraph\">And other 12 singleton nodes.</p><h4 style=\"margin: 1em 0 0 0;\">Isomorphic node groups</h4><p class=\"paragraph\">Isomorphic node groups are nodes with exactly the same neighbours, node types, edge types and weights (if present in the graph). Nodes in such groups are topologically indistinguishable, that is swapping their ID would not change the graph topology. We have detected 42 isomorphic node groups in the graph, involving a total of 94 nodes and 1.51K edges (0.02%), with the largest one involving 4 nodes and 392 edges. The detected isomorphic node groups, sorted by decreasing size, are:</p><ol class=\"medium-columns\"><li><p class=\"paragraph\">Group with 2 nodes (degree 196 and node type <a href='https://biolink.github.io/biolink-model/docs/ChemicalEntity.html' target='_blank' title='Go to BioLink to get more informations about biolink:ChemicalEntity'>biolink:ChemicalEntity</a>): <a href='https://www.wikidata.org/wiki/Q56071533' target='_blank' title='Go to WikiData to get more informations about wd:Q56071533'>wd:Q56071533</a> and <a href='https://www.wikidata.org/wiki/Q21036645' target='_blank' title='Go to WikiData to get more informations about wd:Q21036645'>wd:Q21036645</a>.</p></li>\n",
       "<li><p class=\"paragraph\">Group with 2 nodes (degree 31 and node type <a href='https://biolink.github.io/biolink-model/docs/ChemicalEntity.html' target='_blank' title='Go to BioLink to get more informations about biolink:ChemicalEntity'>biolink:ChemicalEntity</a>): <a href='https://www.wikidata.org/wiki/Q104251872' target='_blank' title='Go to WikiData to get more informations about wd:Q104251872'>wd:Q104251872</a> and <a href='https://www.wikidata.org/wiki/Q110079913' target='_blank' title='Go to WikiData to get more informations about wd:Q110079913'>wd:Q110079913</a>.</p></li>\n",
       "<li><p class=\"paragraph\">Group with 4 nodes (degree 14 and node type <a href='https://biolink.github.io/biolink-model/docs/ChemicalEntity.html' target='_blank' title='Go to BioLink to get more informations about biolink:ChemicalEntity'>biolink:ChemicalEntity</a>): <a href='https://www.wikidata.org/wiki/Q105139889' target='_blank' title='Go to WikiData to get more informations about wd:Q105139889'>wd:Q105139889</a>, <a href='https://www.wikidata.org/wiki/Q105302721' target='_blank' title='Go to WikiData to get more informations about wd:Q105302721'>wd:Q105302721</a>, <a href='https://www.wikidata.org/wiki/Q105193903' target='_blank' title='Go to WikiData to get more informations about wd:Q105193903'>wd:Q105193903</a> and <a href='https://www.wikidata.org/wiki/Q105225037' target='_blank' title='Go to WikiData to get more informations about wd:Q105225037'>wd:Q105225037</a>.</p></li>\n",
       "<li><p class=\"paragraph\">Group with 2 nodes (degree 25 and node type <a href='https://biolink.github.io/biolink-model/docs/ChemicalEntity.html' target='_blank' title='Go to BioLink to get more informations about biolink:ChemicalEntity'>biolink:ChemicalEntity</a>): <a href='https://www.wikidata.org/wiki/Q72437451' target='_blank' title='Go to WikiData to get more informations about wd:Q72437451'>wd:Q72437451</a> and <a href='https://www.wikidata.org/wiki/Q104666246' target='_blank' title='Go to WikiData to get more informations about wd:Q104666246'>wd:Q104666246</a>.</p></li>\n",
       "<li><p class=\"paragraph\">Group with 2 nodes (degree 22 and node type <a href='https://biolink.github.io/biolink-model/docs/ChemicalEntity.html' target='_blank' title='Go to BioLink to get more informations about biolink:ChemicalEntity'>biolink:ChemicalEntity</a>): <a href='https://www.wikidata.org/wiki/Q412223' target='_blank' title='Go to WikiData to get more informations about wd:Q412223'>wd:Q412223</a> and <a href='https://www.wikidata.org/wiki/Q111226215' target='_blank' title='Go to WikiData to get more informations about wd:Q111226215'>wd:Q111226215</a>.</p></li>\n",
       "<li><p class=\"paragraph\">Group with 2 nodes (degree 22 and node type <a href='https://biolink.github.io/biolink-model/docs/ChemicalEntity.html' target='_blank' title='Go to BioLink to get more informations about biolink:ChemicalEntity'>biolink:ChemicalEntity</a>): <a href='https://www.wikidata.org/wiki/Q27166443' target='_blank' title='Go to WikiData to get more informations about wd:Q27166443'>wd:Q27166443</a> and <a href='https://www.wikidata.org/wiki/Q104392734' target='_blank' title='Go to WikiData to get more informations about wd:Q104392734'>wd:Q104392734</a>.</p></li>\n",
       "<li><p class=\"paragraph\">Group with 3 nodes (degree 14 and node type <a href='https://biolink.github.io/biolink-model/docs/ChemicalEntity.html' target='_blank' title='Go to BioLink to get more informations about biolink:ChemicalEntity'>biolink:ChemicalEntity</a>): <a href='https://www.wikidata.org/wiki/Q105196517' target='_blank' title='Go to WikiData to get more informations about wd:Q105196517'>wd:Q105196517</a>, <a href='https://www.wikidata.org/wiki/Q105136788' target='_blank' title='Go to WikiData to get more informations about wd:Q105136788'>wd:Q105136788</a> and <a href='https://www.wikidata.org/wiki/Q105132682' target='_blank' title='Go to WikiData to get more informations about wd:Q105132682'>wd:Q105132682</a>.</p></li>\n",
       "<li><p class=\"paragraph\">Group with 4 nodes (degree 10 and node type <a href='https://biolink.github.io/biolink-model/docs/ChemicalEntity.html' target='_blank' title='Go to BioLink to get more informations about biolink:ChemicalEntity'>biolink:ChemicalEntity</a>): <a href='https://www.wikidata.org/wiki/Q104919581' target='_blank' title='Go to WikiData to get more informations about wd:Q104919581'>wd:Q104919581</a>, <a href='https://www.wikidata.org/wiki/Q105228959' target='_blank' title='Go to WikiData to get more informations about wd:Q105228959'>wd:Q105228959</a>, <a href='https://www.wikidata.org/wiki/Q104919580' target='_blank' title='Go to WikiData to get more informations about wd:Q104919580'>wd:Q104919580</a> and <a href='https://www.wikidata.org/wiki/Q104919583' target='_blank' title='Go to WikiData to get more informations about wd:Q104919583'>wd:Q104919583</a>.</p></li>\n",
       "<li><p class=\"paragraph\">Group with 3 nodes (degree 11 and node type <a href='https://biolink.github.io/biolink-model/docs/ChemicalEntity.html' target='_blank' title='Go to BioLink to get more informations about biolink:ChemicalEntity'>biolink:ChemicalEntity</a>): <a href='https://www.wikidata.org/wiki/Q104667383' target='_blank' title='Go to WikiData to get more informations about wd:Q104667383'>wd:Q104667383</a>, <a href='https://www.wikidata.org/wiki/Q104667387' target='_blank' title='Go to WikiData to get more informations about wd:Q104667387'>wd:Q104667387</a> and <a href='https://www.wikidata.org/wiki/Q104667384' target='_blank' title='Go to WikiData to get more informations about wd:Q104667384'>wd:Q104667384</a>.</p></li>\n",
       "<li><p class=\"paragraph\">Group with 3 nodes (degree 11 and node type <a href='https://biolink.github.io/biolink-model/docs/ChemicalEntity.html' target='_blank' title='Go to BioLink to get more informations about biolink:ChemicalEntity'>biolink:ChemicalEntity</a>): <a href='https://www.wikidata.org/wiki/Q27105891' target='_blank' title='Go to WikiData to get more informations about wd:Q27105891'>wd:Q27105891</a>, <a href='https://www.wikidata.org/wiki/Q104395963' target='_blank' title='Go to WikiData to get more informations about wd:Q104395963'>wd:Q104395963</a> and <a href='https://www.wikidata.org/wiki/Q104395964' target='_blank' title='Go to WikiData to get more informations about wd:Q104395964'>wd:Q104395964</a>.</p></li>\n",
       "<li><p class=\"paragraph\">Group with 3 nodes (degree 10 and node type <a href='https://biolink.github.io/biolink-model/docs/ChemicalEntity.html' target='_blank' title='Go to BioLink to get more informations about biolink:ChemicalEntity'>biolink:ChemicalEntity</a>): <a href='https://www.wikidata.org/wiki/Q105027054' target='_blank' title='Go to WikiData to get more informations about wd:Q105027054'>wd:Q105027054</a>, <a href='https://www.wikidata.org/wiki/Q105123190' target='_blank' title='Go to WikiData to get more informations about wd:Q105123190'>wd:Q105123190</a> and <a href='https://www.wikidata.org/wiki/Q27279099' target='_blank' title='Go to WikiData to get more informations about wd:Q27279099'>wd:Q27279099</a>.</p></li>\n",
       "<li><p class=\"paragraph\">Group with 3 nodes (degree 10 and node type <a href='https://biolink.github.io/biolink-model/docs/ChemicalEntity.html' target='_blank' title='Go to BioLink to get more informations about biolink:ChemicalEntity'>biolink:ChemicalEntity</a>): <a href='https://www.wikidata.org/wiki/Q104995039' target='_blank' title='Go to WikiData to get more informations about wd:Q104995039'>wd:Q104995039</a>, <a href='https://www.wikidata.org/wiki/Q104995037' target='_blank' title='Go to WikiData to get more informations about wd:Q104995037'>wd:Q104995037</a> and <a href='https://www.wikidata.org/wiki/Q104995032' target='_blank' title='Go to WikiData to get more informations about wd:Q104995032'>wd:Q104995032</a>.</p></li>\n",
       "<li><p class=\"paragraph\">Group with 3 nodes (degree 10 and node type <a href='https://biolink.github.io/biolink-model/docs/ChemicalEntity.html' target='_blank' title='Go to BioLink to get more informations about biolink:ChemicalEntity'>biolink:ChemicalEntity</a>): <a href='https://www.wikidata.org/wiki/Q105238368' target='_blank' title='Go to WikiData to get more informations about wd:Q105238368'>wd:Q105238368</a>, <a href='https://www.wikidata.org/wiki/Q105145014' target='_blank' title='Go to WikiData to get more informations about wd:Q105145014'>wd:Q105145014</a> and <a href='https://www.wikidata.org/wiki/Q105145015' target='_blank' title='Go to WikiData to get more informations about wd:Q105145015'>wd:Q105145015</a>.</p></li>\n",
       "<li><p class=\"paragraph\">Group with 2 nodes (degree 14 and node type <a href='https://biolink.github.io/biolink-model/docs/ChemicalEntity.html' target='_blank' title='Go to BioLink to get more informations about biolink:ChemicalEntity'>biolink:ChemicalEntity</a>): <a href='https://www.wikidata.org/wiki/Q15634172' target='_blank' title='Go to WikiData to get more informations about wd:Q15634172'>wd:Q15634172</a> and <a href='https://www.wikidata.org/wiki/Q82114008' target='_blank' title='Go to WikiData to get more informations about wd:Q82114008'>wd:Q82114008</a>.</p></li>\n",
       "<li><p class=\"paragraph\">Group with 2 nodes (degree 13 and node type <a href='https://biolink.github.io/biolink-model/docs/ChemicalEntity.html' target='_blank' title='Go to BioLink to get more informations about biolink:ChemicalEntity'>biolink:ChemicalEntity</a>): <a href='https://www.wikidata.org/wiki/Q4369' target='_blank' title='Go to WikiData to get more informations about wd:Q4369'>wd:Q4369</a> and <a href='https://www.wikidata.org/wiki/Q106345659' target='_blank' title='Go to WikiData to get more informations about wd:Q106345659'>wd:Q106345659</a>.</p></li></ol><p class=\"paragraph\">And other 27 isomorphic node groups.</p></div>"
      ]
     },
     "execution_count": 17,
     "metadata": {},
     "output_type": "execute_result"
    }
   ],
   "source": [
    "Graph.from_csv(\n",
    "    name=\"LOTUS_with_NCBITaxon\",\n",
    "    node_path=\"./data/lotus_with_ncbi_nodes.csv\",\n",
    "    node_list_separator=\"\\t\",\n",
    "    node_list_header=True,\n",
    "    nodes_column_number=0,\n",
    "    node_list_node_types_column_number=1,\n",
    "    edge_path=\"./data/lotus_with_ncbi_edges.csv\",\n",
    "    edge_list_separator=\"\\t\",\n",
    "    edge_list_header=True,\n",
    "    sources_column_number=0,\n",
    "    destinations_column_number=1,\n",
    "    edge_list_edge_types_column_number=2,\n",
    "    directed=True,\n",
    "    #directed=False,\n",
    ")"
   ]
  }
 ],
 "metadata": {
  "kernelspec": {
   "display_name": "Python 3 (ipykernel)",
   "language": "python",
   "name": "python3"
  },
  "language_info": {
   "codemirror_mode": {
    "name": "ipython",
    "version": 3
   },
   "file_extension": ".py",
   "mimetype": "text/x-python",
   "name": "python",
   "nbconvert_exporter": "python",
   "pygments_lexer": "ipython3",
   "version": "3.11.4"
  }
 },
 "nbformat": 4,
 "nbformat_minor": 5
}
