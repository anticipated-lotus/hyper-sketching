{
 "cells": [
  {
   "cell_type": "code",
   "execution_count": 1,
   "id": "d5f8e767-d8ba-4575-b990-53ac091eda32",
   "metadata": {},
   "outputs": [],
   "source": [
    "import json\n",
    "import pandas as pd"
   ]
  },
  {
   "cell_type": "code",
   "execution_count": 2,
   "id": "1805c989-1607-4900-9179-5754c56cff58",
   "metadata": {},
   "outputs": [],
   "source": [
    "with open('./data/molecules/NPClassifier_index.json','r') as total:\n",
    "    index = json.load(total)\n",
    "\n",
    "index_class = list(index['Class'].keys())\n",
    "index_superclass = list(index['Superclass'].keys())\n",
    "index_pathway = list(index['Pathway'].keys())"
   ]
  },
  {
   "cell_type": "code",
   "execution_count": 3,
   "id": "c809463c-87ed-4789-8c95-aaa06b9188f6",
   "metadata": {},
   "outputs": [],
   "source": [
    "class_ = pd.DataFrame(index['Class'], index=['class_num']).T"
   ]
  },
  {
   "cell_type": "code",
   "execution_count": 4,
   "id": "18e000de-77a9-4d00-9f2a-a5840b48097d",
   "metadata": {},
   "outputs": [],
   "source": [
    "class_['class'] = class_.index"
   ]
  },
  {
   "cell_type": "code",
   "execution_count": 5,
   "id": "ae3ba5c6-465c-4839-9b88-1b4958cfa4bc",
   "metadata": {},
   "outputs": [],
   "source": [
    "class_.reset_index(inplace=True, drop=True)"
   ]
  },
  {
   "cell_type": "code",
   "execution_count": 6,
   "id": "58869439-e930-4842-b6e7-4e8558a00936",
   "metadata": {},
   "outputs": [],
   "source": [
    "superclass = pd.DataFrame(index['Superclass'], index=['superclass_num']).T\n",
    "superclass['superclass'] = superclass.index"
   ]
  },
  {
   "cell_type": "code",
   "execution_count": 7,
   "id": "930c26ab-8c6a-4b8e-9542-8c1545250c58",
   "metadata": {},
   "outputs": [],
   "source": [
    "pathway = pd.DataFrame(index['Pathway'], index=['pathway_num']).T\n",
    "pathway['pathway'] = pathway.index"
   ]
  },
  {
   "cell_type": "code",
   "execution_count": 8,
   "id": "0ffe88b5-e1d5-4634-ad44-a9f312099d8a",
   "metadata": {},
   "outputs": [],
   "source": [
    "class_hierarchy = pd.DataFrame(index['Class_hierarchy']).T"
   ]
  },
  {
   "cell_type": "code",
   "execution_count": 9,
   "id": "88978469-a91e-4f30-b44b-9d78dd1459a8",
   "metadata": {},
   "outputs": [],
   "source": [
    "class_hierarchy = class_hierarchy.applymap(lambda x: x[0])"
   ]
  },
  {
   "cell_type": "code",
   "execution_count": 10,
   "id": "b213f6aa-3031-46ba-895e-a76e2bc76a99",
   "metadata": {},
   "outputs": [],
   "source": [
    "class_hierarchy['class_num'] = class_hierarchy.index"
   ]
  },
  {
   "cell_type": "code",
   "execution_count": 11,
   "id": "7a89b0d9-fd0b-42d0-a28f-1323c4b80ab4",
   "metadata": {},
   "outputs": [],
   "source": [
    "class_hierarchy.class_num = class_hierarchy.class_num.astype(int)"
   ]
  },
  {
   "cell_type": "code",
   "execution_count": 12,
   "id": "66bc3906-651a-46ce-b3fb-b517fb870444",
   "metadata": {},
   "outputs": [],
   "source": [
    "step1 = pd.merge(class_, class_hierarchy, on='class_num')"
   ]
  },
  {
   "cell_type": "code",
   "execution_count": 13,
   "id": "6374d76d-dae5-4df1-a8d8-8cdaa9da435e",
   "metadata": {},
   "outputs": [],
   "source": [
    "step2 = pd.merge(step1, superclass, left_on=\"Superclass\", right_on=\"superclass_num\")"
   ]
  },
  {
   "cell_type": "code",
   "execution_count": 14,
   "id": "cede25f8-ab51-40bf-8018-1cbfc0232de1",
   "metadata": {},
   "outputs": [],
   "source": [
    "df = pd.merge(step2, pathway, left_on=\"Pathway\", right_on=\"pathway_num\")"
   ]
  },
  {
   "cell_type": "code",
   "execution_count": 15,
   "id": "2f18f756-f397-4876-bd70-93dabd471c34",
   "metadata": {},
   "outputs": [],
   "source": [
    "df = df.drop(columns=['class_num', 'Pathway', 'Superclass', 'superclass_num', 'pathway_num'])"
   ]
  },
  {
   "cell_type": "markdown",
   "id": "079ea632-2e59-4da6-85d2-ee543b22737b",
   "metadata": {},
   "source": [
    "We have now a dataframe `df` that contains the link between the NP clssifier class $\\rightarrow$ Superclass $\\rightarrow$ pathway. \n",
    "\n",
    "Have a look : "
   ]
  },
  {
   "cell_type": "code",
   "execution_count": 16,
   "id": "c4cc4770-62c3-4623-9869-4266b4f72fd2",
   "metadata": {},
   "outputs": [
    {
     "data": {
      "text/html": [
       "<div>\n",
       "<style scoped>\n",
       "    .dataframe tbody tr th:only-of-type {\n",
       "        vertical-align: middle;\n",
       "    }\n",
       "\n",
       "    .dataframe tbody tr th {\n",
       "        vertical-align: top;\n",
       "    }\n",
       "\n",
       "    .dataframe thead th {\n",
       "        text-align: right;\n",
       "    }\n",
       "</style>\n",
       "<table border=\"1\" class=\"dataframe\">\n",
       "  <thead>\n",
       "    <tr style=\"text-align: right;\">\n",
       "      <th></th>\n",
       "      <th>class</th>\n",
       "      <th>superclass</th>\n",
       "      <th>pathway</th>\n",
       "    </tr>\n",
       "  </thead>\n",
       "  <tbody>\n",
       "    <tr>\n",
       "      <th>0</th>\n",
       "      <td>12-oxophytodienoic acid metabolites</td>\n",
       "      <td>Octadecanoids</td>\n",
       "      <td>Fatty acids</td>\n",
       "    </tr>\n",
       "    <tr>\n",
       "      <th>1</th>\n",
       "      <td>Jasmonic acids</td>\n",
       "      <td>Octadecanoids</td>\n",
       "      <td>Fatty acids</td>\n",
       "    </tr>\n",
       "    <tr>\n",
       "      <th>2</th>\n",
       "      <td>Other Octadecanoids</td>\n",
       "      <td>Octadecanoids</td>\n",
       "      <td>Fatty acids</td>\n",
       "    </tr>\n",
       "    <tr>\n",
       "      <th>3</th>\n",
       "      <td>Phytofurans</td>\n",
       "      <td>Octadecanoids</td>\n",
       "      <td>Fatty acids</td>\n",
       "    </tr>\n",
       "    <tr>\n",
       "      <th>4</th>\n",
       "      <td>Phytoprostanes</td>\n",
       "      <td>Octadecanoids</td>\n",
       "      <td>Fatty acids</td>\n",
       "    </tr>\n",
       "  </tbody>\n",
       "</table>\n",
       "</div>"
      ],
      "text/plain": [
       "                                 class     superclass      pathway\n",
       "0  12-oxophytodienoic acid metabolites  Octadecanoids  Fatty acids\n",
       "1                       Jasmonic acids  Octadecanoids  Fatty acids\n",
       "2                  Other Octadecanoids  Octadecanoids  Fatty acids\n",
       "3                          Phytofurans  Octadecanoids  Fatty acids\n",
       "4                       Phytoprostanes  Octadecanoids  Fatty acids"
      ]
     },
     "execution_count": 16,
     "metadata": {},
     "output_type": "execute_result"
    }
   ],
   "source": [
    "df.head()"
   ]
  },
  {
   "cell_type": "code",
   "execution_count": 17,
   "id": "7071ac28-4125-42d8-88fb-66508a0339d3",
   "metadata": {},
   "outputs": [],
   "source": [
    "np_classifier_edges = pd.DataFrame({\n",
    "    'child': pd.concat([df['class'], df['superclass']]) ,\n",
    "    'parent': pd.concat([df['superclass'], df['pathway']]),\n",
    "    'type': 'biolink:subclass_of'\n",
    "}).drop_duplicates().reset_index(drop=True)"
   ]
  },
  {
   "cell_type": "code",
   "execution_count": 18,
   "id": "6b90afd7-c881-4331-b497-c4dced9bfda6",
   "metadata": {},
   "outputs": [],
   "source": [
    "np_classifier_nodes = pd.DataFrame({\n",
    "    'node': pd.concat([np_classifier_edges.child, np_classifier_edges.parent]),\n",
    "    'type': 'biolink:ChemicalEntity'\n",
    "}).drop_duplicates().reset_index(drop=True)"
   ]
  },
  {
   "cell_type": "markdown",
   "id": "d41072cc-a0ce-47a4-a52d-c41b02355ce6",
   "metadata": {},
   "source": [
    "# Load LOTUS to link molecules to NP Classifier"
   ]
  },
  {
   "cell_type": "code",
   "execution_count": 19,
   "id": "c8432beb-fd60-4684-9238-c5cc3b50ec35",
   "metadata": {},
   "outputs": [],
   "source": [
    "lotus = pd.read_csv(\"./data/molecules/230106_frozen_metadata.csv.gz\", low_memory=False)"
   ]
  },
  {
   "cell_type": "code",
   "execution_count": 20,
   "id": "a98d669a-a3e4-4edd-8957-9845d5a63d79",
   "metadata": {},
   "outputs": [],
   "source": [
    "lotus['wd'] = 'wd:'+ lotus['structure_wikidata'].str.extract(r\"(Q\\d+)\")"
   ]
  },
  {
   "cell_type": "code",
   "execution_count": 21,
   "id": "c12b1fc9-9bbd-49f3-b1d2-43448f3ba065",
   "metadata": {},
   "outputs": [],
   "source": [
    "mol_to_np = lotus[['wd', 'structure_taxonomy_npclassifier_03class']].drop_duplicates().dropna().reset_index(drop=True)"
   ]
  },
  {
   "cell_type": "code",
   "execution_count": 22,
   "id": "26f0c6ce-5cce-4128-88ff-f50c72393949",
   "metadata": {},
   "outputs": [],
   "source": [
    "mol_to_np['type'] = 'biolink:subclass_of'"
   ]
  },
  {
   "cell_type": "code",
   "execution_count": 23,
   "id": "0d6d40e6-9152-4c03-892d-e90525a4e75e",
   "metadata": {},
   "outputs": [],
   "source": [
    "mol_to_np.rename(columns={\n",
    "    'wd': 'child',\n",
    "    'structure_taxonomy_npclassifier_03class': 'parent'\n",
    "}, inplace=True)"
   ]
  },
  {
   "cell_type": "code",
   "execution_count": 33,
   "id": "e438e6e4-458c-4fac-be20-76ff503c8888",
   "metadata": {},
   "outputs": [],
   "source": [
    "mol_to_np_edges = pd.concat(\n",
    "    [\n",
    "        mol_to_np,\n",
    "        np_classifier_edges\n",
    "    ]\n",
    ").drop_duplicates().dropna().reset_index(drop=True)"
   ]
  },
  {
   "cell_type": "code",
   "execution_count": 34,
   "id": "915fcff8-7331-47d4-bf06-f8d41fa48f14",
   "metadata": {},
   "outputs": [],
   "source": [
    "mol_to_np_nodes = pd.DataFrame({\n",
    "    'node': pd.concat([mol_to_np_edges.child, mol_to_np_edges.parent]),\n",
    "    'type' : 'biolink:ChemicalEntity'\n",
    "}).drop_duplicates().dropna().reset_index(drop=True)"
   ]
  },
  {
   "cell_type": "code",
   "execution_count": 35,
   "id": "b1095275-51db-46b6-bd3e-59a35269c375",
   "metadata": {},
   "outputs": [],
   "source": [
    "mol_to_np_edges.to_csv(\"./data/molecules/mol_to_np_edges.csv\", sep=\"\\t\")\n",
    "mol_to_np_nodes.to_csv(\"./data/molecules/mol_to_np_nodes.csv\", sep=\"\\t\")"
   ]
  }
 ],
 "metadata": {
  "kernelspec": {
   "display_name": "Python 3 (ipykernel)",
   "language": "python",
   "name": "python3"
  },
  "language_info": {
   "codemirror_mode": {
    "name": "ipython",
    "version": 3
   },
   "file_extension": ".py",
   "mimetype": "text/x-python",
   "name": "python",
   "nbconvert_exporter": "python",
   "pygments_lexer": "ipython3",
   "version": "3.11.4"
  }
 },
 "nbformat": 4,
 "nbformat_minor": 5
}
