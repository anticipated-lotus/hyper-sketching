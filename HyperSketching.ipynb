{
 "cells": [
  {
   "cell_type": "code",
   "execution_count": 1,
   "id": "078e8a94-8252-4f45-a01c-774ae6715615",
   "metadata": {},
   "outputs": [
    {
     "name": "stderr",
     "output_type": "stream",
     "text": [
      "2024-01-22 15:23:27.520877: I tensorflow/core/platform/cpu_feature_guard.cc:182] This TensorFlow binary is optimized to use available CPU instructions in performance-critical operations.\n",
      "To enable the following instructions: AVX2 FMA, in other operations, rebuild TensorFlow with the appropriate compiler flags.\n"
     ]
    }
   ],
   "source": [
    "from ensmallen import HyperSketchingPy"
   ]
  },
  {
   "cell_type": "code",
   "execution_count": 2,
   "id": "1107118b-e234-418a-8b7b-d0299077d018",
   "metadata": {},
   "outputs": [
    {
     "name": "stderr",
     "output_type": "stream",
     "text": [
      "INFO:pykeen.utils:Using opt_einsum\n"
     ]
    }
   ],
   "source": [
    "import grape\n",
    "from grape import Graph"
   ]
  },
  {
   "cell_type": "code",
   "execution_count": 3,
   "id": "0f1bd95d-3608-477a-82ac-22a243dfcae0",
   "metadata": {},
   "outputs": [],
   "source": [
    "from sklearn.metrics import accuracy_score, matthews_corrcoef\n",
    "from cache_decorator import Cache"
   ]
  },
  {
   "cell_type": "code",
   "execution_count": 4,
   "id": "939e62fd-9c2c-4590-b36c-62635dd6b804",
   "metadata": {},
   "outputs": [],
   "source": [
    "graph = Graph.from_csv(\n",
    "    name=\"LOTUS_with_NCBITaxon\",\n",
    "    node_path=\"./data/lotus_with_ncbi_nodes.csv\",\n",
    "    node_list_separator=\"\\t\",\n",
    "    node_list_header=True,\n",
    "    nodes_column_number=0,\n",
    "    node_list_node_types_column_number=1,\n",
    "    edge_path=\"./data/lotus_with_ncbi_edges.csv\",\n",
    "    edge_list_separator=\"\\t\",\n",
    "    edge_list_header=True,\n",
    "    sources_column_number=0,\n",
    "    destinations_column_number=1,\n",
    "    edge_list_edge_types_column_number=2,\n",
    "    #directed=True,\n",
    "    directed=False,\n",
    ")\n",
    "graph = graph.remove_singleton_nodes()\n",
    "graph = graph.remove_components(top_k_components=1)"
   ]
  },
  {
   "cell_type": "code",
   "execution_count": 5,
   "id": "ea6acb9e-fc97-4ced-82c9-9f7fc63e0664",
   "metadata": {},
   "outputs": [],
   "source": [
    "#graph.get_diameter()"
   ]
  },
  {
   "cell_type": "markdown",
   "id": "97785866-2fc0-4e81-9a5e-556b9f91b31c",
   "metadata": {},
   "source": [
    "*graph diamter* = 44\n",
    "\n",
    "44*44 + 2 * 44 is maximum number of features of the graph"
   ]
  },
  {
   "cell_type": "code",
   "execution_count": 6,
   "id": "acc89e50-fc43-4a96-81be-4cfb4304fde6",
   "metadata": {
    "scrolled": true
   },
   "outputs": [
    {
     "data": {
      "text/plain": [
       "2024"
      ]
     },
     "execution_count": 6,
     "metadata": {},
     "output_type": "execute_result"
    }
   ],
   "source": [
    "44*44+2*44"
   ]
  },
  {
   "cell_type": "markdown",
   "id": "7acec47b-fb30-4b6a-afc0-ef965be8facb",
   "metadata": {},
   "source": [
    "commbination : \n",
    "- \"addition\",\n",
    "- \"subtraction\",\n",
    "- \"manhattan\",\n",
    "- \"euclidean\",\n",
    "- \"hadamard\",\n",
    "- \"concatenate\","
   ]
  },
  {
   "cell_type": "code",
   "execution_count": 7,
   "id": "56c4d5ff-5d71-48ad-a500-a54de5882a5f",
   "metadata": {},
   "outputs": [],
   "source": [
    "normalize = False\n",
    "combination = \"addition\"\n",
    "number_of_hops = 2"
   ]
  },
  {
   "cell_type": "code",
   "execution_count": 8,
   "id": "92be0ad8-d29f-4979-bb35-54ef3b28dc6d",
   "metadata": {},
   "outputs": [],
   "source": [
    "train, test = graph.get_edge_prediction_kfold(\n",
    "    k_index=0, \n",
    "    k=5,\n",
    "    edge_types=[\"biolink:in_taxon\"],\n",
    "    random_state=42,\n",
    ")"
   ]
  },
  {
   "cell_type": "code",
   "execution_count": 22,
   "id": "f4a0355f-929e-4a4f-b1d7-42963ba76e12",
   "metadata": {},
   "outputs": [],
   "source": [
    "filtered_train = train.filter_from_names(\n",
    "    edge_type_names_to_keep=[\"biolink:in_taxon\"],\n",
    ")"
   ]
  },
  {
   "cell_type": "markdown",
   "id": "3ac801a1-6830-4ee4-b34e-816476540c12",
   "metadata": {},
   "source": [
    "subtrain, validation = train.(\n",
    "    train_size= 0.8,\n",
    "    edge_types=[\"biolink:in_taxon\"],\n",
    "    random_state=42,\n",
    ")"
   ]
  },
  {
   "cell_type": "code",
   "execution_count": 13,
   "id": "2bc4583d-f5c7-4e70-b6f4-d46b310c34c7",
   "metadata": {},
   "outputs": [],
   "source": [
    "negative = graph.sample_negative_graph(\n",
    "    source_edge_types_names=[\"biolink:in_taxon\"],\n",
    "    destination_edge_types_names=[\"biolink:in_taxon\"],\n",
    "    number_of_negative_samples=graph.get_number_of_edges_from_edge_type_name(\"biolink:in_taxon\")*2,\n",
    "    sample_edge_types=False,\n",
    "    only_from_same_component=False,\n",
    "    use_scale_free_distribution=True,\n",
    "    random_state=23391 * (10 + 1)\n",
    ")\n",
    "neg_train, neg_test = negative.random_holdout(train_size=0.8)"
   ]
  },
  {
   "cell_type": "code",
   "execution_count": 15,
   "id": "49218679-abda-4eb1-9c83-d7b01bc54a13",
   "metadata": {},
   "outputs": [
    {
     "data": {
      "text/plain": [
       "1066694"
      ]
     },
     "execution_count": 15,
     "metadata": {},
     "output_type": "execute_result"
    }
   ],
   "source": [
    "graph.get_number_of_edges_from_edge_type_name(\"biolink:in_taxon\")"
   ]
  },
  {
   "cell_type": "code",
   "execution_count": 16,
   "id": "182e3ae5-9d58-48e1-b048-6fa89052a041",
   "metadata": {},
   "outputs": [
    {
     "name": "stdout",
     "output_type": "stream",
     "text": [
      "CPU times: user 2min 3s, sys: 49 s, total: 2min 52s\n",
      "Wall time: 1min 10s\n"
     ]
    }
   ],
   "source": [
    "%%time \n",
    "sketching_features = HyperSketchingPy(\n",
    "    hops=number_of_hops,\n",
    "    normalize=normalize,\n",
    "    graph=train\n",
    ")\n",
    "sketching_features.fit()"
   ]
  },
  {
   "cell_type": "code",
   "execution_count": 23,
   "id": "d76d3b9a-61d7-4085-8b3c-c7a03d1d517e",
   "metadata": {},
   "outputs": [],
   "source": [
    "pos_sources = filtered_train.get_directed_source_node_ids()\n",
    "pos_destinations = filtered_train.get_directed_destination_node_ids()"
   ]
  },
  {
   "cell_type": "code",
   "execution_count": 24,
   "id": "d277bcca-96dc-494c-b10d-065d08ad5542",
   "metadata": {},
   "outputs": [
    {
     "name": "stdout",
     "output_type": "stream",
     "text": [
      "CPU times: user 5min 4s, sys: 1.91 s, total: 5min 6s\n",
      "Wall time: 1min 23s\n"
     ]
    }
   ],
   "source": [
    "%%time\n",
    "sk_positive_features = sketching_features.positive(\n",
    "    sources=pos_sources,\n",
    "    destinations=pos_destinations,\n",
    "    feature_combination=combination\n",
    ")"
   ]
  },
  {
   "cell_type": "code",
   "execution_count": 28,
   "id": "eabb71c0-713d-4a37-af37-c8548bdf9aa9",
   "metadata": {},
   "outputs": [],
   "source": [
    "import numpy as np"
   ]
  },
  {
   "cell_type": "code",
   "execution_count": 30,
   "id": "42a3e846-f358-4446-bfae-fd1c969338f7",
   "metadata": {},
   "outputs": [
    {
     "data": {
      "text/plain": [
       "False"
      ]
     },
     "execution_count": 30,
     "metadata": {},
     "output_type": "execute_result"
    }
   ],
   "source": [
    "np.isnan(sk_positive_features).any()"
   ]
  },
  {
   "cell_type": "code",
   "execution_count": 32,
   "id": "20a059c7-092f-4a0c-840b-5e3d1c91f84b",
   "metadata": {},
   "outputs": [],
   "source": [
    "np.save(\"./sk_positive_features.npy\",\n",
    "        sk_positive_features)"
   ]
  },
  {
   "cell_type": "code",
   "execution_count": 25,
   "id": "0771273a-2795-490a-a878-c1adea76fc03",
   "metadata": {},
   "outputs": [
    {
     "data": {
      "text/plain": [
       "(1013358,)"
      ]
     },
     "execution_count": 25,
     "metadata": {},
     "output_type": "execute_result"
    }
   ],
   "source": [
    "pos_sources.shape"
   ]
  },
  {
   "cell_type": "code",
   "execution_count": 33,
   "id": "7447043a-fc3b-4179-920b-365e51fc6a9c",
   "metadata": {},
   "outputs": [
    {
     "name": "stdout",
     "output_type": "stream",
     "text": [
      "CPU times: user 8min 14s, sys: 3.24 s, total: 8min 17s\n",
      "Wall time: 2min 28s\n"
     ]
    }
   ],
   "source": [
    "%%time \n",
    "neg_sources = neg_train.get_directed_source_node_ids()\n",
    "neg_destinations = neg_train.get_directed_destination_node_ids()\n",
    "sk_negative_features = sketching_features.negative(\n",
    "    sources=neg_sources,\n",
    "    destinations=neg_destinations,\n",
    "    feature_combination=combination\n",
    ")"
   ]
  },
  {
   "cell_type": "code",
   "execution_count": 40,
   "id": "c0946430-007f-4efd-b36c-2086909fb190",
   "metadata": {},
   "outputs": [
    {
     "name": "stdout",
     "output_type": "stream",
     "text": [
      "CPU times: user 27.9 s, sys: 230 ms, total: 28.1 s\n",
      "Wall time: 9.32 s\n"
     ]
    }
   ],
   "source": [
    "%%time\n",
    "pos_test_srcs = test.get_directed_source_node_ids()\n",
    "pos_test_dsts = test.get_directed_destination_node_ids()\n",
    "sk_test_pos_features = sketching_features.unknown(\n",
    "    sources=pos_test_srcs,\n",
    "    destinations=pos_test_dsts,\n",
    "    feature_combination=combination\n",
    ")"
   ]
  },
  {
   "cell_type": "code",
   "execution_count": 41,
   "id": "c3734219-f734-4cca-8513-04390bdf0fcb",
   "metadata": {},
   "outputs": [
    {
     "name": "stdout",
     "output_type": "stream",
     "text": [
      "CPU times: user 3min 29s, sys: 907 ms, total: 3min 30s\n",
      "Wall time: 57.5 s\n"
     ]
    }
   ],
   "source": [
    "%%time\n",
    "neg_test_srcs = neg_test.get_directed_source_node_ids()\n",
    "neg_test_dsts = neg_test.get_directed_destination_node_ids()\n",
    "sk_test_neg_features = sketching_features.unknown(\n",
    "    sources=neg_test_srcs,\n",
    "    destinations=neg_test_dsts,\n",
    "    feature_combination=combination\n",
    ")"
   ]
  },
  {
   "cell_type": "code",
   "execution_count": 45,
   "id": "ab5b481d-5a7d-4469-9515-03b0c6b4fafe",
   "metadata": {},
   "outputs": [
    {
     "name": "stdout",
     "output_type": "stream",
     "text": [
      "(1706710, 8)\n",
      "(1013358, 8)\n",
      "(426679, 8)\n",
      "(53336, 8)\n"
     ]
    }
   ],
   "source": [
    "print(sk_negative_features.shape)\n",
    "print(sk_positive_features.shape)\n",
    "print(sk_test_neg_features.shape)\n",
    "print(sk_test_pos_features.shape)"
   ]
  },
  {
   "cell_type": "markdown",
   "id": "0ce76134-06ae-4026-870b-daff029e8a0e",
   "metadata": {},
   "source": [
    "1. concatenate features of positve and negative train\n",
    "2. concatenate features pos and neg test\n",
    "3. add labels 1 or 0 \n",
    "4. suffle !\n",
    "5. Use decision tree/random forest or Xgboost"
   ]
  },
  {
   "cell_type": "code",
   "execution_count": 49,
   "id": "0d2ec557-1ab1-403b-84d5-60b7256a728e",
   "metadata": {},
   "outputs": [],
   "source": [
    "label_train_pos = np.ones(sk_positive_features.shape[0])\n",
    "label_train_neg = np.zeros(sk_negative_features.shape[0])\n",
    "label_test_pos = np.ones(sk_test_pos_features.shape[0])\n",
    "label_test_neg = np.zeros(sk_test_neg_features.shape[0])"
   ]
  },
  {
   "cell_type": "code",
   "execution_count": 54,
   "id": "fc06b62c-29fc-4d61-8135-ae01a8a7a602",
   "metadata": {},
   "outputs": [],
   "source": []
  },
  {
   "cell_type": "code",
   "execution_count": 58,
   "id": "e9c0b3e5-b0a2-44c6-ad96-27b10bce81bb",
   "metadata": {},
   "outputs": [],
   "source": [
    "indices = np.arange(X_train.shape[0])"
   ]
  },
  {
   "cell_type": "code",
   "execution_count": 59,
   "id": "a4680b4b-54e3-4b1a-a952-20f9dc7413b5",
   "metadata": {},
   "outputs": [],
   "source": [
    "rnd = np.random.RandomState(43)"
   ]
  },
  {
   "cell_type": "code",
   "execution_count": 60,
   "id": "769ca5e0-1b50-4e9c-bf56-681165cc7696",
   "metadata": {},
   "outputs": [],
   "source": [
    "rnd.shuffle(indices)"
   ]
  },
  {
   "cell_type": "code",
   "execution_count": 55,
   "id": "04bf5b33-20e2-4d0a-afa7-49e107f4505a",
   "metadata": {},
   "outputs": [],
   "source": [
    "label_train = np.concatenate([label_train_pos, label_train_neg])\n",
    "label_test = np.concatenate([label_test_pos, label_test_neg])\n",
    "X_train = np.concatenate([sk_positive_features, sk_negative_features])\n",
    "X_test = np.concatenate([sk_test_pos_features, sk_test_neg_features])\n",
    "\n",
    "X_train = X_train[indices]\n",
    "label_train = label_train[indices]"
   ]
  },
  {
   "cell_type": "code",
   "execution_count": 61,
   "id": "cd9dfcb2-518c-4791-9d53-c0fc6794abae",
   "metadata": {},
   "outputs": [],
   "source": [
    "from sklearn.tree import DecisionTreeClassifier"
   ]
  },
  {
   "cell_type": "code",
   "execution_count": 90,
   "id": "8c74b373-ddfb-435c-b5fb-b17d52f74c6a",
   "metadata": {},
   "outputs": [],
   "source": [
    "tree = DecisionTreeClassifier(\n",
    "    random_state = 42,\n",
    "    max_depth=10,\n",
    ").fit(X_train, label_train)\n"
   ]
  },
  {
   "cell_type": "code",
   "execution_count": 91,
   "id": "9643d569-8971-43f8-a328-732e3425379d",
   "metadata": {},
   "outputs": [],
   "source": [
    "test_pred = tree.predict(X_test)"
   ]
  },
  {
   "cell_type": "code",
   "execution_count": 68,
   "id": "ee09f962-1ff6-49b3-b488-b78b42d1474a",
   "metadata": {},
   "outputs": [],
   "source": [
    "from sklearn.metrics import accuracy_score, matthews_corrcoef"
   ]
  },
  {
   "cell_type": "code",
   "execution_count": 92,
   "id": "712bffd6-0924-43ef-ae83-1fee7923205f",
   "metadata": {},
   "outputs": [
    {
     "name": "stdout",
     "output_type": "stream",
     "text": [
      "Training: \n",
      "Accurarcy:  0.9096191712854238\n",
      "matthews_corrcoef:  0.8051796655510743\n"
     ]
    }
   ],
   "source": [
    "# training\n",
    "train_pred = tree.predict(X_train)\n",
    "print(\"Training: \")\n",
    "print(\"Accuracy: \", accuracy_score(label_train, train_pred))\n",
    "print(\"matthews_corrcoef: \", matthews_corrcoef(label_train, train_pred))"
   ]
  },
  {
   "cell_type": "code",
   "execution_count": 93,
   "id": "8c738723-22c4-4d98-bfc0-bc8edc9fad25",
   "metadata": {},
   "outputs": [
    {
     "name": "stdout",
     "output_type": "stream",
     "text": [
      "Test:\n"
     ]
    },
    {
     "data": {
      "text/plain": [
       "0.9509182004729019"
      ]
     },
     "execution_count": 93,
     "metadata": {},
     "output_type": "execute_result"
    }
   ],
   "source": [
    "# test \n",
    "print(\"Test:\")\n",
    "accuracy_score(label_test, test_pred)"
   ]
  },
  {
   "cell_type": "code",
   "execution_count": 94,
   "id": "a29142dd-efac-4382-9a72-30825c9093ae",
   "metadata": {},
   "outputs": [
    {
     "data": {
      "text/plain": [
       "0.7581923199189939"
      ]
     },
     "execution_count": 94,
     "metadata": {},
     "output_type": "execute_result"
    }
   ],
   "source": [
    "matthews_corrcoef(label_test, test_pred)"
   ]
  }
 ],
 "metadata": {
  "kernelspec": {
   "display_name": "Python 3 (ipykernel)",
   "language": "python",
   "name": "python3"
  },
  "language_info": {
   "codemirror_mode": {
    "name": "ipython",
    "version": 3
   },
   "file_extension": ".py",
   "mimetype": "text/x-python",
   "name": "python",
   "nbconvert_exporter": "python",
   "pygments_lexer": "ipython3",
   "version": "3.11.4"
  }
 },
 "nbformat": 4,
 "nbformat_minor": 5
}
