{
 "cells": [
  {
   "cell_type": "code",
   "execution_count": 1,
   "id": "2bb1bb9c-3929-4eef-b917-49d5c9ff3d0a",
   "metadata": {},
   "outputs": [
    {
     "name": "stderr",
     "output_type": "stream",
     "text": [
      "2024-01-18 14:18:11.283976: I tensorflow/core/platform/cpu_feature_guard.cc:182] This TensorFlow binary is optimized to use available CPU instructions in performance-critical operations.\n",
      "To enable the following instructions: AVX2 FMA, in other operations, rebuild TensorFlow with the appropriate compiler flags.\n",
      "INFO:pykeen.utils:Using opt_einsum\n"
     ]
    }
   ],
   "source": [
    "import grape\n",
    "import networkx as nx\n",
    "import obonet\n",
    "import os\n",
    "import pandas as pd"
   ]
  },
  {
   "cell_type": "code",
   "execution_count": 2,
   "id": "55b77688-6f74-4de8-bfe4-705eb69e5574",
   "metadata": {},
   "outputs": [],
   "source": [
    "lotus = pd.read_csv(\"./data/molecules/230106_frozen_metadata.csv.gz\", low_memory=False)"
   ]
  },
  {
   "cell_type": "code",
   "execution_count": 3,
   "id": "82ee482e-fe02-4d4c-9646-21ec17350e79",
   "metadata": {},
   "outputs": [],
   "source": [
    "lotus['wd_taxon'] = lotus['organism_wikidata'].str.extract(r\"(Q\\d+)\")\n",
    "lotus['wd_taxon'] = 'wd:' + lotus['wd_taxon']"
   ]
  },
  {
   "cell_type": "markdown",
   "id": "21cb7495-6093-4612-9ab0-2878e8180117",
   "metadata": {},
   "source": [
    "# Prepare species phylogeny\n",
    "\n",
    "We are first going to get from wikidata all the species that are present in lotus. To do so we use the self made function to run it. If the file already exists in our system just load the file and don't run the function. Here the species will be taken from wikidata and will have their corresponding wikidata url as identifier. "
   ]
  },
  {
   "cell_type": "code",
   "execution_count": 4,
   "id": "e7f5d8bd-efe2-44b5-83b7-a0b89095d981",
   "metadata": {},
   "outputs": [],
   "source": [
    "from wikidata import taxonomy_in_edges\n",
    "from tqdm import tqdm\n",
    "tqdm.pandas()"
   ]
  },
  {
   "cell_type": "code",
   "execution_count": 5,
   "id": "270b529f-ee3a-440d-9691-1490d95245ce",
   "metadata": {
    "scrolled": true
   },
   "outputs": [],
   "source": [
    "if os.path.isfile(\"./data/species/species_edges.csv\"):\n",
    "    species_phylo = pd.read_csv(\"./data/species/species_edges.csv\", index_col=0)\n",
    "else:\n",
    "    res = lotus.wd_taxon.drop_duplicates().reset_index(drop=True).progress_apply(taxonomy_in_edges)\n",
    "    species_phylo = pd.concat(list(res)).drop_duplicates().dropna().reset_index(drop=True)\n",
    "    species_phylo.rename(columns={0:\"child\", 1:\"parent\"}, inplace=True)\n",
    "    species_phylo['child'] = 'wd:' + species_phylo['child'].str.extract(r\"(Q\\d+)\")\n",
    "    species_phylo['parent'] = 'wd:' + species_phylo['parent'].str.extract(r\"(Q\\d+)\")\n",
    "    species_phylo['type'] = 'biolink:subclass_of'\n",
    "    species_phylo.to_csv(\"./data/species/species_edges.csv\")"
   ]
  },
  {
   "cell_type": "code",
   "execution_count": 7,
   "id": "a91aae4a-6fa5-41c6-859d-3d9f29db1b37",
   "metadata": {},
   "outputs": [],
   "source": [
    "species_nodes = pd.DataFrame({'node': pd.concat([species_phylo.child, species_phylo.parent]).drop_duplicates().values,\n",
    "                              'type': 'biolink:OrganismTaxon'})"
   ]
  },
  {
   "cell_type": "code",
   "execution_count": 10,
   "id": "fb612704-661a-4e8a-87ca-6d96e04d0083",
   "metadata": {},
   "outputs": [],
   "source": [
    "species_nodes.to_csv(\"./data/species/species_nodes.csv\")"
   ]
  }
 ],
 "metadata": {
  "kernelspec": {
   "display_name": "Python 3 (ipykernel)",
   "language": "python",
   "name": "python3"
  },
  "language_info": {
   "codemirror_mode": {
    "name": "ipython",
    "version": 3
   },
   "file_extension": ".py",
   "mimetype": "text/x-python",
   "name": "python",
   "nbconvert_exporter": "python",
   "pygments_lexer": "ipython3",
   "version": "3.11.4"
  }
 },
 "nbformat": 4,
 "nbformat_minor": 5
}
