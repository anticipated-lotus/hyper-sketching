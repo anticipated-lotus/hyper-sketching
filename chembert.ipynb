{
 "cells": [
  {
   "cell_type": "code",
   "execution_count": 1,
   "metadata": {},
   "outputs": [
    {
     "name": "stderr",
     "output_type": "stream",
     "text": [
      "/home/visanim/.cache/pypoetry/virtualenvs/lotus-hypersketching-ruHkzsWs-py3.12/lib/python3.12/site-packages/tqdm/auto.py:21: TqdmWarning: IProgress not found. Please update jupyter and ipywidgets. See https://ipywidgets.readthedocs.io/en/stable/user_install.html\n",
      "  from .autonotebook import tqdm as notebook_tqdm\n",
      "None of PyTorch, TensorFlow >= 2.0, or Flax have been found. Models won't be available and only tokenizers, configuration and file/data utilities can be used.\n"
     ]
    }
   ],
   "source": [
    "# Load model directly\n",
    "from transformers import AutoTokenizer\n",
    "import pandas as pd\n",
    "import polars as pl\n",
    "\n",
    "tokenizer_zinc = AutoTokenizer.from_pretrained(\"seyonec/ChemBERTa-zinc-base-v1\")"
   ]
  },
  {
   "cell_type": "code",
   "execution_count": 2,
   "metadata": {},
   "outputs": [],
   "source": [
    "lotus = pd.read_csv(\"./data/molecules/230106_frozen_metadata.csv.gz\", low_memory=False)"
   ]
  },
  {
   "cell_type": "code",
   "execution_count": 3,
   "metadata": {},
   "outputs": [],
   "source": [
    "lotus[\"wd_molecule\"] = \"wd:\" + lotus.structure_wikidata.str.extract(r\"(Q\\d+)\")\n",
    "\n",
    "\n",
    "wd = lotus[\n",
    "    [\n",
    "        \"wd_molecule\",\n",
    "        \"structure_smiles_2D\",\n",
    "    ]\n",
    "].drop_duplicates()"
   ]
  },
  {
   "cell_type": "code",
   "execution_count": 4,
   "metadata": {},
   "outputs": [],
   "source": [
    "embedding = {\n",
    "    row[\"wd_molecule\"]: tokenizer_zinc(\n",
    "        row[\"structure_smiles_2D\"],\n",
    "        padding=\"max_length\",\n",
    "        # max_length=256,\n",
    "        return_tensors=\"np\",\n",
    "    )[\"input_ids\"].flatten()\n",
    "    for index, row in wd.iterrows()\n",
    "}"
   ]
  },
  {
   "cell_type": "code",
   "execution_count": 5,
   "metadata": {},
   "outputs": [
    {
     "ename": "ShapeError",
     "evalue": "could not create a new DataFrame: series \"wd:Q43656\" has length 256 while series \"wd:Q425134\" has length 268",
     "output_type": "error",
     "traceback": [
      "\u001b[0;31m---------------------------------------------------------------------------\u001b[0m",
      "\u001b[0;31mShapeError\u001b[0m                                Traceback (most recent call last)",
      "Cell \u001b[0;32mIn[5], line 1\u001b[0m\n\u001b[0;32m----> 1\u001b[0m df \u001b[38;5;241m=\u001b[39m \u001b[43mpl\u001b[49m\u001b[38;5;241;43m.\u001b[39;49m\u001b[43mfrom_dict\u001b[49m\u001b[43m(\u001b[49m\u001b[43membedding\u001b[49m\u001b[43m)\u001b[49m\u001b[38;5;241m.\u001b[39mtranspose(include_header\u001b[38;5;241m=\u001b[39m\u001b[38;5;28;01mTrue\u001b[39;00m)\u001b[38;5;241m.\u001b[39mto_pandas()\n",
      "File \u001b[0;32m~/.cache/pypoetry/virtualenvs/lotus-hypersketching-ruHkzsWs-py3.12/lib/python3.12/site-packages/polars/convert.py:72\u001b[0m, in \u001b[0;36mfrom_dict\u001b[0;34m(data, schema, schema_overrides)\u001b[0m\n\u001b[1;32m     24\u001b[0m \u001b[38;5;28;01mdef\u001b[39;00m \u001b[38;5;21mfrom_dict\u001b[39m(\n\u001b[1;32m     25\u001b[0m     data: Mapping[\u001b[38;5;28mstr\u001b[39m, Sequence[\u001b[38;5;28mobject\u001b[39m] \u001b[38;5;241m|\u001b[39m Mapping[\u001b[38;5;28mstr\u001b[39m, Sequence[\u001b[38;5;28mobject\u001b[39m]] \u001b[38;5;241m|\u001b[39m Series],\n\u001b[1;32m     26\u001b[0m     schema: SchemaDefinition \u001b[38;5;241m|\u001b[39m \u001b[38;5;28;01mNone\u001b[39;00m \u001b[38;5;241m=\u001b[39m \u001b[38;5;28;01mNone\u001b[39;00m,\n\u001b[1;32m     27\u001b[0m     \u001b[38;5;241m*\u001b[39m,\n\u001b[1;32m     28\u001b[0m     schema_overrides: SchemaDict \u001b[38;5;241m|\u001b[39m \u001b[38;5;28;01mNone\u001b[39;00m \u001b[38;5;241m=\u001b[39m \u001b[38;5;28;01mNone\u001b[39;00m,\n\u001b[1;32m     29\u001b[0m ) \u001b[38;5;241m-\u001b[39m\u001b[38;5;241m>\u001b[39m DataFrame:\n\u001b[1;32m     30\u001b[0m \u001b[38;5;250m    \u001b[39m\u001b[38;5;124;03m\"\"\"\u001b[39;00m\n\u001b[1;32m     31\u001b[0m \u001b[38;5;124;03m    Construct a DataFrame from a dictionary of sequences.\u001b[39;00m\n\u001b[1;32m     32\u001b[0m \n\u001b[0;32m   (...)\u001b[0m\n\u001b[1;32m     70\u001b[0m \u001b[38;5;124;03m    └─────┴─────┘\u001b[39;00m\n\u001b[1;32m     71\u001b[0m \u001b[38;5;124;03m    \"\"\"\u001b[39;00m\n\u001b[0;32m---> 72\u001b[0m     \u001b[38;5;28;01mreturn\u001b[39;00m \u001b[43mpl\u001b[49m\u001b[38;5;241;43m.\u001b[39;49m\u001b[43mDataFrame\u001b[49m\u001b[38;5;241;43m.\u001b[39;49m\u001b[43m_from_dict\u001b[49m\u001b[43m(\u001b[49m\n\u001b[1;32m     73\u001b[0m \u001b[43m        \u001b[49m\u001b[43mdata\u001b[49m\u001b[43m,\u001b[49m\u001b[43m \u001b[49m\u001b[43mschema\u001b[49m\u001b[38;5;241;43m=\u001b[39;49m\u001b[43mschema\u001b[49m\u001b[43m,\u001b[49m\u001b[43m \u001b[49m\u001b[43mschema_overrides\u001b[49m\u001b[38;5;241;43m=\u001b[39;49m\u001b[43mschema_overrides\u001b[49m\n\u001b[1;32m     74\u001b[0m \u001b[43m    \u001b[49m\u001b[43m)\u001b[49m\n",
      "File \u001b[0;32m~/.cache/pypoetry/virtualenvs/lotus-hypersketching-ruHkzsWs-py3.12/lib/python3.12/site-packages/polars/dataframe/frame.py:468\u001b[0m, in \u001b[0;36mDataFrame._from_dict\u001b[0;34m(cls, data, schema, schema_overrides)\u001b[0m\n\u001b[1;32m    437\u001b[0m \u001b[38;5;129m@classmethod\u001b[39m\n\u001b[1;32m    438\u001b[0m \u001b[38;5;28;01mdef\u001b[39;00m \u001b[38;5;21m_from_dict\u001b[39m(\n\u001b[1;32m    439\u001b[0m     \u001b[38;5;28mcls\u001b[39m,\n\u001b[0;32m   (...)\u001b[0m\n\u001b[1;32m    443\u001b[0m     schema_overrides: SchemaDict \u001b[38;5;241m|\u001b[39m \u001b[38;5;28;01mNone\u001b[39;00m \u001b[38;5;241m=\u001b[39m \u001b[38;5;28;01mNone\u001b[39;00m,\n\u001b[1;32m    444\u001b[0m ) \u001b[38;5;241m-\u001b[39m\u001b[38;5;241m>\u001b[39m Self:\n\u001b[1;32m    445\u001b[0m \u001b[38;5;250m    \u001b[39m\u001b[38;5;124;03m\"\"\"\u001b[39;00m\n\u001b[1;32m    446\u001b[0m \u001b[38;5;124;03m    Construct a DataFrame from a dictionary of sequences.\u001b[39;00m\n\u001b[1;32m    447\u001b[0m \n\u001b[0;32m   (...)\u001b[0m\n\u001b[1;32m    465\u001b[0m \u001b[38;5;124;03m      any dtypes inferred from the columns param will be overridden.\u001b[39;00m\n\u001b[1;32m    466\u001b[0m \u001b[38;5;124;03m    \"\"\"\u001b[39;00m\n\u001b[1;32m    467\u001b[0m     \u001b[38;5;28;01mreturn\u001b[39;00m \u001b[38;5;28mcls\u001b[39m\u001b[38;5;241m.\u001b[39m_from_pydf(\n\u001b[0;32m--> 468\u001b[0m         \u001b[43mdict_to_pydf\u001b[49m\u001b[43m(\u001b[49m\u001b[43mdata\u001b[49m\u001b[43m,\u001b[49m\u001b[43m \u001b[49m\u001b[43mschema\u001b[49m\u001b[38;5;241;43m=\u001b[39;49m\u001b[43mschema\u001b[49m\u001b[43m,\u001b[49m\u001b[43m \u001b[49m\u001b[43mschema_overrides\u001b[49m\u001b[38;5;241;43m=\u001b[39;49m\u001b[43mschema_overrides\u001b[49m\u001b[43m)\u001b[49m\n\u001b[1;32m    469\u001b[0m     )\n",
      "File \u001b[0;32m~/.cache/pypoetry/virtualenvs/lotus-hypersketching-ruHkzsWs-py3.12/lib/python3.12/site-packages/polars/utils/_construction.py:1002\u001b[0m, in \u001b[0;36mdict_to_pydf\u001b[0;34m(data, schema, schema_overrides, nan_to_null)\u001b[0m\n\u001b[1;32m    994\u001b[0m     data_series \u001b[38;5;241m=\u001b[39m [\n\u001b[1;32m    995\u001b[0m         s\u001b[38;5;241m.\u001b[39m_s\n\u001b[1;32m    996\u001b[0m         \u001b[38;5;28;01mfor\u001b[39;00m s \u001b[38;5;129;01min\u001b[39;00m _expand_dict_scalars(\n\u001b[1;32m    997\u001b[0m             data, schema_overrides\u001b[38;5;241m=\u001b[39mschema_overrides, nan_to_null\u001b[38;5;241m=\u001b[39mnan_to_null\n\u001b[1;32m    998\u001b[0m         )\u001b[38;5;241m.\u001b[39mvalues()\n\u001b[1;32m    999\u001b[0m     ]\n\u001b[1;32m   1001\u001b[0m data_series \u001b[38;5;241m=\u001b[39m _handle_columns_arg(data_series, columns\u001b[38;5;241m=\u001b[39mcolumn_names, from_dict\u001b[38;5;241m=\u001b[39m\u001b[38;5;28;01mTrue\u001b[39;00m)\n\u001b[0;32m-> 1002\u001b[0m pydf \u001b[38;5;241m=\u001b[39m \u001b[43mPyDataFrame\u001b[49m\u001b[43m(\u001b[49m\u001b[43mdata_series\u001b[49m\u001b[43m)\u001b[49m\n\u001b[1;32m   1004\u001b[0m \u001b[38;5;28;01mif\u001b[39;00m schema_overrides \u001b[38;5;129;01mand\u001b[39;00m pydf\u001b[38;5;241m.\u001b[39mdtypes() \u001b[38;5;241m!=\u001b[39m \u001b[38;5;28mlist\u001b[39m(schema_overrides\u001b[38;5;241m.\u001b[39mvalues()):\n\u001b[1;32m   1005\u001b[0m     pydf \u001b[38;5;241m=\u001b[39m _post_apply_columns(\n\u001b[1;32m   1006\u001b[0m         pydf, column_names, schema_overrides\u001b[38;5;241m=\u001b[39mschema_overrides\n\u001b[1;32m   1007\u001b[0m     )\n",
      "\u001b[0;31mShapeError\u001b[0m: could not create a new DataFrame: series \"wd:Q43656\" has length 256 while series \"wd:Q425134\" has length 268"
     ]
    }
   ],
   "source": [
    "df = pl.from_dict(embedding).transpose(include_header=True).to_pandas()"
   ]
  },
  {
   "cell_type": "code",
   "execution_count": null,
   "metadata": {},
   "outputs": [],
   "source": [
    "from sklearn.decomposition import PCA\n",
    "\n",
    "pca = PCA(n_components=50)\n",
    "\n",
    "pca_fitted = pca.fit_transform(df)"
   ]
  },
  {
   "cell_type": "code",
   "execution_count": null,
   "metadata": {},
   "outputs": [],
   "source": [
    "pca_fitted = pd.DataFrame(pca_fitted, index=df.index)\n",
    "pca_fitted_sub_sample = pca_fitted.sample(10000, random_state=42)"
   ]
  },
  {
   "cell_type": "code",
   "execution_count": null,
   "metadata": {},
   "outputs": [],
   "source": [
    "from sklearn.manifold import TSNE\n",
    "\n",
    "tsne = TSNE(\n",
    "    n_components=2,\n",
    "    verbose=2,\n",
    "    random_state=42,\n",
    ")\n",
    "\n",
    "tsne_fitted = tsne.fit_transform(pca_fitted_sub_sample)\n",
    "\n",
    "\n",
    "import seaborn as sns\n",
    "import matplotlib.pyplot as plt\n",
    "\n",
    "plt.figure(figsize=(16, 10))\n",
    "color = (\n",
    "    lotus[lotus.structure_smiles_2D.isin(pca_fitted_sub_sample.index)]\n",
    "    .drop_duplicates(subset=\"structure_smiles_2D\")\n",
    "    .structure_xlogp\n",
    ")\n",
    "\n",
    "sns.scatterplot(x=tsne_fitted[:, 0], y=tsne_fitted[:, 1], hue=color, palette=\"viridis\")"
   ]
  },
  {
   "cell_type": "code",
   "execution_count": null,
   "metadata": {},
   "outputs": [],
   "source": [
    "color = lotus[lotus.structure_smiles_2D.isin(pca_fitted_sub_sample.index)]"
   ]
  },
  {
   "cell_type": "code",
   "execution_count": null,
   "metadata": {},
   "outputs": [],
   "source": [
    "color.drop_duplicates(subset=\"structure_smiles_2D\", inplace=True)"
   ]
  },
  {
   "cell_type": "code",
   "execution_count": null,
   "metadata": {},
   "outputs": [],
   "source": [
    "lotus.columns"
   ]
  }
 ],
 "metadata": {
  "kernelspec": {
   "display_name": "lotus-hypersketching-ruHkzsWs-py3.12",
   "language": "python",
   "name": "python3"
  },
  "language_info": {
   "codemirror_mode": {
    "name": "ipython",
    "version": 3
   },
   "file_extension": ".py",
   "mimetype": "text/x-python",
   "name": "python",
   "nbconvert_exporter": "python",
   "pygments_lexer": "ipython3",
   "version": "3.12.2"
  }
 },
 "nbformat": 4,
 "nbformat_minor": 2
}
