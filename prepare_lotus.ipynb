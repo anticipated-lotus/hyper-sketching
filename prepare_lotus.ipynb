{
 "cells": [
  {
   "cell_type": "code",
   "execution_count": 1,
   "id": "80efecd6-4006-49f8-9316-ae5c0d3b8082",
   "metadata": {},
   "outputs": [],
   "source": [
    "import pandas as pd"
   ]
  },
  {
   "cell_type": "code",
   "execution_count": 2,
   "id": "eb7f4a34-ab1b-4c68-b28e-2526288d3fea",
   "metadata": {},
   "outputs": [],
   "source": [
    "lotus = pd.read_csv(\"./data/molecules/230106_frozen_metadata.csv.gz\", low_memory=False)"
   ]
  },
  {
   "cell_type": "code",
   "execution_count": 4,
   "id": "8bd9dda6-6d5a-4d1d-8e47-e53a3562b73b",
   "metadata": {},
   "outputs": [],
   "source": [
    "lotus_agg = lotus.groupby(['structure_wikidata', 'organism_wikidata']).size().reset_index(name=\"count\")"
   ]
  },
  {
   "cell_type": "code",
   "execution_count": 6,
   "id": "2cd71ef7-0ba9-4853-8fab-3f5cecb2e089",
   "metadata": {},
   "outputs": [],
   "source": [
    "lotus_agg['structure_wikidata'] = 'wd:'+ lotus_agg['structure_wikidata'].str.extract(r\"(Q\\d+)\")"
   ]
  },
  {
   "cell_type": "code",
   "execution_count": 7,
   "id": "54f5b87e-fb47-45f6-ae52-d0478b3dc2ae",
   "metadata": {},
   "outputs": [],
   "source": [
    "lotus_agg['organism_wikidata'] = 'wd:'+ lotus_agg['organism_wikidata'].str.extract(r\"(Q\\d+)\")"
   ]
  },
  {
   "cell_type": "code",
   "execution_count": 8,
   "id": "240cf0a0-dc40-4b05-9e06-0cb18c210c8d",
   "metadata": {},
   "outputs": [],
   "source": [
    "lotus_agg['type'] = 'biolink:in_taxon'"
   ]
  },
  {
   "cell_type": "code",
   "execution_count": 9,
   "id": "c2ea4ec3-3f85-47f7-808a-c75257183272",
   "metadata": {},
   "outputs": [],
   "source": [
    "lotus_agg.to_csv(\"./data/lotus/lotus_edges.csv\")"
   ]
  },
  {
   "cell_type": "code",
   "execution_count": 11,
   "id": "5011024f-6d0b-462e-bb48-1c7b6b1a0db0",
   "metadata": {},
   "outputs": [],
   "source": [
    "molecules = pd.DataFrame({'node': lotus_agg.structure_wikidata,\n",
    "                          'type': 'biolink:ChemicalEntity'}).drop_duplicates().reset_index(drop=True)"
   ]
  },
  {
   "cell_type": "code",
   "execution_count": 12,
   "id": "a150346f-9bb7-4c4d-a49f-11014a7ea3fc",
   "metadata": {},
   "outputs": [],
   "source": [
    "species = pd.DataFrame({'node': lotus_agg.organism_wikidata,\n",
    "                          'type': 'biolink:OrganismTaxon'}).drop_duplicates().reset_index(drop=True)"
   ]
  },
  {
   "cell_type": "code",
   "execution_count": 13,
   "id": "c828ce69-8ee6-46a1-a66d-ae52cd937d9b",
   "metadata": {},
   "outputs": [],
   "source": [
    "nodes = pd.concat([molecules, species]).reset_index(drop=True)\n",
    "nodes.to_csv(\"./data/lotus/lotus_nodes.csv\")"
   ]
  }
 ],
 "metadata": {
  "kernelspec": {
   "display_name": "Python 3 (ipykernel)",
   "language": "python",
   "name": "python3"
  },
  "language_info": {
   "codemirror_mode": {
    "name": "ipython",
    "version": 3
   },
   "file_extension": ".py",
   "mimetype": "text/x-python",
   "name": "python",
   "nbconvert_exporter": "python",
   "pygments_lexer": "ipython3",
   "version": "3.11.4"
  }
 },
 "nbformat": 4,
 "nbformat_minor": 5
}
